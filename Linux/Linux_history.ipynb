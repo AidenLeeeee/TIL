{
 "cells": [
  {
   "cell_type": "markdown",
   "id": "646deec1",
   "metadata": {},
   "source": [
    "# 1.1. Linux"
   ]
  },
  {
   "cell_type": "markdown",
   "id": "7719480f",
   "metadata": {},
   "source": [
    "- Server 에 주로 사용되는 OS"
   ]
  },
  {
   "cell_type": "markdown",
   "id": "069edb21",
   "metadata": {},
   "source": [
    "### **`이전 운영 방식`**"
   ]
  },
  {
   "cell_type": "markdown",
   "id": "3613fa24",
   "metadata": {},
   "source": [
    "- Linux 서버 컴퓨터를 구매 후, 회사에서 직접 관리 및 운영\n",
    "- On-Premise"
   ]
  },
  {
   "cell_type": "markdown",
   "id": "af5f5ee3",
   "metadata": {},
   "source": [
    "### **`최근 운영 방식`**"
   ]
  },
  {
   "cell_type": "markdown",
   "id": "e2629e18",
   "metadata": {},
   "source": [
    "- AWS, GCP, Azure 와 같은 서비스를 활용, 서버 리소스를 대여해 사용\n",
    "- 사용한 리소스만큼 비용 지불\n",
    "- Cloud-Computing"
   ]
  },
  {
   "cell_type": "markdown",
   "id": "c276b988",
   "metadata": {},
   "source": [
    "# 1.2. History"
   ]
  },
  {
   "cell_type": "markdown",
   "id": "a060b8e1",
   "metadata": {},
   "source": [
    "### **`Linux`**"
   ]
  },
  {
   "cell_type": "markdown",
   "id": "46dd3d7f",
   "metadata": {},
   "source": [
    "- Linus Torvalds\n",
    "<br>\n",
    "<br>\n",
    "- 대학에 있는 UNIX 컴퓨터를 집에서 사용하기 위해 개발\n",
    "<br>\n",
    "<br>\n",
    "- 다중 사용자, 다중 작업(시분할 시스템, 멀티 태스킹) 등 을 지원하는 UNIX 와 유사한 OS"
   ]
  },
  {
   "cell_type": "markdown",
   "id": "81580f73",
   "metadata": {},
   "source": [
    "### **`GNU Project`**"
   ]
  },
  {
   "cell_type": "markdown",
   "id": "b3044963",
   "metadata": {},
   "source": [
    "- Richard Matthew Stallman\n",
    "<br>\n",
    "<br>\n",
    "- **GNU**: **G**NU is **N**ot **U**NIX\n",
    "<br>\n",
    "<br>\n",
    "- UNIX 를 여러 회사에서 각자 개발, Source 를 공유하지 않는 문화에 반발\n",
    "<br>\n",
    "<br>\n",
    "- 초기 컴퓨터 개발 공동체의 상호협력 및 공유 중심적인 문화로 돌아갈 것을 주장\n",
    "<br>\n",
    "<br>\n",
    "- 1985년, **GNU 선언문**을 발표\n",
    "<br>\n",
    "<br>\n",
    "- GNU 를 지원하기 위해 자유 소프트웨어 재단(FSF) 설립, GNU 공개 라이선스(GPL) 규약 제공"
   ]
  },
  {
   "cell_type": "markdown",
   "id": "698cbda3",
   "metadata": {},
   "source": [
    "### **`GPL License`**"
   ]
  },
  {
   "cell_type": "markdown",
   "id": "eaeee1d9",
   "metadata": {},
   "source": [
    "- GPL 프로그램은 어떤 목적으로, 어떤 형태로든 사용할 수 있지만, 사용하거나 변경된 프로그램을 다시 배포하는 경우, 동일한 GPL License 로 공개 의무\n",
    "<br>\n",
    "<br>\n",
    "- Open Source 를 장려하기 위함"
   ]
  },
  {
   "cell_type": "markdown",
   "id": "3d322c30",
   "metadata": {},
   "source": [
    "### **`GNU Hurd`**"
   ]
  },
  {
   "cell_type": "markdown",
   "id": "2e89baaa",
   "metadata": {},
   "source": [
    "- OS Kernel 개발 시도 - GNU Hurd\n",
    "<br>\n",
    "<br>\n",
    "- OS 에 필요한 라이브러리, 컴파일러, 에디터, 쉘 개발\n",
    "<br>\n",
    "<br>\n",
    "- 모든 기능의 개발에는 성공했지만, Kernel 개발 실패\n",
    "<br>\n",
    "<br>\n",
    "- 같은 시기, 집에서 OS 를 만들어 사용하고 있던 Linus Torvalds 가 Kernel Source 를 공개\n",
    "<br>\n",
    "<br>\n",
    "- Linux Kernel 에 여러 GNU 기능들을 얹어 완성"
   ]
  }
 ],
 "metadata": {
  "kernelspec": {
   "display_name": "Python 3 (ipykernel)",
   "language": "python",
   "name": "python3"
  },
  "language_info": {
   "codemirror_mode": {
    "name": "ipython",
    "version": 3
   },
   "file_extension": ".py",
   "mimetype": "text/x-python",
   "name": "python",
   "nbconvert_exporter": "python",
   "pygments_lexer": "ipython3",
   "version": "3.10.1"
  }
 },
 "nbformat": 4,
 "nbformat_minor": 5
}

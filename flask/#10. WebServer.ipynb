{
 "cells": [
  {
   "cell_type": "markdown",
   "id": "38ad5e0c",
   "metadata": {},
   "source": [
    "# 1.1. Web Server"
   ]
  },
  {
   "cell_type": "markdown",
   "id": "555cd071",
   "metadata": {},
   "source": [
    "- 웹서버는 HTTP 요청을 읽어, 응답을 해주는 프로그램\n",
    "- 웹서버 프로그램을 서버 상에 설치하여 특정 HTTP 요청에 따라 서비스를 제공해주는 방식으로 웹서비스 구현\n",
    "- 주로 사용되는 웹서버로는 Apache 와 Nginx 존재"
   ]
  },
  {
   "cell_type": "markdown",
   "id": "cd03e304",
   "metadata": {},
   "source": [
    "# 1.2. Apache vs Nginx"
   ]
  },
  {
   "cell_type": "markdown",
   "id": "0b390ac6",
   "metadata": {},
   "source": [
    "### **`Apache`**"
   ]
  },
  {
   "cell_type": "markdown",
   "id": "a9ea5045",
   "metadata": {},
   "source": [
    "- Apache 는 오픈 소스 프로젝트\n",
    "- 지난 수십년 간 사용되어 온 안정성 높은 웹서버"
   ]
  },
  {
   "cell_type": "markdown",
   "id": "945de586",
   "metadata": {},
   "source": [
    "### **`Apache 구동 방식`**"
   ]
  },
  {
   "cell_type": "markdown",
   "id": "fcfe155f",
   "metadata": {},
   "source": [
    "- Apache 는 꾸준히 성능을 개선 중이며, 아래와 같이 두 가지 방식을 지원\n",
    "    - **Prefork MPM**(Multi Processing Module)\n",
    "        - HTTP 요청이 발생할 때마다, Process 복제하여 별도의 Process 에서 해당 요청을 처리\n",
    "\n",
    "    - **Worker MPM**(Multi Processing Module)\n",
    "        - 하나의 Process 안에서 thread 단위로 요청을 처리하는 기능\n",
    "<br>\n",
    "<br>\n",
    "- 하지만 결국, 다수의 HTTP 요청을 처리할 때, Process 혹은 Thread 를 생성해야 한다는 단점이 존재"
   ]
  },
  {
   "cell_type": "markdown",
   "id": "01968286",
   "metadata": {},
   "source": [
    "### **`Nginx 구동 방식`**"
   ]
  },
  {
   "cell_type": "markdown",
   "id": "f24e0666",
   "metadata": {},
   "source": [
    "- **Event Driven**\n",
    "    - 하나의 Process 로 동작, HTTP 요청을 하나의 Event 로 정의\n",
    "    - 각각의 요청을 비동기적으로(병렬적으로) 처리 가능\n",
    "        - 대부분의 HTTP 응답은 결국 Html 파일을 제공하는 것이므로 IO 작업\n",
    "        - IO 작업은 저장매체에서 파일을 읽어오는 것이므로 CPU 작업과는 거리가 멀다.\n",
    "        - 따라서, 하나의 IO 작업으로 각각의 HTTP 요청들을 포워딩하고, 요청 순이 아닌, 요청 작업이 완료된 순으로 처리\n",
    "    - HTTP 요청마다 Process 혹은 Thread 를 생성하지 않으므로, 시스템 리소스 관리에 장점\n",
    "    - 보통 많은 접속자가 있을 경우, 시스템 자원 관리의 효율성 때문에 Nginx 가 일반적으로 성능이 좋을 수 있음\n",
    "        - Html 파일의 사이즈, 사용하는 추가 기능 등등의 다양한 조건들 때문에 모든 상황에서 성능이 우수하다고는 볼 수 없다."
   ]
  },
  {
   "cell_type": "code",
   "execution_count": null,
   "id": "1d4d09c7",
   "metadata": {},
   "outputs": [],
   "source": []
  }
 ],
 "metadata": {
  "kernelspec": {
   "display_name": "Python 3 (ipykernel)",
   "language": "python",
   "name": "python3"
  },
  "language_info": {
   "codemirror_mode": {
    "name": "ipython",
    "version": 3
   },
   "file_extension": ".py",
   "mimetype": "text/x-python",
   "name": "python",
   "nbconvert_exporter": "python",
   "pygments_lexer": "ipython3",
   "version": "3.10.1"
  }
 },
 "nbformat": 4,
 "nbformat_minor": 5
}

{
 "cells": [
  {
   "cell_type": "markdown",
   "id": "cf2d6ec0",
   "metadata": {},
   "source": [
    "# 1.1. Flask Rest API with Vue"
   ]
  },
  {
   "cell_type": "markdown",
   "id": "7a0962cb",
   "metadata": {},
   "source": [
    "### **`CDN`** ?"
   ]
  },
  {
   "cell_type": "markdown",
   "id": "7a852202",
   "metadata": {},
   "source": [
    "- **Contents Delivery Network**\n",
    "- 지리적, 물리적으로 떨어져 있는 사용자에게 컨텐츠 제공자의 컨텐츠를 더 빠르게 제공할 수 있는 기술\n",
    "- 사용자가 멀리 있는 서버로부터 컨텐츠를 다운로드 받는 경우에는 시간이 오래 걸리게 되므로, 사용자와 가까운 **Cache Server** 에 컨텐츠를 저장 및 제공\n",
    "- **CDN** 을 사용하면 **CSS**, **JS** 파일을 로컬 서버에 저장하지 않고도, 웹페이지 오픈 시 자동으로 해당 파일들을 다운로드하여 제공받을 수 있다."
   ]
  },
  {
   "cell_type": "markdown",
   "id": "1f315249",
   "metadata": {},
   "source": [
    "### **`Vue + Axios`**"
   ]
  },
  {
   "cell_type": "markdown",
   "id": "683c4f01",
   "metadata": {},
   "source": [
    "- **Axios** 를 활용하여 **Flask Rest API** 를 호출할 수 있다.\n",
    "- **Vue** 와 **Axios** 를 추가하는 코드를 **body** 태그 가장 아래에 위치시킨다."
   ]
  },
  {
   "cell_type": "markdown",
   "id": "2ce74e58",
   "metadata": {},
   "source": [
    "```html\n",
    "<script src=\"https://cdn.jsdelivr.net/npm/vue/dist/vue.js\"></script>\n",
    "<script src=\"https://unpkg.com/axios/dist/axios.min.js\"></script>\n",
    "```"
   ]
  },
  {
   "cell_type": "markdown",
   "id": "f271c3b3",
   "metadata": {},
   "source": [
    "- 이후 **html** 내에서 **Vue** 를 통해 관리될 부분을 위와 같이 **div** 태그로 감싼다.\n",
    "- 이 때, **id** 는 **app** 으로 지정하였다.\n",
    "- 이를 통해 **html** 에서 해당 부분을 동적으로 변경할 수 있으며, **Vue** 는 해당 **div** 태그 내에 접근이 가능하다."
   ]
  },
  {
   "cell_type": "markdown",
   "id": "65ad3427",
   "metadata": {},
   "source": [
    "```html\n",
    "<div id=\"app\">\n",
    "    <button type=\"button\" class=\"btn btn-primary\">GET</button>\n",
    "</div>\n",
    "```"
   ]
  },
  {
   "cell_type": "markdown",
   "id": "52639c9b",
   "metadata": {},
   "source": [
    "- 이제 변경시킬 요소에 **이벤트 속성** 과 **실행될 함수명** 을 추가해준다.\n",
    "- **`<v-on:{event}=\"{func_name}\">`**"
   ]
  },
  {
   "cell_type": "markdown",
   "id": "23b67ff1",
   "metadata": {},
   "source": [
    "```html\n",
    "<div id=\"app\">\n",
    "    <button type=\"button\" class=\"btn btn-primary\" v-on:click=\"axios_test\">GET</button>\n",
    "</div>\n",
    "```"
   ]
  },
  {
   "cell_type": "markdown",
   "id": "a10ffae4",
   "metadata": {},
   "source": [
    "- 마지막으로 **axios_test** 함수의 동작을 정의해주면 된다."
   ]
  },
  {
   "cell_type": "markdown",
   "id": "86e068e1",
   "metadata": {},
   "source": [
    "```html\n",
    "<script>\n",
    "      const app = new Vue({\n",
    "        el: \"#app\",\n",
    "        methods: {\n",
    "          axios_test() {\n",
    "            axios(\"http://localhost:8082/test\", {\n",
    "              method: \"get\",\n",
    "            })\n",
    "              .then((response) => {\n",
    "                console.log(response);\n",
    "              })\n",
    "              .catch((error) => {\n",
    "                console.log(error);\n",
    "              });\n",
    "          },\n",
    "        },\n",
    "      });\n",
    "    </script>\n",
    "```"
   ]
  },
  {
   "cell_type": "markdown",
   "id": "94f8c0bd",
   "metadata": {},
   "source": [
    "- **el** 에서는 앞서 설정한 **div** 태그의 **id** 와 동일한 값을 지정해주어야 한다.\n",
    "- 이제 웹페이지가 오픈되면, **id** 가 **app** 인 **div** 태그를 관리하는 **Vue** 객체가 생성되게 된다.\n",
    "- 이어서, 생성된 **Vue** 객체 내에는 **axios_test** 라는 이름의 메서드가 존재하는 것을 확인할 수 있다.\n",
    "- **axios_test()** 내부의 **axios** 를 통해 해당 **URL** 에 **GET** 요청이 전달되게 된다."
   ]
  },
  {
   "cell_type": "code",
   "execution_count": null,
   "id": "c854b0a3",
   "metadata": {},
   "outputs": [],
   "source": []
  }
 ],
 "metadata": {
  "kernelspec": {
   "display_name": "Python 3 (ipykernel)",
   "language": "python",
   "name": "python3"
  },
  "language_info": {
   "codemirror_mode": {
    "name": "ipython",
    "version": 3
   },
   "file_extension": ".py",
   "mimetype": "text/x-python",
   "name": "python",
   "nbconvert_exporter": "python",
   "pygments_lexer": "ipython3",
   "version": "3.10.1"
  }
 },
 "nbformat": 4,
 "nbformat_minor": 5
}

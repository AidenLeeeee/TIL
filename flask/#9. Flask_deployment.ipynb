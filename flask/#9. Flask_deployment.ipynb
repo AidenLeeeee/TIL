{
 "cells": [
  {
   "cell_type": "markdown",
   "id": "6e8b8241",
   "metadata": {},
   "source": [
    "# 1.1. Deployment"
   ]
  },
  {
   "cell_type": "markdown",
   "id": "0d9c62ed",
   "metadata": {},
   "source": [
    "- 클라우드 서비스(AWS, GCP...) 를 사용하여, Linux 서버에 Docker 기반의 배포가 일반적인 형태\n",
    "<br>\n",
    "<br>\n",
    "- 이를 위해서는 클라우드 서비스 사용법, Linux 사용법, Docker 사용법 숙지\n",
    "    - 이외에 AWS 기능과 Python 을 활용하여 자동 배포 기능을 구현 가능"
   ]
  },
  {
   "cell_type": "markdown",
   "id": "2665eb52",
   "metadata": {},
   "source": [
    "### **`Simple Ver.`**"
   ]
  },
  {
   "cell_type": "markdown",
   "id": "390cd858",
   "metadata": {},
   "source": [
    "- **ngrok** 를 통해 자신의 PC 에서 동작하는 웹서버를 외부에서도 접속 가능하도록 할 수 있음"
   ]
  },
  {
   "cell_type": "markdown",
   "id": "d7f284a4",
   "metadata": {},
   "source": [
    "```\n",
    "brew install --cask ngrok\n",
    "```"
   ]
  },
  {
   "cell_type": "markdown",
   "id": "084ae2c6",
   "metadata": {},
   "source": [
    "- **ngrok --help** 로 다양한 명령어 확인 가능"
   ]
  },
  {
   "cell_type": "markdown",
   "id": "79f0d41d",
   "metadata": {},
   "source": [
    "- **VSCode** 로 이동하여 8080 port 로 **웹서버 구동**"
   ]
  },
  {
   "cell_type": "markdown",
   "id": "b7309565",
   "metadata": {},
   "source": [
    "```\n",
    "ngrok http 8080\n",
    "```"
   ]
  }
 ],
 "metadata": {
  "kernelspec": {
   "display_name": "Python 3 (ipykernel)",
   "language": "python",
   "name": "python3"
  },
  "language_info": {
   "codemirror_mode": {
    "name": "ipython",
    "version": 3
   },
   "file_extension": ".py",
   "mimetype": "text/x-python",
   "name": "python",
   "nbconvert_exporter": "python",
   "pygments_lexer": "ipython3",
   "version": "3.10.1"
  }
 },
 "nbformat": 4,
 "nbformat_minor": 5
}

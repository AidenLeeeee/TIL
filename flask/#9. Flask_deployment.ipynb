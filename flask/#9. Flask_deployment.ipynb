{
 "cells": [
  {
   "cell_type": "markdown",
   "id": "6e8b8241",
   "metadata": {},
   "source": [
    "# 1.1. Ngrok"
   ]
  },
  {
   "cell_type": "markdown",
   "id": "2665eb52",
   "metadata": {},
   "source": [
    "### **`Simple Deployment with Ngrok`**"
   ]
  },
  {
   "cell_type": "markdown",
   "id": "390cd858",
   "metadata": {},
   "source": [
    "- **ngrok** 를 통해 자신의 PC 에서 동작하는 웹서버를 외부에서도 접속 가능하도록 할 수 있음"
   ]
  },
  {
   "cell_type": "markdown",
   "id": "d7f284a4",
   "metadata": {},
   "source": [
    "```\n",
    "brew install --cask ngrok\n",
    "```"
   ]
  },
  {
   "cell_type": "markdown",
   "id": "084ae2c6",
   "metadata": {},
   "source": [
    "- **ngrok --help** 로 다양한 명령어 확인 가능"
   ]
  },
  {
   "cell_type": "markdown",
   "id": "79f0d41d",
   "metadata": {},
   "source": [
    "- **VSCode** 로 이동하여 8080 port 로 **웹서버 구동**"
   ]
  },
  {
   "cell_type": "markdown",
   "id": "b7309565",
   "metadata": {},
   "source": [
    "```\n",
    "ngrok http 8080\n",
    "```"
   ]
  },
  {
   "cell_type": "markdown",
   "id": "c082c1ee",
   "metadata": {},
   "source": [
    "# 1.2. Server"
   ]
  },
  {
   "cell_type": "markdown",
   "id": "34538af9",
   "metadata": {},
   "source": [
    "- Server 는 24h 구동이 필요, 웹서버와 같이 특정 목적으로 사용되는 프로그램이 많음\n",
    "<br>\n",
    "<br>\n",
    "- 다양한 Linux 패키지 업데이트로 인해 환경이 수시로 변화\n",
    "<br>\n",
    "<br>"
   ]
  },
  {
   "cell_type": "markdown",
   "id": "51d24f27",
   "metadata": {},
   "source": [
    "### **`Docker`**"
   ]
  },
  {
   "cell_type": "markdown",
   "id": "abf9d28d",
   "metadata": {},
   "source": [
    "- 도커는 서버환경을 감싸 도커 레벨에서 서버를 다룰 수 있도록 제공\n",
    "    - 서버 이전, 서버 패키지 버전 등의 이유로 일일이 서버 환경 세팅 불필요\n",
    "    - Docker 를 활용해 서버에서 단순히 실행"
   ]
  },
  {
   "cell_type": "markdown",
   "id": "45d34770",
   "metadata": {},
   "source": [
    "# 1.3. Architecture"
   ]
  },
  {
   "cell_type": "markdown",
   "id": "09568fce",
   "metadata": {},
   "source": [
    "### **`Monolithic vs MSA`**"
   ]
  },
  {
   "cell_type": "markdown",
   "id": "c88e945b",
   "metadata": {},
   "source": [
    "- **Monolithic**\n",
    "    - 하나의 서버에 모든 기능\n",
    "        - **1 Gen**: User -- Internet -- Web Server (Static HTML)\n",
    "        - **2 Gen**: User -- Internet -- web Server (CGI + DB)\n",
    "        - **3 Gen**: User -- Internet -- Web Server (MVC Pattern)"
   ]
  },
  {
   "cell_type": "markdown",
   "id": "fda4939a",
   "metadata": {},
   "source": [
    "- **Micro Service Architecture(MSA)**\n",
    "    - 서비스가 방대해지면서, 하나의 서버에 모든 기능을 추가할 시 전체 시스템 장애 발생 위험\n",
    "    - 여러 서버에 각 기능을 분산, Rest API 통신을 통해 전체 서비스 운영"
   ]
  },
  {
   "cell_type": "markdown",
   "id": "cffba464",
   "metadata": {},
   "source": [
    "### **`MSA with Docker`**"
   ]
  },
  {
   "cell_type": "markdown",
   "id": "703ef1d7",
   "metadata": {},
   "source": [
    "- 각각의 **Micro Service** 를 **Docker** 로 개발\n",
    "    - Docker\n",
    "<br>\n",
    "<br>\n",
    "- 초대용량 서비스 유지 보수를 위한 **Server Handling**\n",
    "    - Kubernetes\n",
    "<br>\n",
    "<br>\n",
    "- 잦은 배포(Small Releases) 를 지원하는 **자동 배포 시스템**\n",
    "    - 개발자가 git 에 신규 코드 release\n",
    "    - Jenkins / Travis CI 등 으로 Server 자동 재가동\n",
    "        - 배포 자동화\n",
    "<br>\n",
    "<br>\n",
    "- 잦은 배포(Small Releases) 시, **서비스 중단 X**\n",
    "    - 무중단 배포"
   ]
  },
  {
   "cell_type": "markdown",
   "id": "285a323e",
   "metadata": {},
   "source": [
    "* Kubernetes, 무중단 배포에서 **Docker** 는 기본이자 핵심"
   ]
  },
  {
   "cell_type": "markdown",
   "id": "4fb4136f",
   "metadata": {},
   "source": [
    "# 1.4. Devops"
   ]
  },
  {
   "cell_type": "markdown",
   "id": "cecb0b35",
   "metadata": {},
   "source": [
    "- 서비스가 방대해지면서, 조직의 운영도 변화"
   ]
  },
  {
   "cell_type": "markdown",
   "id": "4e6ffd6b",
   "metadata": {},
   "source": [
    "### **`기존의 서비스 조직`**"
   ]
  },
  {
   "cell_type": "markdown",
   "id": "bb0d0ae9",
   "metadata": {},
   "source": [
    "- **개발팀**: 짧은 주기로 개발 및 런칭\n",
    "- **운영팀**: 개발팀의 개발 이후, 런칭 직전에 Trouble Shooting\n",
    "    - 개발팀과 운영팀 간 소통의 어려움"
   ]
  },
  {
   "cell_type": "markdown",
   "id": "360d2ef2",
   "metadata": {},
   "source": [
    "### **`최근의 서비스 조직`**"
   ]
  },
  {
   "cell_type": "markdown",
   "id": "00246f88",
   "metadata": {},
   "source": [
    "- **장바구니팀**\n",
    "- **검색팀**\n",
    "- **상품팀**\n",
    "    - MSA Architecture 로 인한 개발팀의 세분화\n",
    "    - 팀별 짧은 주기로 개발 후 수시로 런칭(Launching, Release)\n",
    "    - 각 팀별 소통의 어려움 발생(개발팀 간, 개발팀과 운영팀 간)\n",
    "- **Devops** 팀\n",
    "    - 운영 + 개발\n",
    "    - 서비스의 운영과 운영 시스템 개발\n",
    "    - 자동 배포 및 효율화를 위한 시스템 구축, 고도화"
   ]
  },
  {
   "cell_type": "code",
   "execution_count": null,
   "id": "5a80fcaf",
   "metadata": {},
   "outputs": [],
   "source": []
  }
 ],
 "metadata": {
  "kernelspec": {
   "display_name": "Python 3 (ipykernel)",
   "language": "python",
   "name": "python3"
  },
  "language_info": {
   "codemirror_mode": {
    "name": "ipython",
    "version": 3
   },
   "file_extension": ".py",
   "mimetype": "text/x-python",
   "name": "python",
   "nbconvert_exporter": "python",
   "pygments_lexer": "ipython3",
   "version": "3.10.1"
  }
 },
 "nbformat": 4,
 "nbformat_minor": 5
}

{
 "cells": [
  {
   "cell_type": "markdown",
   "id": "4be7449d",
   "metadata": {},
   "source": [
    "# 1.1. Flask 에러 처리"
   ]
  },
  {
   "cell_type": "markdown",
   "id": "5d97b587",
   "metadata": {},
   "source": [
    "### **`Error Handling`**"
   ]
  },
  {
   "cell_type": "markdown",
   "id": "2b3da560",
   "metadata": {},
   "source": [
    "- **errorhandler** 를 활용하여 **HTTP** 오류 코드가 반환되는 페이지를 정의할 수 있다.\n",
    "    - 이 때, **return** 의 두 번째 **parameter** 로 **status code** 를 명시해주지 않으면 **200 OK** 로 인지"
   ]
  },
  {
   "cell_type": "code",
   "execution_count": null,
   "id": "b9acc39d",
   "metadata": {},
   "outputs": [],
   "source": [
    "from flask import Flask \n",
    "import requests\n",
    "\n",
    "app = Flask(__name__)   \n",
    "\n",
    "@app.errorhandler(404)\n",
    "def page_not_found(error):\n",
    "    return \"<h1>404 Error</h1>\", 404\n",
    "\n",
    "@app.route(\"/google\")\n",
    "def get_google():\n",
    "    response = requests.get(\"http://www.google.co.kr\")\n",
    "    return response.text \n",
    "\n",
    "if __name__ == \"__main__\":\n",
    "    app.run(host=\"0.0.0.0\", port=\"8080\")"
   ]
  },
  {
   "cell_type": "markdown",
   "id": "5f3b5c3b",
   "metadata": {},
   "source": [
    "# 1.2. Flask 로그 처리"
   ]
  },
  {
   "cell_type": "markdown",
   "id": "70398ba5",
   "metadata": {},
   "source": [
    "### **`Logging`**"
   ]
  },
  {
   "cell_type": "markdown",
   "id": "098463b0",
   "metadata": {},
   "source": [
    "- 서버는 24시간 동작하기 때문에 발생한 문제들을 파악하기 위해 **logging** 을 사용하여야 한다.\n",
    "- 사용자 모니터링, 해킹 확인 등 다양한 문제들에 대해 **logging** 을 사용할 수 있다."
   ]
  },
  {
   "cell_type": "markdown",
   "id": "82329fb8",
   "metadata": {},
   "source": [
    "- 이를 위해 **Python** 에서는 로그를 다루는 **logging** 라이브러리를 제공하고 있다.\n",
    "- 이렇게 작성된 각각의 **logging** 정보들은 레벨을 가지고 있으며,\n",
    "- **log** 의 레벨에 따라 출력을 제한할 수 있다.\n",
    "    - **DEBUG > INFO > WARNING > ERROR > CRITICAL**\n",
    "<br>\n",
    "<br>\n",
    "- **log** 들은 일반적으로 특정 **log file** 에 저장된다."
   ]
  },
  {
   "cell_type": "code",
   "execution_count": null,
   "id": "bd0d82a2",
   "metadata": {},
   "outputs": [],
   "source": [
    "import logging\n",
    "\n",
    "logging.basicConfig(filename='test.log', level=logging.ERROR)\n",
    "\n",
    "logging.debug(\"debug\")        # DEBUG:root:debug\n",
    "logging.info(\"info\")          # INFO:root:info\n",
    "logging.warning(\"warning\")    # WARNING:root:warning\n",
    "logging.error(\"error\")        # ERROR:root:error\n",
    "logging.critical(\"critical\")  # CRITICAL:root:critical"
   ]
  },
  {
   "cell_type": "markdown",
   "id": "f2abf655",
   "metadata": {},
   "source": [
    "- **basicConfig** 에서 **log file** 의 이름과 출력할 **log** 의 레벨을 명시할 수 있다.\n",
    "- **log** 레벨별 함수를 사용하여 메시지를 파일에 저장해줄 수 있다."
   ]
  },
  {
   "cell_type": "markdown",
   "id": "8cc67a0d",
   "metadata": {},
   "source": [
    "### **`Logging in Flask`**"
   ]
  },
  {
   "cell_type": "markdown",
   "id": "9adc97e9",
   "metadata": {},
   "source": [
    "- **logging** 라이브러리를 활용하여 Flask 에서 **logging** 기능을 사용할 수 있다. **(Flask logging 관련 함수 + logging 라이브러리)**\n",
    "<br>\n",
    "<br>\n",
    "- 주요 **logging Handler**\n",
    "    - **FileHandler**: 파일로 로그를 저장\n",
    "    - **RotatingFileHandler**: 파일로 로그를 저장하되, 파일이 정해진 사이즈를 넘어가면 새로운 파일로 생성\n",
    "        - maxBytes - 파일 사이즈\n",
    "        - backupCount - 파일 개수\n",
    "        - 전체 파일 다 쓰면, 처음부터 작성\n",
    "    - **NTEventLogHandler**: 윈도우 시스템 로그로 저장\n",
    "    - **SysLogHandler**: Unix 계열 시스템의 syslog 로 저장"
   ]
  },
  {
   "cell_type": "code",
   "execution_count": null,
   "id": "f8f2a043",
   "metadata": {},
   "outputs": [],
   "source": [
    "from flask import Flask \n",
    "import requests\n",
    "\n",
    "app = Flask(__name__)\n",
    "\n",
    "app.debug = False\n",
    "\n",
    "if not app.debug:\n",
    "    import logging\n",
    "    from logging.handlers import RotatingFileHandler\n",
    "    file_handler = RotatingFileHandler('dave_server.log', maxBytes=2000, backupCount=10) \n",
    "    file_handler.setLevel(logging.WARNING)\n",
    "    app.logger.addHandler(file_handler)"
   ]
  },
  {
   "cell_type": "markdown",
   "id": "4df51728",
   "metadata": {},
   "source": [
    "- **Production** 환경일 경우, **logger** 를 세팅하고 추가해준다.\n",
    "- 세팅이 완료된 **logger** 는 **`app.logger.addHandler()`** 로 추가해주어야만 **app.logger** 로 사용이 가능하다."
   ]
  },
  {
   "cell_type": "code",
   "execution_count": null,
   "id": "03f6fa39",
   "metadata": {},
   "outputs": [],
   "source": [
    "@app.errorhandler(404)\n",
    "def page_not_found(error):\n",
    "    app.logger.error(error)\n",
    "    return \"<h1>404 Error</h1>\", 404\n",
    "\n",
    "if __name__ == \"__main__\":\n",
    "    app.run(host=\"0.0.0.0\", port=\"8080\")"
   ]
  },
  {
   "cell_type": "markdown",
   "id": "829fb1ff",
   "metadata": {},
   "source": [
    "- **app.logger** 는 앞서 추가해준 **RotatingFileHandler** 이다.\n",
    "- 따라서, **`app.logger.error(error)`** 는 **RotatingFileHandler** 에 **error** 레벨의 로그를 작성하겠다는 의미이다.\n",
    "- 이 때, 괄호 안에 **parameter** 는 함수에서 받은 **error** 로, **error msg** 자체를 로그 내용으로 사용하게 된다.\n",
    "- 따라서 괄호 안의 **parameter** 는 커스터마이징이 가능하다."
   ]
  }
 ],
 "metadata": {
  "kernelspec": {
   "display_name": "Python 3 (ipykernel)",
   "language": "python",
   "name": "python3"
  },
  "language_info": {
   "codemirror_mode": {
    "name": "ipython",
    "version": 3
   },
   "file_extension": ".py",
   "mimetype": "text/x-python",
   "name": "python",
   "nbconvert_exporter": "python",
   "pygments_lexer": "ipython3",
   "version": "3.10.1"
  }
 },
 "nbformat": 4,
 "nbformat_minor": 5
}

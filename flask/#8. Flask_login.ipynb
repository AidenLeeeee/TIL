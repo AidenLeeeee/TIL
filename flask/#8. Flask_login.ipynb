{
 "cells": [
  {
   "cell_type": "markdown",
   "id": "f79b3824",
   "metadata": {},
   "source": [
    "# 1.1. Flask_Login"
   ]
  },
  {
   "cell_type": "markdown",
   "id": "129174f6",
   "metadata": {},
   "source": [
    "### **`flask_login`**"
   ]
  },
  {
   "cell_type": "markdown",
   "id": "a1c60343",
   "metadata": {},
   "source": [
    "- 사용자 로그인 시, 사용자의 session 정보를 **HTTP Response** 에 담아 전달\n",
    "- 이를 기반으로 Flask 에서 사용자 식별 가능"
   ]
  },
  {
   "cell_type": "markdown",
   "id": "eae1ee4b",
   "metadata": {},
   "source": [
    "### **`동작 원리`**"
   ]
  },
  {
   "cell_type": "markdown",
   "id": "59b9dd04",
   "metadata": {},
   "source": [
    "- 사용자 로그인 시, 로그인 정보를 User Class 에서 객체로 가져오고, **LoginManager()** 에 추가하여 **Session** 생성\n",
    "    - Flask 서버가 리턴 시에 **Session** 정보를 웹페이지에 전달\n",
    "<br>\n",
    "<br>\n",
    "- current_user 객체에 해당 객체 저장\n",
    "    - current_user.id: 사용자 ID (unicode)\n",
    "    - cuurrent_user.is_authenticated: 사용자 로그인 여부 (Boolean)\n",
    "    - attr 추가 가능\n",
    "<br>\n",
    "<br>\n",
    "- 로그인 후 웹페이지로 Flask 서버 접근 시, 전달받은 **Session** 의 정보를 기반으로 접근\n",
    "    - **Session** 정보에서 id 추출, **LoginManager()** 에서 다루는 id 일 경우, **@login_required** Decorator 추가된 API 접근 허용\n",
    "<br>\n",
    "<br>\n",
    "- 사용자 로그아웃 시, **LoginManager()** 에서 id 제거"
   ]
  },
  {
   "cell_type": "markdown",
   "id": "5bc662a5",
   "metadata": {},
   "source": [
    "### **`User Class`** 구현"
   ]
  },
  {
   "cell_type": "markdown",
   "id": "ad7b8030",
   "metadata": {},
   "source": [
    "- **User Class** 는 **flask_login** 라이브러리의 **UserMixin** 클래스를 상속받아 구현이 가능\n",
    "    - **is_authenticated**: This property should return True if the user is authenticated\n",
    "    - **is_active**: This property should return True if this is an active user (계정 중지된 사용자 확인)\n",
    "    - **is_anonymous**: This property should return True if this is an anonymous user\n",
    "    - **get_id()**: This method must return a unicode that uniquely identifies this user, and can be used to load the user from the user_loader callback\n",
    "<br>\n",
    "<br>\n",
    "- 필요 시, Override 가능"
   ]
  },
  {
   "cell_type": "markdown",
   "id": "b888388d",
   "metadata": {},
   "source": [
    "# 1.2. Flask_login Code"
   ]
  },
  {
   "cell_type": "markdown",
   "id": "4c67b99f",
   "metadata": {},
   "source": [
    "### **`Initialization`**"
   ]
  },
  {
   "cell_type": "markdown",
   "id": "43464e05",
   "metadata": {},
   "source": [
    "- **Session Generation** 을 위해 **Flask app** 에서 **Secret Key** 를 정의\n",
    "\n",
    "```python\n",
    "app.secret_key = os.urandom(24)\n",
    "```"
   ]
  },
  {
   "cell_type": "markdown",
   "id": "3a1f3ddd",
   "metadata": {},
   "source": [
    "- **flask_login** 라이브러리에서 **Session** 관리\n",
    "    - 아래 코드에서 \"strong\" 적용 시, 세션 보안 강화\n",
    "\n",
    "```python\n",
    "login_manager = LoginManager()\n",
    "login_manager.init_app(app)\n",
    "login_manager.session_protection = \"strong\"\n",
    "```"
   ]
  },
  {
   "cell_type": "markdown",
   "id": "c94e30d3",
   "metadata": {},
   "source": [
    "### **`Session 생성`**"
   ]
  },
  {
   "cell_type": "markdown",
   "id": "2e660b56",
   "metadata": {},
   "source": [
    "- **User Class** 를 기반으로 사용자 객체 생성 후, **flask_login.login_user()** 에 사용자 객체 삽입하면 **해당 사용자 Session** 생성\n",
    "<br>\n",
    "<br>\n",
    "- 만들어진 **Session** 은 **HTTP Response** 에 담겨 사용자의 웹브라우저에 전달\n",
    "    - **HTTP Response** 의 **Set-Cookie** 헤더에 **Session** 담아 전달\n",
    "    - 사용자의 웹브라우저에서는 이후 해당 서버로 **HTTP Request** 전송 시 **Session** 정보를 자동으로 담아 전송\n",
    "    - **flask_login** 은 **HTTP Request** 에서 **Session** 정보 추출 후 사용자 식별\n",
    "<br>\n",
    "<br>\n",
    "- **Session** 생성 시, **HTTP Request** 의 **IP** 와 **user agent** 등의 정보를 함께 참조하여 **Session** 생성\n",
    "    - **Session** 이 탈취당하더라도, 해킹이 어려움\n",
    "    - 동일한 **Session** 으로 요청을 보내더라도 **HTTP Response** 는 실제 사용자 **IP** 로 전달되어 보안에 용이"
   ]
  },
  {
   "cell_type": "markdown",
   "id": "8ed54edd",
   "metadata": {},
   "source": [
    "```python\n",
    "from flask_login import login_user\n",
    "\n",
    "user = User.create(user_email, blog_id)\n",
    "login_user(user)\n",
    "```"
   ]
  },
  {
   "cell_type": "markdown",
   "id": "1c730931",
   "metadata": {},
   "source": [
    "### **`사전 선언 함수`**"
   ]
  },
  {
   "cell_type": "markdown",
   "id": "bf6b2f49",
   "metadata": {},
   "source": [
    "- 로그인 후 최초 **current_user** 호출 시\n",
    "    - 사용자 정보를 **flask_login** 과 함께 연동된 **User Class** 를 통해 가져옴"
   ]
  },
  {
   "cell_type": "markdown",
   "id": "7125b9b8",
   "metadata": {},
   "source": [
    "```python\n",
    "@login_manager.user_loader\n",
    "def load_user(user_id):\n",
    "    return User.get(user_id)\n",
    "```"
   ]
  },
  {
   "cell_type": "markdown",
   "id": "8209f7d9",
   "metadata": {},
   "source": [
    "- **@login_required** Decorator 로 로그인 후, 페이지 접근 제어 가능\n",
    "    - 로그인이 안된 상태로 특정 페이지 접근 시, **@login_manager.unauthorized_handler** 에 정의된 함수를 호출"
   ]
  },
  {
   "cell_type": "markdown",
   "id": "3d506a5d",
   "metadata": {},
   "source": [
    "```python\n",
    "@login_manager.unauthorized_handler\n",
    "def unauthorized():\n",
    "    return make_response(jsonify(success=False), 401)\n",
    "```"
   ]
  },
  {
   "cell_type": "markdown",
   "id": "12d21f86",
   "metadata": {},
   "source": [
    "### **`User Class 구현`**"
   ]
  },
  {
   "cell_type": "markdown",
   "id": "8e5a098e",
   "metadata": {},
   "source": [
    "- **User Class** 는 **UserMixin Class** 를 상속\n",
    "- **attribute** 로 사용자를 식별할 수 있는 id 를 가지고 있어야 한다."
   ]
  },
  {
   "cell_type": "markdown",
   "id": "d1ece688",
   "metadata": {},
   "source": [
    "```python\n",
    "class User(UserMixin):\n",
    "    def __init__(self, user_id, user_email, blog_id):\n",
    "        self.id = user_id\n",
    "        self.user_email = user_email\n",
    "        self.blog_id = blog_id\n",
    "        \n",
    "    def get_id(self):\n",
    "        return str(self.id)\n",
    "    \n",
    "    @staticmethod\n",
    "    def get(user_id):\n",
    "        mysql_db = conn_mysqldb()\n",
    "        db_cursor = mysql_db.cursor()\n",
    "        sql = \"SELECT * FROM user_info WHERE USER_ID = '\" + \\\n",
    "            str(user_id) + \"'\"\n",
    "        db_cursor.execute(sql)\n",
    "        user = db_cursor.fetchone()\n",
    "        if not user:\n",
    "            db_cursor.close()\n",
    "            return None\n",
    "        \n",
    "        print(user)\n",
    "        user = User(user_id=user[0], user_email=user[1], blog_id=user[2])\n",
    "        db_cursor.close()\n",
    "        return user\n",
    "    \n",
    "    @staticmethod\n",
    "    def find(user_email):\n",
    "        mysql_db = conn_mysqldb()\n",
    "        db_cursor = mysql_db.cursor()\n",
    "        sql = \"SELECT * FROM user_info WHERE USER_EMAIL = '\" + \\\n",
    "            str(user_email) + \"'\"\n",
    "        db_cursor.execute(sql)\n",
    "        user = db_cursor.fetchone()\n",
    "        if not user:\n",
    "            db_cursor.close()\n",
    "            return None\n",
    "        \n",
    "        print(user)\n",
    "        user = User(user_id=user[0], user_email[1], blog_id=user[2])\n",
    "        db_cursor.close()\n",
    "        return user\n",
    "    \n",
    "    @staticmethod\n",
    "    def create(user_email, blog_id):\n",
    "        user = User.find(user_email)\n",
    "        if user == None:\n",
    "            mysql_db = conn_mysqldb()\n",
    "            db_cursor = mysql_db.cursor()\n",
    "            sql = \"INSERT INTO user_info (USER_EMAIL, BLOG_ID) VALUES ('%s', '%s')\" % (\n",
    "                str(user_email), str(blog_id))\n",
    "            db_cursor.execute(sql)\n",
    "            mysql_db.commit()\n",
    "            return User.find(user_email)\n",
    "        else:\n",
    "            return user\n",
    "```"
   ]
  }
 ],
 "metadata": {
  "kernelspec": {
   "display_name": "Python 3 (ipykernel)",
   "language": "python",
   "name": "python3"
  },
  "language_info": {
   "codemirror_mode": {
    "name": "ipython",
    "version": 3
   },
   "file_extension": ".py",
   "mimetype": "text/x-python",
   "name": "python",
   "nbconvert_exporter": "python",
   "pygments_lexer": "ipython3",
   "version": "3.10.1"
  }
 },
 "nbformat": 4,
 "nbformat_minor": 5
}

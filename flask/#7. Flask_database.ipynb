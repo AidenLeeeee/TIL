{
 "cells": [
  {
   "cell_type": "markdown",
   "id": "68a253ff",
   "metadata": {},
   "source": [
    "# 1.1. Flask 와 Database"
   ]
  },
  {
   "cell_type": "markdown",
   "id": "e711bab6",
   "metadata": {},
   "source": [
    "- 실제 웹 서비스에서는 다양한 DB 를 사용\n",
    "<br>\n",
    "<br>\n",
    "- DB 변경이 적은 경우, **MySQL** 과 같은 **RDBMS** 를 사용\n",
    "    - 정보가 많고, 보안 및 안정성이 뛰어남\n",
    "<br>\n",
    "<br>\n",
    "- DB 변경이 잦은 경우, **NoSQL** 을 사용\n",
    "<br>\n",
    "<br>\n",
    "- 추가적으로, 웹 서비스의 성능 향상을 위해 **redis** 와 같은 **in-memory** 방식의 DB 도 많이 사용"
   ]
  },
  {
   "cell_type": "markdown",
   "id": "6ca3f156",
   "metadata": {},
   "source": [
    "### **`MySQL vs MongoDB`**"
   ]
  },
  {
   "cell_type": "markdown",
   "id": "30726225",
   "metadata": {},
   "source": [
    "- 반면, 중요도가 높고 안정성이 필요한 데이터를 처리할 때에는 **MySQL** 이 적합\n",
    "- 방대하지만, 일부 유실되도 큰 문제가 발생하지 않는 데이터를 처리할 때는 **MongoDB** 가 적합"
   ]
  },
  {
   "cell_type": "markdown",
   "id": "085b7da9",
   "metadata": {},
   "source": [
    "# 1.2. Flask 와 MySQL"
   ]
  },
  {
   "cell_type": "markdown",
   "id": "45ac4b37",
   "metadata": {},
   "source": [
    "### **`SQLAlchemy vs Pymysql`**"
   ]
  },
  {
   "cell_type": "markdown",
   "id": "b16b0c97",
   "metadata": {},
   "source": [
    "- Flask 에서는 Django 와 같이 내장 **ORM** 을 제공하지 않으므로, 별도의 **third-party lib** 이 필요\n",
    "- 이 때, **SQLAlchemy** 를 주로 사용\n",
    "<br>\n",
    "<br>\n",
    "- 하지만, SQL 이외로 별도의 **SQLAlchemy** CRUD 문법 및 기법을 익혀야 함\n",
    "- DB 를 객체로 접근하는 방식이 직접 DB 에 접근하는 방식에 비해 성능 상 이점이 없음"
   ]
  },
  {
   "cell_type": "markdown",
   "id": "5f3fbe63",
   "metadata": {},
   "source": [
    "### **`Install MySQL on Local Mac`**"
   ]
  },
  {
   "cell_type": "markdown",
   "id": "991b421c",
   "metadata": {},
   "source": [
    "```\n",
    "brew install mysql\n",
    "mysql.server start\n",
    "mysql -u root\n",
    "```"
   ]
  },
  {
   "cell_type": "markdown",
   "id": "2149cd06",
   "metadata": {},
   "source": [
    "### **`Access MySQL with Setting`**"
   ]
  },
  {
   "cell_type": "markdown",
   "id": "7de95c9c",
   "metadata": {},
   "source": [
    "```\n",
    "GRANT ALL PRIVILEGES ON *.* TO 'root'@'localhost';\n",
    "CREATE USER 'aiden'@'localhost' IDENTIFIED BY 'password';\n",
    "GRANT ALL PRIVILEGES ON *.* TO 'aiden'@'localhost';\n",
    "flush privileges;\n",
    "```"
   ]
  },
  {
   "cell_type": "markdown",
   "id": "3b114861",
   "metadata": {},
   "source": [
    "- `root` 계정으로 자신의 PC 내 MySQL 서버에 접근할 경우, 모든 권한 부여\n",
    "- `aiden` 계정의 `password` 를 통해 사용자 생성\n",
    "- `aiden` 계정으로 자신의 PC 내 MySQL 서버에 접근할 경우, 모든 권한 부여\n",
    "- DB 에 영구적으로 모든 변경 내역 즉시 반영"
   ]
  },
  {
   "cell_type": "markdown",
   "id": "f333222f",
   "metadata": {},
   "source": [
    "### **`Pymysql`**"
   ]
  },
  {
   "cell_type": "markdown",
   "id": "f3222298",
   "metadata": {},
   "source": [
    "- **MySQL** 을 **Python** 에서 사용할 수 있게 하는 라이브러리"
   ]
  },
  {
   "cell_type": "markdown",
   "id": "7d2c9869",
   "metadata": {},
   "source": [
    "```\n",
    "pip install PyMySQL\n",
    "```"
   ]
  },
  {
   "cell_type": "markdown",
   "id": "d1f3568a",
   "metadata": {},
   "source": [
    "```\n",
    "import pymysql\n",
    "pymysql 모듈의 connect()                                   --> host, port, login, password, db 지정 (MySQL 에 연결)\n",
    "Connection 객체의 cursor()                                 --> Cursor 객체\n",
    "Cursor 객체의 execute()                                    --> SQL 문 DB 에 전송\n",
    "Cursor 객체의 fetchall(), fetchone(), fetchmany()          --> SQL Query 후 데이터 처리\n",
    "Connection 객체의 commit()                                 --> DML(INSERT, UPDATE, DELETE) 실행 후 DB 에 반영\n",
    "Connection 객체의 close()                                  --> DB 연결 종료\n",
    "```"
   ]
  },
  {
   "cell_type": "markdown",
   "id": "9414f769",
   "metadata": {},
   "source": [
    "### **`Access MySQL with Pymysql`**"
   ]
  },
  {
   "cell_type": "markdown",
   "id": "079cf06d",
   "metadata": {},
   "source": [
    "- **`pymysql.connect()`**\n",
    "    - **`host`**: 접속할 MySQL Server 주소\n",
    "    - **`port`**: 접속할 MySQL Server 주소의 Port 번호\n",
    "    - **`user`**: MySQL ID\n",
    "    - **`passwd`**: MySQL ID 의 password\n",
    "    - **`db`**: 접속할 Database\n",
    "    - **`charset='utf8'`**: MySQL 에서 데이터 가져올 때 한글이 깨질 우려가 있으므로 설정에 추가"
   ]
  },
  {
   "cell_type": "markdown",
   "id": "434da45e",
   "metadata": {},
   "source": [
    "```\n",
    "mysql -u root\n",
    "CREATE DATABASE blog_db;\n",
    "```"
   ]
  },
  {
   "cell_type": "markdown",
   "id": "24890c41",
   "metadata": {},
   "source": [
    "- 아래 예시는 **AWS RDS** 를 사용한 예시입니다."
   ]
  },
  {
   "cell_type": "code",
   "execution_count": 24,
   "id": "ceff67ee",
   "metadata": {},
   "outputs": [],
   "source": [
    "host = \"blog-db-test.c5jg0g5uf2zu.ap-northeast-2.rds.amazonaws.com\""
   ]
  },
  {
   "cell_type": "code",
   "execution_count": 25,
   "id": "4b8062e9",
   "metadata": {},
   "outputs": [
    {
     "data": {
      "text/plain": [
       "<pymysql.cursors.Cursor at 0x1050c4d00>"
      ]
     },
     "execution_count": 25,
     "metadata": {},
     "output_type": "execute_result"
    }
   ],
   "source": [
    "import pymysql\n",
    "\n",
    "db_conn = pymysql.connect(\n",
    "        host=host,\n",
    "        port=3306,\n",
    "        user='root',\n",
    "        passwd='password',\n",
    "        db='blog_db',\n",
    "        charset='utf8')\n",
    "\n",
    "rds_db = db_conn.cursor()\n",
    "rds_db"
   ]
  },
  {
   "cell_type": "markdown",
   "id": "e4aa1974",
   "metadata": {},
   "source": [
    "### **`테이블 수 확인`**"
   ]
  },
  {
   "cell_type": "code",
   "execution_count": 26,
   "id": "6ac180c6",
   "metadata": {},
   "outputs": [
    {
     "data": {
      "text/plain": [
       "1"
      ]
     },
     "execution_count": 26,
     "metadata": {},
     "output_type": "execute_result"
    }
   ],
   "source": [
    "sql = 'SHOW TABLES;'\n",
    "rds_db.execute(sql)"
   ]
  },
  {
   "cell_type": "markdown",
   "id": "20a210a8",
   "metadata": {},
   "source": [
    "### **`테이블 생성`**"
   ]
  },
  {
   "cell_type": "code",
   "execution_count": 14,
   "id": "506a8bc0",
   "metadata": {},
   "outputs": [],
   "source": [
    "sql = '''CREATE TABLE user_info (\n",
    "    USER_ID INT UNSIGNED NOT NULL AUTO_INCREMENT, \n",
    "    USER_EMAIL VARCHAR(100) NOT NULL, \n",
    "    BLOG_ID CHAR(4), \n",
    "    PRIMARY KEY(USER_ID)\n",
    "    );'\n",
    "'''\n",
    "\n",
    "rds_db.execute(sql)\n",
    "db_conn.commit()"
   ]
  },
  {
   "cell_type": "markdown",
   "id": "5dcf7e0a",
   "metadata": {},
   "source": [
    "- 데이터를 변경한 후에는 위와 같이 commit() 을 해주어야 한다."
   ]
  },
  {
   "cell_type": "markdown",
   "id": "bacc9716",
   "metadata": {},
   "source": [
    "### **`데이터 추가`**"
   ]
  },
  {
   "cell_type": "code",
   "execution_count": 16,
   "id": "f4cba0e4",
   "metadata": {},
   "outputs": [],
   "source": [
    "user_email = 'test@test.com'\n",
    "blog_id = 'A'"
   ]
  },
  {
   "cell_type": "code",
   "execution_count": 20,
   "id": "fd33332d",
   "metadata": {},
   "outputs": [],
   "source": [
    "sql = \"INSERT INTO user_info (USER_EMAIL, BLOG_ID) VALUES ('%s', '%s')\" % (str(user_email), str(blog_id))\n",
    "rds_db.execute(sql)\n",
    "db_conn.commit()"
   ]
  },
  {
   "cell_type": "markdown",
   "id": "bf85bfe3",
   "metadata": {},
   "source": [
    "### **`데이터 조회`**"
   ]
  },
  {
   "cell_type": "markdown",
   "id": "ae0d7c0c",
   "metadata": {},
   "source": [
    "- **fetch Methods**\n",
    "    - **fetchall()**: Fetch all the rows\n",
    "    - **fetchmany(size=None)**: Fetch several rows\n",
    "    - **fetchone()**: Fetch the next row"
   ]
  },
  {
   "cell_type": "code",
   "execution_count": 21,
   "id": "5e315b42",
   "metadata": {},
   "outputs": [
    {
     "name": "stdout",
     "output_type": "stream",
     "text": [
      "(1, 'test@test.com', 'A') <class 'tuple'>\n"
     ]
    }
   ],
   "source": [
    "sql = \"SELECT * FROM user_info\"\n",
    "\n",
    "rds_db.execute(sql)\n",
    "results = rds_db.fetchall()\n",
    "for result in results:\n",
    "    print (result, type(result))"
   ]
  },
  {
   "cell_type": "code",
   "execution_count": 22,
   "id": "d03ef924",
   "metadata": {},
   "outputs": [
    {
     "name": "stdout",
     "output_type": "stream",
     "text": [
      "(1, 'test@test.com', 'A') <class 'tuple'>\n"
     ]
    }
   ],
   "source": [
    "sql = \"SELECT * FROM user_info WHERE USER_EMAIL = '\" + str('test@test.com') + \"'\"\n",
    "\n",
    "rds_db.execute(sql)\n",
    "results = rds_db.fetchall()\n",
    "for result in results:\n",
    "    print (result, type(result))"
   ]
  },
  {
   "cell_type": "markdown",
   "id": "30258936",
   "metadata": {},
   "source": [
    "### **`DB 연결 해제`**"
   ]
  },
  {
   "cell_type": "code",
   "execution_count": 23,
   "id": "e725951d",
   "metadata": {},
   "outputs": [],
   "source": [
    "db_conn.close()"
   ]
  },
  {
   "cell_type": "markdown",
   "id": "cd78a200",
   "metadata": {},
   "source": [
    "# 1.3. Flask 와 MongoDB"
   ]
  },
  {
   "cell_type": "markdown",
   "id": "b2cfaf17",
   "metadata": {},
   "source": [
    "### **`Install MongoDB on Local Mac`**"
   ]
  },
  {
   "cell_type": "markdown",
   "id": "6f18a695",
   "metadata": {},
   "source": [
    "- **mongodb** 설치 및 실행\n",
    "<br>\n",
    "\n",
    "```\n",
    "xcode-select --install\n",
    "brew tap mongodb/brew\n",
    "brew install mongodb-community@5.0\n",
    "\n",
    "brew services start mongodb-community@5.0\n",
    "```"
   ]
  },
  {
   "cell_type": "markdown",
   "id": "6824b7ce",
   "metadata": {},
   "source": [
    "- **mongodb** 가 실행되어 있지만 **재실행**하고 싶은 경우\n",
    "<br>\n",
    "\n",
    "```\n",
    "brew services restart mongodb-community@5.0\n",
    "```"
   ]
  },
  {
   "cell_type": "markdown",
   "id": "a6e95e43",
   "metadata": {},
   "source": [
    "- **mongodb** 를 **중지**하고 싶은 경우\n",
    "<br>\n",
    "\n",
    "```\n",
    "brew services stop mongodb-community@5.0\n",
    "```"
   ]
  },
  {
   "cell_type": "markdown",
   "id": "e46263d2",
   "metadata": {},
   "source": [
    "### **`Access MongoDB`**"
   ]
  },
  {
   "cell_type": "code",
   "execution_count": 31,
   "id": "5f3059a1",
   "metadata": {},
   "outputs": [],
   "source": [
    "import pymongo\n",
    "\n",
    "username = ''\n",
    "password = ''\n",
    "ip_address = 'localhost'\n",
    "connection = pymongo.MongoClient()\n",
    "connection = pymongo.MongoClient('mongodb://%s' % (ip_address))\n",
    "\n",
    "# connection = pymongo.MongoClient('mongodb://%s:%s@%s' % (username, password, ip_address))\n",
    "blog_session_db = connection.blog_session_db\n",
    "blog_ab = blog_session_db.blog_ab"
   ]
  },
  {
   "cell_type": "markdown",
   "id": "840c33b8",
   "metadata": {},
   "source": [
    "### **`Mongodb 연결 확인`**"
   ]
  },
  {
   "cell_type": "markdown",
   "id": "4207cfbc",
   "metadata": {},
   "source": [
    "- **mongodb** 연결을 한번 해놓으면 이론적으로는 해당 객체를 사용하므로 **mongodb** CRUD 를 실행하면 됨\n",
    "<br>\n",
    "<br>\n",
    "- 하지만, 실제로는 **mongodb** 가 다양한 원인으로 다운되거나, 연결이 해제되는 경우가 있음\n",
    "  - 이 경우, 연결이 되어있음을 가정하고, CRUD를 실행할 경우 에러가 남\n",
    "<br>\n",
    "<br>\n",
    "- 따라서 연결된 객체가 아직 **mongodb** 에 연결이 되어있는지 체크하는 방법이 필요\n",
    "  - 물론, 이 방법도 **mongodb** 가 아예 다운된 경우등을 체크하도록 코드를 더 정교하게 작성할 수도 있지만,\n",
    "  - 문제를 **mongodb** 는 다운되더라도 재기동된다고 가정하고, (docker 등 다른 시스템을 통해 해당 기능 활성화)\n",
    "  - 연결이 해제된 경우만 체크하는 기법을 사용"
   ]
  },
  {
   "cell_type": "code",
   "execution_count": 32,
   "id": "a6d6c6e6",
   "metadata": {
    "scrolled": true
   },
   "outputs": [
    {
     "data": {
      "text/plain": [
       "{'ismaster': True,\n",
       " 'topologyVersion': {'processId': ObjectId('626ab93f3c66b7e293ed459b'),\n",
       "  'counter': 0},\n",
       " 'maxBsonObjectSize': 16777216,\n",
       " 'maxMessageSizeBytes': 48000000,\n",
       " 'maxWriteBatchSize': 100000,\n",
       " 'localTime': datetime.datetime(2022, 4, 28, 16, 12, 6, 498000),\n",
       " 'logicalSessionTimeoutMinutes': 30,\n",
       " 'connectionId': 11,\n",
       " 'minWireVersion': 0,\n",
       " 'maxWireVersion': 13,\n",
       " 'readOnly': False,\n",
       " 'ok': 1.0}"
      ]
     },
     "execution_count": 32,
     "metadata": {},
     "output_type": "execute_result"
    }
   ],
   "source": [
    "connection.admin.command('ismaster')"
   ]
  },
  {
   "cell_type": "code",
   "execution_count": 33,
   "id": "84c93027",
   "metadata": {
    "scrolled": true
   },
   "outputs": [
    {
     "data": {
      "text/plain": [
       "{'version': '5.0.7',\n",
       " 'gitVersion': 'b977129dc70eed766cbee7e412d901ee213acbda',\n",
       " 'modules': [],\n",
       " 'allocator': 'system',\n",
       " 'javascriptEngine': 'mozjs',\n",
       " 'sysInfo': 'deprecated',\n",
       " 'versionArray': [5, 0, 7, 0],\n",
       " 'openssl': {'running': 'Apple Secure Transport'},\n",
       " 'buildEnvironment': {'distmod': '',\n",
       "  'distarch': 'x86_64',\n",
       "  'cc': '/Applications/Xcode10.2.0.app/Contents/Developer/Toolchains/XcodeDefault.xctoolchain/usr/bin/clang: Apple LLVM version 10.0.1 (clang-1001.0.46.3)',\n",
       "  'ccflags': '-Wno-error=unknown-warning-option -isysroot /Applications/Xcode10.2.0.app/Contents/Developer/Platforms/MacOSX.platform/Developer/SDKs/MacOSX10.14.sdk -mmacosx-version-min=10.14 -target darwin18.0.0 -arch x86_64 -Werror -include mongo/platform/basic.h -fasynchronous-unwind-tables -ggdb -Wall -Wsign-compare -Wno-unknown-pragmas -Winvalid-pch -fno-omit-frame-pointer -fno-strict-aliasing -O2 -Wno-unused-local-typedefs -Wno-unused-function -Wno-unused-private-field -Wno-deprecated-declarations -Wno-tautological-constant-out-of-range-compare -Wno-tautological-constant-compare -Wno-tautological-unsigned-zero-compare -Wno-tautological-unsigned-enum-zero-compare -Wno-unused-const-variable -Wno-missing-braces -Wno-inconsistent-missing-override -Wno-potentially-evaluated-expression -Wno-unused-lambda-capture -Wno-exceptions -Wunguarded-availability -fstack-protector-strong',\n",
       "  'cxx': '/Applications/Xcode10.2.0.app/Contents/Developer/Toolchains/XcodeDefault.xctoolchain/usr/bin/clang++: Apple LLVM version 10.0.1 (clang-1001.0.46.3)',\n",
       "  'cxxflags': '-Werror=unused-result -Woverloaded-virtual -Wpessimizing-move -Wno-undefined-var-template -Wno-instantiation-after-specialization -fsized-deallocation -Wunused-exception-parameter -stdlib=libc++ -std=c++17',\n",
       "  'linkflags': '-Wl,-syslibroot,/Applications/Xcode10.2.0.app/Contents/Developer/Platforms/MacOSX.platform/Developer/SDKs/MacOSX10.14.sdk -mmacosx-version-min=10.14 -target darwin18.0.0 -arch x86_64 -Wl,-fatal_warnings -Wl,-bind_at_load -fstack-protector-strong -stdlib=libc++ -Wl,-rpath,@loader_path/../lib',\n",
       "  'target_arch': 'x86_64',\n",
       "  'target_os': 'macOS',\n",
       "  'cppdefines': 'SAFEINT_USE_INTRINSICS 0 PCRE_STATIC NDEBUG BOOST_THREAD_VERSION 5 BOOST_THREAD_USES_DATETIME BOOST_SYSTEM_NO_DEPRECATED BOOST_MATH_NO_LONG_DOUBLE_MATH_FUNCTIONS BOOST_ENABLE_ASSERT_DEBUG_HANDLER BOOST_LOG_NO_SHORTHAND_NAMES BOOST_LOG_USE_NATIVE_SYSLOG BOOST_LOG_WITHOUT_THREAD_ATTR ABSL_FORCE_ALIGNED_ACCESS'},\n",
       " 'bits': 64,\n",
       " 'debug': False,\n",
       " 'maxBsonObjectSize': 16777216,\n",
       " 'macOS': {'osProductVersion': '10.16',\n",
       "  'osRelease': '21.4.0',\n",
       "  'version': 'Darwin Kernel Version 21.4.0: Fri Mar 18 00:47:26 PDT 2022; root:xnu-8020.101.4~15/RELEASE_ARM64_T8101'},\n",
       " 'storageEngines': ['devnull', 'ephemeralForTest', 'wiredTiger'],\n",
       " 'ok': 1.0}"
      ]
     },
     "execution_count": 33,
     "metadata": {},
     "output_type": "execute_result"
    }
   ],
   "source": [
    "connection.server_info()"
   ]
  },
  {
   "cell_type": "markdown",
   "id": "a07dbda2",
   "metadata": {},
   "source": [
    "### **`INSERT`**"
   ]
  },
  {
   "cell_type": "code",
   "execution_count": 34,
   "id": "c5fd1639",
   "metadata": {},
   "outputs": [
    {
     "data": {
      "text/plain": [
       "<pymongo.results.InsertOneResult at 0x1055675e0>"
      ]
     },
     "execution_count": 34,
     "metadata": {},
     "output_type": "execute_result"
    }
   ],
   "source": [
    "blog_ab.insert_one({'emailid':'test@test.com'})"
   ]
  },
  {
   "cell_type": "markdown",
   "id": "d1fa4402",
   "metadata": {},
   "source": [
    "### **`SELECT`**"
   ]
  },
  {
   "cell_type": "code",
   "execution_count": 35,
   "id": "782c6b6e",
   "metadata": {
    "scrolled": true
   },
   "outputs": [
    {
     "data": {
      "text/plain": [
       "{'_id': ObjectId('626abd00625a312705229a20'), 'emailid': 'test@test.com'}"
      ]
     },
     "execution_count": 35,
     "metadata": {},
     "output_type": "execute_result"
    }
   ],
   "source": [
    "blog_ab.find_one({'emailid':'test@test.com'})"
   ]
  },
  {
   "cell_type": "markdown",
   "id": "46c7b767",
   "metadata": {},
   "source": [
    "### **`DELETE`**"
   ]
  },
  {
   "cell_type": "code",
   "execution_count": 36,
   "id": "53e323c4",
   "metadata": {
    "scrolled": true
   },
   "outputs": [
    {
     "data": {
      "text/plain": [
       "<pymongo.results.DeleteResult at 0x1050f3df0>"
      ]
     },
     "execution_count": 36,
     "metadata": {},
     "output_type": "execute_result"
    }
   ],
   "source": [
    "blog_ab.delete_one({'emailid':'test@test.com'})"
   ]
  },
  {
   "cell_type": "markdown",
   "id": "5f35eaef",
   "metadata": {},
   "source": [
    "### **`SELECT *`**"
   ]
  },
  {
   "cell_type": "code",
   "execution_count": 37,
   "id": "2f2b9f16",
   "metadata": {},
   "outputs": [],
   "source": [
    "blog_logs = blog_ab.find()\n",
    "for log in blog_logs:\n",
    "    print(log)"
   ]
  }
 ],
 "metadata": {
  "kernelspec": {
   "display_name": "Python 3 (ipykernel)",
   "language": "python",
   "name": "python3"
  },
  "language_info": {
   "codemirror_mode": {
    "name": "ipython",
    "version": 3
   },
   "file_extension": ".py",
   "mimetype": "text/x-python",
   "name": "python",
   "nbconvert_exporter": "python",
   "pygments_lexer": "ipython3",
   "version": "3.10.1"
  }
 },
 "nbformat": 4,
 "nbformat_minor": 5
}

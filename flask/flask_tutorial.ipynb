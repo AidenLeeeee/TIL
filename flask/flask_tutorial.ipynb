{
 "cells": [
  {
   "cell_type": "code",
   "execution_count": 2,
   "id": "547d71e6",
   "metadata": {},
   "outputs": [
    {
     "name": "stdout",
     "output_type": "stream",
     "text": [
      "Requirement already satisfied: flask in /Users/aidenlee/python_project/TIL/venv/lib/python3.9/site-packages (2.1.1)\r\n",
      "Requirement already satisfied: Jinja2>=3.0 in /Users/aidenlee/python_project/TIL/venv/lib/python3.9/site-packages (from flask) (3.1.1)\r\n",
      "Requirement already satisfied: Werkzeug>=2.0 in /Users/aidenlee/python_project/TIL/venv/lib/python3.9/site-packages (from flask) (2.1.1)\r\n",
      "Requirement already satisfied: itsdangerous>=2.0 in /Users/aidenlee/python_project/TIL/venv/lib/python3.9/site-packages (from flask) (2.1.2)\r\n",
      "Requirement already satisfied: importlib-metadata>=3.6.0 in /Users/aidenlee/python_project/TIL/venv/lib/python3.9/site-packages (from flask) (4.11.3)\r\n",
      "Requirement already satisfied: click>=8.0 in /Users/aidenlee/python_project/TIL/venv/lib/python3.9/site-packages (from flask) (8.1.2)\r\n",
      "Requirement already satisfied: zipp>=0.5 in /Users/aidenlee/python_project/TIL/venv/lib/python3.9/site-packages (from importlib-metadata>=3.6.0->flask) (3.8.0)\r\n",
      "Requirement already satisfied: MarkupSafe>=2.0 in /Users/aidenlee/python_project/TIL/venv/lib/python3.9/site-packages (from Jinja2>=3.0->flask) (2.1.1)\r\n"
     ]
    }
   ],
   "source": [
    "!pip install flask"
   ]
  },
  {
   "cell_type": "code",
   "execution_count": 3,
   "id": "af5f360f",
   "metadata": {},
   "outputs": [
    {
     "ename": "ModuleNotFoundError",
     "evalue": "No module named 'flask'",
     "output_type": "error",
     "traceback": [
      "\u001b[0;31m---------------------------------------------------------------------------\u001b[0m",
      "\u001b[0;31mModuleNotFoundError\u001b[0m                       Traceback (most recent call last)",
      "Input \u001b[0;32mIn [3]\u001b[0m, in \u001b[0;36m<cell line: 1>\u001b[0;34m()\u001b[0m\n\u001b[0;32m----> 1\u001b[0m \u001b[38;5;28;01mfrom\u001b[39;00m \u001b[38;5;21;01mflask\u001b[39;00m \u001b[38;5;28;01mimport\u001b[39;00m Flask\n",
      "\u001b[0;31mModuleNotFoundError\u001b[0m: No module named 'flask'"
     ]
    }
   ],
   "source": [
    "from flask import Flask"
   ]
  },
  {
   "cell_type": "code",
   "execution_count": null,
   "id": "2d9fa055",
   "metadata": {},
   "outputs": [],
   "source": []
  }
 ],
 "metadata": {
  "kernelspec": {
   "display_name": "Python 3 (ipykernel)",
   "language": "python",
   "name": "python3"
  },
  "language_info": {
   "codemirror_mode": {
    "name": "ipython",
    "version": 3
   },
   "file_extension": ".py",
   "mimetype": "text/x-python",
   "name": "python",
   "nbconvert_exporter": "python",
   "pygments_lexer": "ipython3",
   "version": "3.10.1"
  }
 },
 "nbformat": 4,
 "nbformat_minor": 5
}

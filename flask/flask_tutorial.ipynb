{
 "cells": [
  {
   "cell_type": "markdown",
   "id": "4678cd91",
   "metadata": {},
   "source": [
    "# 1.1. Flask Module"
   ]
  },
  {
   "cell_type": "code",
   "execution_count": 1,
   "id": "af5f360f",
   "metadata": {},
   "outputs": [],
   "source": [
    "from flask import Flask"
   ]
  },
  {
   "cell_type": "markdown",
   "id": "c74137bc",
   "metadata": {},
   "source": [
    "# 1.2. Flask 객체 app 에 할당"
   ]
  },
  {
   "cell_type": "code",
   "execution_count": 2,
   "id": "6bb44cf7",
   "metadata": {},
   "outputs": [],
   "source": [
    "app = Flask(__name__)"
   ]
  },
  {
   "cell_type": "code",
   "execution_count": 3,
   "id": "8a266948",
   "metadata": {},
   "outputs": [
    {
     "data": {
      "text/plain": [
       "'__main__'"
      ]
     },
     "execution_count": 3,
     "metadata": {},
     "output_type": "execute_result"
    }
   ],
   "source": [
    "__name__"
   ]
  },
  {
   "cell_type": "markdown",
   "id": "3791a35e",
   "metadata": {},
   "source": [
    "### `__name__` ?\n",
    " - **`__name__`** 에는 Module 의 이름이 저장\n",
    " - 직접 실행하는 경우 **`__main__`**\n",
    " - Python 은 **스크립트 언어**이기 때문에 C, JAVA 와 달리 **Entry_Point(시작점) X**\n",
    " - 주로 모듈의 **테스트 코드**를 간단하게 작성 가능"
   ]
  },
  {
   "cell_type": "code",
   "execution_count": 4,
   "id": "2b8775ed",
   "metadata": {},
   "outputs": [
    {
     "data": {
      "text/plain": [
       "<Flask '__main__'>"
      ]
     },
     "execution_count": 4,
     "metadata": {},
     "output_type": "execute_result"
    }
   ],
   "source": [
    "app"
   ]
  },
  {
   "cell_type": "markdown",
   "id": "05594653",
   "metadata": {},
   "source": [
    "### Flask 객체 생성\n",
    "- 현재 Flask App 의 이름은 **main**\n",
    "- 해당 App 에 기능을 추가해가며 서비스 제작"
   ]
  },
  {
   "cell_type": "markdown",
   "id": "46ba6dd8",
   "metadata": {},
   "source": [
    "# 1.3. Routing"
   ]
  },
  {
   "cell_type": "code",
   "execution_count": 6,
   "id": "e23abd9e",
   "metadata": {},
   "outputs": [],
   "source": [
    "@app.route(\"/hello\")\n",
    "def say_hello():\n",
    "    return \"<h1>Hello World!</h1>\""
   ]
  },
  {
   "cell_type": "markdown",
   "id": "695f4669",
   "metadata": {},
   "source": [
    "### `/hello` ?\n",
    "- `/hello` URL 을 App 에 추가\n",
    "- http://localhost:5000/hello"
   ]
  },
  {
   "cell_type": "markdown",
   "id": "95d4fe84",
   "metadata": {},
   "source": [
    "# 1.4. Flask Web Server 구동 (`__main__`)"
   ]
  },
  {
   "cell_type": "markdown",
   "id": "dd679293",
   "metadata": {},
   "source": [
    "### **`app.run()`**\n",
    "- **host**: 웹 주소\n",
    "- **port**: 포트\n",
    "- **debug**: 디버그 모드(True | False)\n",
    "- **Terminal**: `python module_name.py`"
   ]
  },
  {
   "cell_type": "markdown",
   "id": "88589330",
   "metadata": {},
   "source": [
    "### **`Web Server`** ?\n",
    "- 미리 작성되어 있는 **정적** HTML 반환\n",
    "- **Static**"
   ]
  },
  {
   "cell_type": "markdown",
   "id": "bd927aa0",
   "metadata": {},
   "source": [
    "### **`Web Application Server`** ?\n",
    "- Web Server 가 **동적**으로 데이터를 반환하도록 하기 위한 프레임워크\n",
    "- **Dynamic**\n",
    "- Flask, Django, Ruby on Rails, Node.js ..."
   ]
  },
  {
   "cell_type": "markdown",
   "id": "c266a06b",
   "metadata": {},
   "source": [
    "### **`Flask Web Server`** ?\n",
    "- Flask 는 **테스트**를 위해 간단한 **내장 Web Server** 를 제공\n",
    "- **Production 환경**에서는 **별도의 Web Server** 를 사용"
   ]
  },
  {
   "cell_type": "code",
   "execution_count": 7,
   "id": "f9e743a3",
   "metadata": {},
   "outputs": [],
   "source": [
    "host_addr = '0.0.0.0'\n",
    "port_num = \"8080\""
   ]
  },
  {
   "cell_type": "code",
   "execution_count": 8,
   "id": "6ff29880",
   "metadata": {},
   "outputs": [
    {
     "name": "stdout",
     "output_type": "stream",
     "text": [
      " * Serving Flask app '__main__' (lazy loading)\n",
      " * Environment: production\n",
      "\u001b[31m   WARNING: This is a development server. Do not use it in a production deployment.\u001b[0m\n",
      "\u001b[2m   Use a production WSGI server instead.\u001b[0m\n",
      " * Debug mode: off\n"
     ]
    },
    {
     "name": "stderr",
     "output_type": "stream",
     "text": [
      " * Running on all addresses (0.0.0.0)\n",
      "   WARNING: This is a development server. Do not use it in a production deployment.\n",
      " * Running on http://127.0.0.1:8080\n",
      " * Running on http://192.168.0.4:8080 (Press CTRL+C to quit)\n"
     ]
    }
   ],
   "source": [
    "if __name__ == \"__main__\":\n",
    "    app.run(host=host_addr, port=port_num)"
   ]
  },
  {
   "cell_type": "markdown",
   "id": "814abe56",
   "metadata": {},
   "source": [
    "### **`host`** ?\n",
    "- **자신의 PC** 에서 서비스 구현할 경우\n",
    "    - **host**: `localhost`, `127.0.0.1`, `0.0.0.0` ...\n",
    "    - **port**: `8080`, `5000` ..."
   ]
  },
  {
   "cell_type": "markdown",
   "id": "c20c9fbb",
   "metadata": {},
   "source": [
    "# 1.5. Full Ver."
   ]
  },
  {
   "cell_type": "code",
   "execution_count": 9,
   "id": "d0705168",
   "metadata": {},
   "outputs": [
    {
     "name": "stdout",
     "output_type": "stream",
     "text": [
      " * Serving Flask app '__main__' (lazy loading)\n",
      " * Environment: production\n",
      "\u001b[31m   WARNING: This is a development server. Do not use it in a production deployment.\u001b[0m\n",
      "\u001b[2m   Use a production WSGI server instead.\u001b[0m\n",
      " * Debug mode: off\n"
     ]
    },
    {
     "name": "stderr",
     "output_type": "stream",
     "text": [
      " * Running on http://127.0.0.1:8080 (Press CTRL+C to quit)\n",
      "127.0.0.1 - - [26/Apr/2022 00:09:25] \"\u001b[33mGET / HTTP/1.1\u001b[0m\" 404 -\n",
      "127.0.0.1 - - [26/Apr/2022 00:09:26] \"\u001b[33mGET /favicon.ico HTTP/1.1\u001b[0m\" 404 -\n",
      "127.0.0.1 - - [26/Apr/2022 00:09:39] \"GET /hello HTTP/1.1\" 200 -\n"
     ]
    }
   ],
   "source": [
    "from flask import Flask\n",
    "\n",
    "app = Flask(__name__)\n",
    "\n",
    "@app.route(\"/hello\")\n",
    "def say_hello():\n",
    "    return \"<h1>Hello World!</h1>\"\n",
    "\n",
    "if __name__ == \"__main__\":\n",
    "    app.run(host=\"127.0.0.1\", port=\"8080\")"
   ]
  }
 ],
 "metadata": {
  "kernelspec": {
   "display_name": "Python 3 (ipykernel)",
   "language": "python",
   "name": "python3"
  },
  "language_info": {
   "codemirror_mode": {
    "name": "ipython",
    "version": 3
   },
   "file_extension": ".py",
   "mimetype": "text/x-python",
   "name": "python",
   "nbconvert_exporter": "python",
   "pygments_lexer": "ipython3",
   "version": "3.10.1"
  }
 },
 "nbformat": 4,
 "nbformat_minor": 5
}

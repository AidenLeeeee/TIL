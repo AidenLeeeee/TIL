{
 "cells": [
  {
   "cell_type": "markdown",
   "id": "34696741",
   "metadata": {},
   "source": [
    "# 1.1. Static Page"
   ]
  },
  {
   "cell_type": "code",
   "execution_count": 2,
   "id": "8d230fa7",
   "metadata": {},
   "outputs": [],
   "source": [
    "from flask import Flask"
   ]
  },
  {
   "cell_type": "markdown",
   "id": "181431c1",
   "metadata": {},
   "source": [
    "### **`Endpoints`**"
   ]
  },
  {
   "cell_type": "code",
   "execution_count": 12,
   "id": "75c5afb7",
   "metadata": {
    "scrolled": true
   },
   "outputs": [
    {
     "name": "stdout",
     "output_type": "stream",
     "text": [
      " * Serving Flask app '__main__' (lazy loading)\n",
      " * Environment: production\n",
      "\u001b[31m   WARNING: This is a development server. Do not use it in a production deployment.\u001b[0m\n",
      "\u001b[2m   Use a production WSGI server instead.\u001b[0m\n",
      " * Debug mode: off\n"
     ]
    },
    {
     "name": "stderr",
     "output_type": "stream",
     "text": [
      " * Running on all addresses (0.0.0.0)\n",
      "   WARNING: This is a development server. Do not use it in a production deployment.\n",
      " * Running on http://127.0.0.1:8080\n",
      " * Running on http://192.168.100.32:8080 (Press CTRL+C to quit)\n"
     ]
    }
   ],
   "source": [
    "app = Flask(__name__)\n",
    "\n",
    "@app.route('/')\n",
    "def hello():\n",
    "    return \"<h1>Hello World!</h1>\"\n",
    "\n",
    "@app.route('/hello')\n",
    "def hello_flask():\n",
    "    return \"<h1>Hello Flask!</h1>\"\n",
    "\n",
    "@app.route('/first')\n",
    "def hello_first():\n",
    "    return \"<h1>Hello First!</h1>\"\n",
    "\n",
    "if __name__ == \"__main__\":\n",
    "    app.run(host=\"0.0.0.0\", port=\"8080\")"
   ]
  },
  {
   "cell_type": "markdown",
   "id": "c26a7f4a",
   "metadata": {},
   "source": [
    "### **`Path Parameter`**"
   ]
  },
  {
   "cell_type": "code",
   "execution_count": 14,
   "id": "68d2cf4a",
   "metadata": {},
   "outputs": [
    {
     "name": "stdout",
     "output_type": "stream",
     "text": [
      " * Serving Flask app '__main__' (lazy loading)\n",
      " * Environment: production\n",
      "\u001b[31m   WARNING: This is a development server. Do not use it in a production deployment.\u001b[0m\n",
      "\u001b[2m   Use a production WSGI server instead.\u001b[0m\n",
      " * Debug mode: off\n"
     ]
    },
    {
     "name": "stderr",
     "output_type": "stream",
     "text": [
      " * Running on all addresses (0.0.0.0)\n",
      "   WARNING: This is a development server. Do not use it in a production deployment.\n",
      " * Running on http://127.0.0.1:8080\n",
      " * Running on http://192.168.100.32:8080 (Press CTRL+C to quit)\n"
     ]
    }
   ],
   "source": [
    "app = Flask(__name__)\n",
    "\n",
    "@app.route('/')\n",
    "def hello():\n",
    "    return \"<h1>Hello World!</h1>\"\n",
    "\n",
    "@app.route('/profile/<username>')\n",
    "def get_profile(username):\n",
    "    return \"profile: \" + username\n",
    "\n",
    "@app.route('/first/<username>')\n",
    "def get_first(username):\n",
    "    return \"<h1>Hello \" + username + \"!</h1>\"\n",
    "\n",
    "if __name__ == \"__main__\":\n",
    "    app.run(host='0.0.0.0', port='8080')"
   ]
  },
  {
   "cell_type": "markdown",
   "id": "394f3b33",
   "metadata": {},
   "source": [
    "### **`Query Parameter`**"
   ]
  },
  {
   "cell_type": "markdown",
   "id": "61d61c54",
   "metadata": {},
   "source": [
    "- **request** module 의 args.get() 을 활용하여 **query parameter** 의 값을 받아올 수 있다.\n",
    "- 아래의 경우에는 **http://localhost:8080/login?username=aiden&password=1234&email=aiden@gmail.com** 과 같이 작성한다.\n",
    "- **query parameter** 는 **URL** 뒤에 **?** 로 시작하며, 각각의 **parameter** 는 **&** 로 구분된다.\n",
    "- **query parameter** 는 **key=value** 의 형태로 작성한다."
   ]
  },
  {
   "cell_type": "code",
   "execution_count": null,
   "id": "a214fccc",
   "metadata": {},
   "outputs": [],
   "source": [
    "from flask import Flask, request, jsonify\n",
    "\n",
    "app = Flask(__name__)\n",
    "\n",
    "@app.route('/login')\n",
    "def login():\n",
    "    username = request.args.get('username')\n",
    "    password = request.args.get('password')\n",
    "    email = request.args.get('email')\n",
    "    \n",
    "    if username == 'aiden':\n",
    "        return_data = {'auth': 'success'}\n",
    "    else:\n",
    "        return_data = {'auth': 'failed'}\n",
    "    \n",
    "    return jsonify(return_data)\n",
    "\n",
    "if __name__ == '__main__':\n",
    "    app.run(host=\"0.0.0.0\", port=\"8080\")"
   ]
  },
  {
   "cell_type": "markdown",
   "id": "ca2b7fc8",
   "metadata": {},
   "source": [
    "### **`type:hint`**"
   ]
  },
  {
   "cell_type": "code",
   "execution_count": 15,
   "id": "64d7f34d",
   "metadata": {},
   "outputs": [
    {
     "name": "stdout",
     "output_type": "stream",
     "text": [
      " * Serving Flask app '__main__' (lazy loading)\n",
      " * Environment: production\n",
      "\u001b[31m   WARNING: This is a development server. Do not use it in a production deployment.\u001b[0m\n",
      "\u001b[2m   Use a production WSGI server instead.\u001b[0m\n",
      " * Debug mode: off\n"
     ]
    },
    {
     "name": "stderr",
     "output_type": "stream",
     "text": [
      " * Running on all addresses (0.0.0.0)\n",
      "   WARNING: This is a development server. Do not use it in a production deployment.\n",
      " * Running on http://127.0.0.1:8080\n",
      " * Running on http://192.168.100.32:8080 (Press CTRL+C to quit)\n",
      "127.0.0.1 - - [26/Apr/2022 21:34:23] \"GET / HTTP/1.1\" 200 -\n",
      "127.0.0.1 - - [26/Apr/2022 21:34:36] \"GET /message/3 HTTP/1.1\" 200 -\n",
      "127.0.0.1 - - [26/Apr/2022 21:35:07] \"GET /first/5 HTTP/1.1\" 200 -\n"
     ]
    }
   ],
   "source": [
    "app = Flask(__name__)\n",
    "\n",
    "def add_file(data):\n",
    "    return data + 5\n",
    "\n",
    "@app.route('/')\n",
    "def hello():\n",
    "    return \"<h1>Hello World!</h1>\"\n",
    "\n",
    "@app.route('/message/<int:message_id>')\n",
    "def get_message(message_id):\n",
    "    return f\"message id: {message_id}\"\n",
    "\n",
    "@app.route('/first/<int:message_id>')\n",
    "def get_first(message_id):\n",
    "    data = add_file(message_id)\n",
    "    return f\"<h1>{data}</h1>\"\n",
    "\n",
    "if __name__ == \"__main__\":\n",
    "    app.run(host='0.0.0.0', port='8080')"
   ]
  },
  {
   "cell_type": "markdown",
   "id": "894821bb",
   "metadata": {},
   "source": [
    "# 1.2. REST API"
   ]
  },
  {
   "cell_type": "markdown",
   "id": "abcfe0ce",
   "metadata": {},
   "source": [
    "- **URI** 을 통해 자원을 식별\n",
    "- **HTTP** 를 통해 데이터 통신\n",
    "- **GET**, **POST**, **PUT**, **DELETE** 등 **Method** 를 통해 **CRUD** 를 구현 가능"
   ]
  },
  {
   "cell_type": "markdown",
   "id": "1857f35a",
   "metadata": {},
   "source": [
    "### **`REST API in Flask`**"
   ]
  },
  {
   "cell_type": "markdown",
   "id": "f0763d89",
   "metadata": {},
   "source": [
    "- 특정 **URI** 에 대한 요청 시, **JSON** 형식의 응답을 반환\n",
    "- **dict type** 의 데이터 생성 후, **Jsonify** 를 활용해 타입 변환"
   ]
  },
  {
   "cell_type": "code",
   "execution_count": 18,
   "id": "c0d4c4e3",
   "metadata": {},
   "outputs": [],
   "source": [
    "from flask import Flask, jsonify\n",
    "app = Flask(__name__)"
   ]
  },
  {
   "cell_type": "code",
   "execution_count": 19,
   "id": "8cc8c764",
   "metadata": {},
   "outputs": [],
   "source": [
    "@app.route('/json_test')\n",
    "def hello_json():\n",
    "    data = {\n",
    "        'name': 'Aiden',\n",
    "        'family': 'Lee'\n",
    "    }\n",
    "    return jsonify(data)\n",
    "\n",
    "@app.route('/server_info')\n",
    "def server_json():\n",
    "    data = {\n",
    "        'server_name': \"0.0.0.0\",\n",
    "        'server_port': '8080'\n",
    "    }\n",
    "    return jsonify(data)"
   ]
  },
  {
   "cell_type": "code",
   "execution_count": 21,
   "id": "6a3dcf69",
   "metadata": {},
   "outputs": [
    {
     "name": "stdout",
     "output_type": "stream",
     "text": [
      " * Serving Flask app '__main__' (lazy loading)\n",
      " * Environment: production\n",
      "\u001b[31m   WARNING: This is a development server. Do not use it in a production deployment.\u001b[0m\n",
      "\u001b[2m   Use a production WSGI server instead.\u001b[0m\n",
      " * Debug mode: off\n"
     ]
    },
    {
     "name": "stderr",
     "output_type": "stream",
     "text": [
      " * Running on all addresses (0.0.0.0)\n",
      "   WARNING: This is a development server. Do not use it in a production deployment.\n",
      " * Running on http://127.0.0.1:8080\n",
      " * Running on http://192.168.100.32:8080 (Press CTRL+C to quit)\n"
     ]
    }
   ],
   "source": [
    "if __name__ == \"__main__\":\n",
    "    app.run(host=\"0.0.0.0\", port=\"8080\")"
   ]
  }
 ],
 "metadata": {
  "kernelspec": {
   "display_name": "Python 3 (ipykernel)",
   "language": "python",
   "name": "python3"
  },
  "language_info": {
   "codemirror_mode": {
    "name": "ipython",
    "version": 3
   },
   "file_extension": ".py",
   "mimetype": "text/x-python",
   "name": "python",
   "nbconvert_exporter": "python",
   "pygments_lexer": "ipython3",
   "version": "3.10.1"
  }
 },
 "nbformat": 4,
 "nbformat_minor": 5
}

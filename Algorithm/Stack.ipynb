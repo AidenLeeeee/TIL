{
 "cells": [
  {
   "cell_type": "markdown",
   "id": "2587462f",
   "metadata": {},
   "source": [
    "# Stack"
   ]
  },
  {
   "cell_type": "markdown",
   "id": "ecbf8fb9",
   "metadata": {},
   "source": [
    "- **Stack** 은 입구와 출구가 하나인 자료구조이다.\n",
    "<br>\n",
    "<br>\n",
    "- 따라서, 데이터를 입력하는 **Push** 와 데이터를 출력하는 **Pop** 이 한 곳에서만 일어난다.\n",
    "<br>\n",
    "<br>\n",
    "- 이렇게, 가장 나중에 입력한 데이터부터 먼저 출력되는 구조를 **LIFO(Last In First Out)** 이라고 부른다.\n",
    "<br>\n",
    "<br>\n",
    "- Stack 의 가장 위는 **Top**, 가장 아래는 **Bottom** 이라 부른다.\n",
    "<br>\n",
    "<br>\n",
    "- 추가적으로, **Peek** 은 현재 Top 에 위치한 데이터를 반환하는 동작이며 **Pop** 과 달리 데이터가 삭제되지 않는다."
   ]
  },
  {
   "cell_type": "markdown",
   "id": "65ca5630",
   "metadata": {},
   "source": [
    "***"
   ]
  },
  {
   "cell_type": "markdown",
   "id": "416255e6",
   "metadata": {},
   "source": [
    "## ✅ Simple Ver."
   ]
  },
  {
   "cell_type": "markdown",
   "id": "1022f51e",
   "metadata": {},
   "source": [
    "### Create Stack"
   ]
  },
  {
   "cell_type": "code",
   "execution_count": 8,
   "id": "a0965b5b",
   "metadata": {},
   "outputs": [
    {
     "data": {
      "text/plain": [
       "[None, None, None, None, None]"
      ]
     },
     "execution_count": 8,
     "metadata": {},
     "output_type": "execute_result"
    }
   ],
   "source": [
    "LEN = 5\n",
    "top = -1\n",
    "\n",
    "stack = []\n",
    "for _ in range(LEN):\n",
    "    stack.append(None)\n",
    "    \n",
    "stack"
   ]
  },
  {
   "cell_type": "markdown",
   "id": "78cb301a",
   "metadata": {},
   "source": [
    "### Push"
   ]
  },
  {
   "cell_type": "code",
   "execution_count": 9,
   "id": "00fd9c02",
   "metadata": {
    "scrolled": true
   },
   "outputs": [
    {
     "data": {
      "text/plain": [
       "['A', 'B', 'C', None, None]"
      ]
     },
     "execution_count": 9,
     "metadata": {},
     "output_type": "execute_result"
    }
   ],
   "source": [
    "top += 1\n",
    "stack[top] = 'A'\n",
    "\n",
    "top += 1\n",
    "stack[top] = 'B'\n",
    "\n",
    "top += 1\n",
    "stack[top] = 'C'\n",
    "\n",
    "stack"
   ]
  },
  {
   "cell_type": "markdown",
   "id": "0b002f40",
   "metadata": {},
   "source": [
    "### Peek"
   ]
  },
  {
   "cell_type": "code",
   "execution_count": 10,
   "id": "770a8c55",
   "metadata": {},
   "outputs": [
    {
     "name": "stdout",
     "output_type": "stream",
     "text": [
      "Peek -> C\n"
     ]
    }
   ],
   "source": [
    "data = stack[top]\n",
    "print(\"Peek ->\", data)"
   ]
  },
  {
   "cell_type": "markdown",
   "id": "7ba53c68",
   "metadata": {},
   "source": [
    "### Pop"
   ]
  },
  {
   "cell_type": "code",
   "execution_count": 11,
   "id": "1b2728b6",
   "metadata": {},
   "outputs": [
    {
     "name": "stdout",
     "output_type": "stream",
     "text": [
      "Pop -> C\n",
      "Pop -> B\n",
      "Pop -> A\n"
     ]
    }
   ],
   "source": [
    "data = stack[top]\n",
    "stack[top] = None\n",
    "top -= 1\n",
    "print(\"Pop ->\", data)\n",
    "\n",
    "data = stack[top]\n",
    "stack[top] = None\n",
    "top -= 1\n",
    "print(\"Pop ->\", data)\n",
    "\n",
    "data = stack[top]\n",
    "stack[top] = None\n",
    "top -= 1\n",
    "print(\"Pop ->\", data)"
   ]
  },
  {
   "cell_type": "code",
   "execution_count": 12,
   "id": "a46c149c",
   "metadata": {},
   "outputs": [
    {
     "data": {
      "text/plain": [
       "[None, None, None, None, None]"
      ]
     },
     "execution_count": 12,
     "metadata": {},
     "output_type": "execute_result"
    }
   ],
   "source": [
    "stack"
   ]
  },
  {
   "cell_type": "markdown",
   "id": "46959870",
   "metadata": {},
   "source": [
    "***"
   ]
  },
  {
   "cell_type": "markdown",
   "id": "3ac67cb6",
   "metadata": {},
   "source": [
    "## ✅ General Ver."
   ]
  },
  {
   "cell_type": "markdown",
   "id": "8bda9ea9",
   "metadata": {},
   "source": [
    "### Create Stack"
   ]
  },
  {
   "cell_type": "code",
   "execution_count": 10,
   "id": "d9f70ead",
   "metadata": {},
   "outputs": [
    {
     "data": {
      "text/plain": [
       "[None, None, None, None, None]"
      ]
     },
     "execution_count": 10,
     "metadata": {},
     "output_type": "execute_result"
    }
   ],
   "source": [
    "SIZE = 5\n",
    "top = -1\n",
    "\n",
    "stack = [None for _ in range(SIZE)]\n",
    "\n",
    "stack"
   ]
  },
  {
   "cell_type": "markdown",
   "id": "a7fc281e",
   "metadata": {},
   "source": [
    "### Func: Check Stack Full"
   ]
  },
  {
   "cell_type": "code",
   "execution_count": 11,
   "id": "c8ec95b9",
   "metadata": {},
   "outputs": [],
   "source": [
    "def isStackFull():\n",
    "    global SIZE, top, stack\n",
    "    \n",
    "    if top >= SIZE-1:\n",
    "        return True\n",
    "    else:\n",
    "        return False"
   ]
  },
  {
   "cell_type": "code",
   "execution_count": 12,
   "id": "6b38e0b8",
   "metadata": {},
   "outputs": [
    {
     "data": {
      "text/plain": [
       "False"
      ]
     },
     "execution_count": 12,
     "metadata": {},
     "output_type": "execute_result"
    }
   ],
   "source": [
    "isStackFull()"
   ]
  },
  {
   "cell_type": "markdown",
   "id": "ea105d1b",
   "metadata": {},
   "source": [
    "### Func: Check Stack Empty"
   ]
  },
  {
   "cell_type": "code",
   "execution_count": 13,
   "id": "1eca33ae",
   "metadata": {},
   "outputs": [],
   "source": [
    "def isStackEmpty():\n",
    "    global SIZE, top, stack\n",
    "    \n",
    "    if top == -1:\n",
    "        return True\n",
    "    else:\n",
    "        return False"
   ]
  },
  {
   "cell_type": "code",
   "execution_count": 14,
   "id": "b30552e8",
   "metadata": {},
   "outputs": [
    {
     "data": {
      "text/plain": [
       "True"
      ]
     },
     "execution_count": 14,
     "metadata": {},
     "output_type": "execute_result"
    }
   ],
   "source": [
    "isStackEmpty()"
   ]
  },
  {
   "cell_type": "markdown",
   "id": "b276cb33",
   "metadata": {},
   "source": [
    "### Push"
   ]
  },
  {
   "cell_type": "code",
   "execution_count": 15,
   "id": "9e03e32b",
   "metadata": {},
   "outputs": [],
   "source": [
    "def push(data):\n",
    "    global SIZE, top, stack\n",
    "    \n",
    "    if isStackFull():\n",
    "        print(\"Stack is already full.\")\n",
    "        return\n",
    "    else:\n",
    "        top += 1\n",
    "        stack[top] = data"
   ]
  },
  {
   "cell_type": "code",
   "execution_count": 16,
   "id": "1f468bc1",
   "metadata": {},
   "outputs": [
    {
     "name": "stdout",
     "output_type": "stream",
     "text": [
      "['A', None, None, None, None]\n",
      "['A', 'B', None, None, None]\n",
      "['A', 'B', 'C', None, None]\n",
      "['A', 'B', 'C', 'D', None]\n",
      "['A', 'B', 'C', 'D', 'E']\n",
      "Stack is already full.\n",
      "['A', 'B', 'C', 'D', 'E']\n"
     ]
    }
   ],
   "source": [
    "push('A')\n",
    "print(stack)\n",
    "push('B')\n",
    "print(stack)\n",
    "push('C')\n",
    "print(stack)\n",
    "push('D')\n",
    "print(stack)\n",
    "push('E')\n",
    "print(stack)\n",
    "push('F')\n",
    "print(stack)"
   ]
  },
  {
   "cell_type": "markdown",
   "id": "5c53a739",
   "metadata": {},
   "source": [
    "### Pop"
   ]
  },
  {
   "cell_type": "code",
   "execution_count": 19,
   "id": "c79e82ad",
   "metadata": {},
   "outputs": [],
   "source": [
    "def pop():\n",
    "    global SIZE, top, stack\n",
    "    \n",
    "    if isStackEmpty():\n",
    "        print(\"Stack is empty.\")\n",
    "        return None\n",
    "    else:\n",
    "        data = stack[top]\n",
    "        stack[top] = None\n",
    "        top -= 1\n",
    "        return data"
   ]
  },
  {
   "cell_type": "code",
   "execution_count": 20,
   "id": "6d09f5cf",
   "metadata": {},
   "outputs": [
    {
     "name": "stdout",
     "output_type": "stream",
     "text": [
      "Pop -> E\n",
      "Pop -> D\n",
      "Pop -> C\n",
      "Pop -> B\n",
      "Pop -> A\n",
      "Stack is empty.\n",
      "Pop -> None\n"
     ]
    },
    {
     "data": {
      "text/plain": [
       "[None, None, None, None, None]"
      ]
     },
     "execution_count": 20,
     "metadata": {},
     "output_type": "execute_result"
    }
   ],
   "source": [
    "data = pop()\n",
    "print(\"Pop ->\", data)\n",
    "data = pop()\n",
    "print(\"Pop ->\", data)\n",
    "data = pop()\n",
    "print(\"Pop ->\", data)\n",
    "data = pop()\n",
    "print(\"Pop ->\", data)\n",
    "data = pop()\n",
    "print(\"Pop ->\", data)\n",
    "data = pop()\n",
    "print(\"Pop ->\", data)\n",
    "stack"
   ]
  },
  {
   "cell_type": "markdown",
   "id": "a19201c1",
   "metadata": {},
   "source": [
    "### Peek"
   ]
  },
  {
   "cell_type": "code",
   "execution_count": 21,
   "id": "f39f49e2",
   "metadata": {},
   "outputs": [],
   "source": [
    "def peek():\n",
    "    global SIZE, top, stack\n",
    "    \n",
    "    if isStackEmpty():\n",
    "        print(\"Stack is empty.\")\n",
    "        return None\n",
    "    else:\n",
    "        data = stack[top]\n",
    "        return data"
   ]
  },
  {
   "cell_type": "code",
   "execution_count": 22,
   "id": "9d112611",
   "metadata": {},
   "outputs": [
    {
     "name": "stdout",
     "output_type": "stream",
     "text": [
      "['A', 'B', None, None, None]\n",
      "---------------------\n",
      "Peek -> B\n",
      "['A', 'B', None, None, None]\n"
     ]
    }
   ],
   "source": [
    "push('A')\n",
    "push('B')\n",
    "print(stack)\n",
    "print(\"---------------------\")\n",
    "\n",
    "data = peek()\n",
    "print(\"Peek ->\", data)\n",
    "print(stack)"
   ]
  },
  {
   "cell_type": "markdown",
   "id": "542c68c7",
   "metadata": {},
   "source": [
    "***"
   ]
  },
  {
   "cell_type": "markdown",
   "id": "c3ee20bf",
   "metadata": {},
   "source": [
    "### Q.1"
   ]
  },
  {
   "cell_type": "markdown",
   "id": "b61d6956",
   "metadata": {},
   "source": [
    "- 헨젤과 그레텔의 집으로 돌아가기\n",
    "<br>\n",
    "<br>\n",
    "- 과자집으로 향하는 동안 다양한 색의 돌을 임의대로 뿌리고, 집으로 돌아오면서 뿌린 돌을 역순으로 주워 돌아온다."
   ]
  },
  {
   "cell_type": "code",
   "execution_count": 23,
   "id": "32bdb0ef",
   "metadata": {},
   "outputs": [],
   "source": [
    "import random"
   ]
  },
  {
   "cell_type": "code",
   "execution_count": 25,
   "id": "8ac1b5bf",
   "metadata": {},
   "outputs": [
    {
     "data": {
      "text/plain": [
       "[None, None, None, None, None, None, None, None, None, None]"
      ]
     },
     "execution_count": 25,
     "metadata": {},
     "output_type": "execute_result"
    }
   ],
   "source": [
    "SIZE = 10\n",
    "top = -1\n",
    "stoneArray = ['Red', 'Blue', 'Green', 'Yellow', 'Purple', 'Orange']\n",
    "\n",
    "stack = [None for _ in range(SIZE)]\n",
    "stack"
   ]
  },
  {
   "cell_type": "code",
   "execution_count": 26,
   "id": "3c9134b8",
   "metadata": {},
   "outputs": [],
   "source": [
    "def to_snack_house():\n",
    "    global SIZE, top, stoneArray, stack\n",
    "    \n",
    "    print(\"Route for Snack House:\\nMyHouse -> \", end='')\n",
    "    for _ in range(SIZE):\n",
    "        num = random.randint(0, 5)\n",
    "        stone = stoneArray[num]\n",
    "        push(stone)\n",
    "        print(stone + \" -> \", end='')\n",
    "    print(\"SnackHouse\")"
   ]
  },
  {
   "cell_type": "code",
   "execution_count": 27,
   "id": "cd6a0f70",
   "metadata": {},
   "outputs": [
    {
     "name": "stdout",
     "output_type": "stream",
     "text": [
      "Route for Snack House:\n",
      "MyHouse -> Blue -> Orange -> Green -> Orange -> Orange -> Yellow -> Orange -> Orange -> Purple -> Blue -> SnackHouse\n"
     ]
    }
   ],
   "source": [
    "to_snack_house()"
   ]
  },
  {
   "cell_type": "code",
   "execution_count": 28,
   "id": "34ffd250",
   "metadata": {},
   "outputs": [],
   "source": [
    "def to_my_house():\n",
    "    global SIZE, top, stoneArray, stack\n",
    "    \n",
    "    print(\"Route for My House:\\nSnackHouse -> \", end='')\n",
    "    while top != -1:\n",
    "        stone = pop()\n",
    "        print(stone + \" -> \", end='')\n",
    "    print(\"MyHouse\")"
   ]
  },
  {
   "cell_type": "code",
   "execution_count": 29,
   "id": "38153dc5",
   "metadata": {},
   "outputs": [
    {
     "name": "stdout",
     "output_type": "stream",
     "text": [
      "Route for My House:\n",
      "SnackHouse -> Blue -> Purple -> Orange -> Orange -> Yellow -> Orange -> Orange -> Green -> Orange -> Blue -> MyHouse\n"
     ]
    }
   ],
   "source": [
    "to_my_house()"
   ]
  },
  {
   "cell_type": "code",
   "execution_count": 30,
   "id": "c08c10bf",
   "metadata": {},
   "outputs": [
    {
     "name": "stdout",
     "output_type": "stream",
     "text": [
      "Route for Snack House:\n",
      "MyHouse -> Orange -> Red -> Blue -> Yellow -> Orange -> Blue -> Orange -> Yellow -> Orange -> Orange -> SnackHouse\n",
      "Route for My House:\n",
      "SnackHouse -> Orange -> Orange -> Yellow -> Orange -> Blue -> Orange -> Yellow -> Blue -> Red -> Orange -> MyHouse\n"
     ]
    }
   ],
   "source": [
    "# Test 1\n",
    "to_snack_house()\n",
    "to_my_house()"
   ]
  },
  {
   "cell_type": "code",
   "execution_count": 31,
   "id": "648425d8",
   "metadata": {},
   "outputs": [
    {
     "name": "stdout",
     "output_type": "stream",
     "text": [
      "Route for Snack House:\n",
      "MyHouse -> Red -> Red -> Red -> Purple -> Purple -> Yellow -> Red -> Yellow -> Green -> Purple -> SnackHouse\n",
      "Route for My House:\n",
      "SnackHouse -> Purple -> Green -> Yellow -> Red -> Yellow -> Purple -> Purple -> Red -> Red -> Red -> MyHouse\n"
     ]
    }
   ],
   "source": [
    "# Test 2\n",
    "to_snack_house()\n",
    "to_my_house()"
   ]
  },
  {
   "cell_type": "markdown",
   "id": "c51da626",
   "metadata": {},
   "source": [
    "### Q.2"
   ]
  },
  {
   "cell_type": "markdown",
   "id": "33c34d60",
   "metadata": {},
   "source": [
    "- 괄호 매칭 검사 프로그램\n",
    "<br>\n",
    "<br>\n",
    "- **( )**, **{ }**, **[ ]**, **< >** 를 사용한 수식에서 괄호의 짝이 맞는지를 검사한다."
   ]
  },
  {
   "cell_type": "code",
   "execution_count": 32,
   "id": "69dfb8c9",
   "metadata": {},
   "outputs": [
    {
     "data": {
      "text/plain": [
       "[None, None, None, None, None, None, None, None, None, None]"
      ]
     },
     "execution_count": 32,
     "metadata": {},
     "output_type": "execute_result"
    }
   ],
   "source": [
    "SIZE = 10\n",
    "top = -1\n",
    "\n",
    "stack = [None for _ in range(SIZE)]\n",
    "stack"
   ]
  },
  {
   "cell_type": "code",
   "execution_count": 35,
   "id": "6e5cac93",
   "metadata": {},
   "outputs": [],
   "source": [
    "def check_brackets(exp):\n",
    "    global SIZE, top, stack\n",
    "    \n",
    "    for ch in exp:\n",
    "        if ch == '(' or ch =='{' or ch == '[' or ch == '<':\n",
    "            push(ch)\n",
    "        if ch == ')':\n",
    "            if peek() == '(':\n",
    "                pop()\n",
    "                continue\n",
    "            else:\n",
    "                print(\"Error: brackets does not match. -> \", peek())\n",
    "                return\n",
    "        if ch == '}':\n",
    "            if peek() == '{':\n",
    "                pop()\n",
    "                continue\n",
    "            else:\n",
    "                print(\"Error: brackets does not match. -> \", peek())\n",
    "                return\n",
    "        if ch == ']':\n",
    "            if peek() == '[':\n",
    "                pop()\n",
    "                continue\n",
    "            else:\n",
    "                print(\"Error: brackets does not match. -> \", peek())\n",
    "                return\n",
    "        if ch == '>':\n",
    "            if peek() == '<':\n",
    "                pop()\n",
    "                continue\n",
    "            else:\n",
    "                print(\"Error: brackets does not match. -> \", peek())\n",
    "                return\n",
    "    \n",
    "    print(\"Checking Brackets...Success!\")"
   ]
  },
  {
   "cell_type": "code",
   "execution_count": 36,
   "id": "ee4f5447",
   "metadata": {},
   "outputs": [
    {
     "name": "stdout",
     "output_type": "stream",
     "text": [
      "Checking Brackets...Success!\n"
     ]
    }
   ],
   "source": [
    "# Test 1\n",
    "exp = '(A+B)'\n",
    "check_brackets(exp)"
   ]
  },
  {
   "cell_type": "code",
   "execution_count": 37,
   "id": "e31ee9e3",
   "metadata": {},
   "outputs": [
    {
     "name": "stdout",
     "output_type": "stream",
     "text": [
      "Checking Brackets...Success!\n"
     ]
    }
   ],
   "source": [
    "# Test 2\n",
    "exp = ')A+B('\n",
    "check_brackets(exp)"
   ]
  },
  {
   "cell_type": "code",
   "execution_count": null,
   "id": "e2230f8b",
   "metadata": {},
   "outputs": [],
   "source": []
  }
 ],
 "metadata": {
  "kernelspec": {
   "display_name": "Python 3 (ipykernel)",
   "language": "python",
   "name": "python3"
  },
  "language_info": {
   "codemirror_mode": {
    "name": "ipython",
    "version": 3
   },
   "file_extension": ".py",
   "mimetype": "text/x-python",
   "name": "python",
   "nbconvert_exporter": "python",
   "pygments_lexer": "ipython3",
   "version": "3.10.1"
  }
 },
 "nbformat": 4,
 "nbformat_minor": 5
}

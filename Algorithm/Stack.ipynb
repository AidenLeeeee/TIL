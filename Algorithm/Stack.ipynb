{
 "cells": [
  {
   "cell_type": "markdown",
   "id": "2587462f",
   "metadata": {},
   "source": [
    "# Stack"
   ]
  },
  {
   "cell_type": "markdown",
   "id": "ecbf8fb9",
   "metadata": {},
   "source": [
    "- **Stack** 은 입구와 출구가 하나인 자료구조이다.\n",
    "<br>\n",
    "<br>\n",
    "- 따라서, 데이터를 입력하는 **Push** 와 데이터를 출력하는 **Pop** 이 한 곳에서만 일어난다.\n",
    "<br>\n",
    "<br>\n",
    "- 이렇게, 가장 나중에 입력한 데이터부터 먼저 출력되는 구조를 **LIFO(Last In First Out)** 이라고 부른다.\n",
    "<br>\n",
    "<br>\n",
    "- Stack 의 가장 위는 **Top**, 가장 아래는 **Bottom** 이라 부른다.\n",
    "<br>\n",
    "<br>\n",
    "- 추가적으로, **Peek** 은 현재 Top 에 위치한 데이터를 반환하는 동작이며 **Pop** 과 달리 데이터가 삭제되지 않는다."
   ]
  },
  {
   "cell_type": "markdown",
   "id": "65ca5630",
   "metadata": {},
   "source": [
    "***"
   ]
  },
  {
   "cell_type": "markdown",
   "id": "416255e6",
   "metadata": {},
   "source": [
    "## ✅ Simple Ver."
   ]
  },
  {
   "cell_type": "markdown",
   "id": "1022f51e",
   "metadata": {},
   "source": [
    "### Create Stack"
   ]
  },
  {
   "cell_type": "code",
   "execution_count": 8,
   "id": "a0965b5b",
   "metadata": {},
   "outputs": [
    {
     "data": {
      "text/plain": [
       "[None, None, None, None, None]"
      ]
     },
     "execution_count": 8,
     "metadata": {},
     "output_type": "execute_result"
    }
   ],
   "source": [
    "LEN = 5\n",
    "top = -1\n",
    "\n",
    "stack = []\n",
    "for _ in range(LEN):\n",
    "    stack.append(None)\n",
    "    \n",
    "stack"
   ]
  },
  {
   "cell_type": "markdown",
   "id": "78cb301a",
   "metadata": {},
   "source": [
    "### Push"
   ]
  },
  {
   "cell_type": "code",
   "execution_count": 9,
   "id": "00fd9c02",
   "metadata": {
    "scrolled": true
   },
   "outputs": [
    {
     "data": {
      "text/plain": [
       "['A', 'B', 'C', None, None]"
      ]
     },
     "execution_count": 9,
     "metadata": {},
     "output_type": "execute_result"
    }
   ],
   "source": [
    "top += 1\n",
    "stack[top] = 'A'\n",
    "\n",
    "top += 1\n",
    "stack[top] = 'B'\n",
    "\n",
    "top += 1\n",
    "stack[top] = 'C'\n",
    "\n",
    "stack"
   ]
  },
  {
   "cell_type": "markdown",
   "id": "0b002f40",
   "metadata": {},
   "source": [
    "### Peek"
   ]
  },
  {
   "cell_type": "code",
   "execution_count": 10,
   "id": "770a8c55",
   "metadata": {},
   "outputs": [
    {
     "name": "stdout",
     "output_type": "stream",
     "text": [
      "Peek -> C\n"
     ]
    }
   ],
   "source": [
    "data = stack[top]\n",
    "print(\"Peek ->\", data)"
   ]
  },
  {
   "cell_type": "markdown",
   "id": "7ba53c68",
   "metadata": {},
   "source": [
    "### Pop"
   ]
  },
  {
   "cell_type": "code",
   "execution_count": 11,
   "id": "1b2728b6",
   "metadata": {},
   "outputs": [
    {
     "name": "stdout",
     "output_type": "stream",
     "text": [
      "Pop -> C\n",
      "Pop -> B\n",
      "Pop -> A\n"
     ]
    }
   ],
   "source": [
    "data = stack[top]\n",
    "stack[top] = None\n",
    "top -= 1\n",
    "print(\"Pop ->\", data)\n",
    "\n",
    "data = stack[top]\n",
    "stack[top] = None\n",
    "top -= 1\n",
    "print(\"Pop ->\", data)\n",
    "\n",
    "data = stack[top]\n",
    "stack[top] = None\n",
    "top -= 1\n",
    "print(\"Pop ->\", data)"
   ]
  },
  {
   "cell_type": "code",
   "execution_count": 12,
   "id": "a46c149c",
   "metadata": {},
   "outputs": [
    {
     "data": {
      "text/plain": [
       "[None, None, None, None, None]"
      ]
     },
     "execution_count": 12,
     "metadata": {},
     "output_type": "execute_result"
    }
   ],
   "source": [
    "stack"
   ]
  },
  {
   "cell_type": "markdown",
   "id": "46959870",
   "metadata": {},
   "source": [
    "***"
   ]
  },
  {
   "cell_type": "markdown",
   "id": "3ac67cb6",
   "metadata": {},
   "source": [
    "## ✅ General Ver."
   ]
  },
  {
   "cell_type": "markdown",
   "id": "5f388cac",
   "metadata": {},
   "source": [
    "### Create Stack"
   ]
  },
  {
   "cell_type": "code",
   "execution_count": 10,
   "id": "7e1705dd",
   "metadata": {},
   "outputs": [
    {
     "data": {
      "text/plain": [
       "[None, None, None, None, None]"
      ]
     },
     "execution_count": 10,
     "metadata": {},
     "output_type": "execute_result"
    }
   ],
   "source": [
    "SIZE = 5\n",
    "top = -1\n",
    "\n",
    "stack = [None for _ in range(SIZE)]\n",
    "\n",
    "stack"
   ]
  },
  {
   "cell_type": "markdown",
   "id": "26dbc4ec",
   "metadata": {},
   "source": [
    "### Func: Check Stack Full"
   ]
  },
  {
   "cell_type": "code",
   "execution_count": 11,
   "id": "1979b08b",
   "metadata": {},
   "outputs": [],
   "source": [
    "def isStackFull():\n",
    "    global SIZE, top, stack\n",
    "    \n",
    "    if top >= SIZE-1:\n",
    "        return True\n",
    "    else:\n",
    "        return False"
   ]
  },
  {
   "cell_type": "code",
   "execution_count": 12,
   "id": "f4148a9c",
   "metadata": {},
   "outputs": [
    {
     "data": {
      "text/plain": [
       "False"
      ]
     },
     "execution_count": 12,
     "metadata": {},
     "output_type": "execute_result"
    }
   ],
   "source": [
    "isStackFull()"
   ]
  },
  {
   "cell_type": "markdown",
   "id": "50866be0",
   "metadata": {},
   "source": [
    "### Func: Check Stack Empty"
   ]
  },
  {
   "cell_type": "code",
   "execution_count": 13,
   "id": "30d4c465",
   "metadata": {},
   "outputs": [],
   "source": [
    "def isStackEmpty():\n",
    "    global SIZE, top, stack\n",
    "    \n",
    "    if top == -1:\n",
    "        return True\n",
    "    else:\n",
    "        return False"
   ]
  },
  {
   "cell_type": "code",
   "execution_count": 14,
   "id": "0ef0fee8",
   "metadata": {},
   "outputs": [
    {
     "data": {
      "text/plain": [
       "True"
      ]
     },
     "execution_count": 14,
     "metadata": {},
     "output_type": "execute_result"
    }
   ],
   "source": [
    "isStackEmpty()"
   ]
  },
  {
   "cell_type": "markdown",
   "id": "c979b414",
   "metadata": {},
   "source": [
    "### Push"
   ]
  },
  {
   "cell_type": "code",
   "execution_count": 15,
   "id": "c073dcab",
   "metadata": {},
   "outputs": [],
   "source": [
    "def push(data):\n",
    "    global SIZE, top, stack\n",
    "    \n",
    "    if isStackFull():\n",
    "        print(\"Stack is already full.\")\n",
    "        return\n",
    "    else:\n",
    "        top += 1\n",
    "        stack[top] = data"
   ]
  },
  {
   "cell_type": "code",
   "execution_count": 16,
   "id": "0e3aac08",
   "metadata": {},
   "outputs": [
    {
     "name": "stdout",
     "output_type": "stream",
     "text": [
      "['A', None, None, None, None]\n",
      "['A', 'B', None, None, None]\n",
      "['A', 'B', 'C', None, None]\n",
      "['A', 'B', 'C', 'D', None]\n",
      "['A', 'B', 'C', 'D', 'E']\n",
      "Stack is already full.\n",
      "['A', 'B', 'C', 'D', 'E']\n"
     ]
    }
   ],
   "source": [
    "push('A')\n",
    "print(stack)\n",
    "push('B')\n",
    "print(stack)\n",
    "push('C')\n",
    "print(stack)\n",
    "push('D')\n",
    "print(stack)\n",
    "push('E')\n",
    "print(stack)\n",
    "push('F')\n",
    "print(stack)"
   ]
  },
  {
   "cell_type": "markdown",
   "id": "2033f168",
   "metadata": {},
   "source": [
    "### Pop"
   ]
  },
  {
   "cell_type": "code",
   "execution_count": 19,
   "id": "453b825e",
   "metadata": {},
   "outputs": [],
   "source": [
    "def pop():\n",
    "    global SIZE, top, stack\n",
    "    \n",
    "    if isStackEmpty():\n",
    "        print(\"Stack is empty.\")\n",
    "        return None\n",
    "    else:\n",
    "        data = stack[top]\n",
    "        stack[top] = None\n",
    "        top -= 1\n",
    "        return data"
   ]
  },
  {
   "cell_type": "code",
   "execution_count": 20,
   "id": "a9b492e0",
   "metadata": {},
   "outputs": [
    {
     "name": "stdout",
     "output_type": "stream",
     "text": [
      "Pop -> E\n",
      "Pop -> D\n",
      "Pop -> C\n",
      "Pop -> B\n",
      "Pop -> A\n",
      "Stack is empty.\n",
      "Pop -> None\n"
     ]
    },
    {
     "data": {
      "text/plain": [
       "[None, None, None, None, None]"
      ]
     },
     "execution_count": 20,
     "metadata": {},
     "output_type": "execute_result"
    }
   ],
   "source": [
    "data = pop()\n",
    "print(\"Pop ->\", data)\n",
    "data = pop()\n",
    "print(\"Pop ->\", data)\n",
    "data = pop()\n",
    "print(\"Pop ->\", data)\n",
    "data = pop()\n",
    "print(\"Pop ->\", data)\n",
    "data = pop()\n",
    "print(\"Pop ->\", data)\n",
    "data = pop()\n",
    "print(\"Pop ->\", data)\n",
    "stack"
   ]
  },
  {
   "cell_type": "markdown",
   "id": "29611aca",
   "metadata": {},
   "source": [
    "### Peek"
   ]
  },
  {
   "cell_type": "code",
   "execution_count": 21,
   "id": "6e29421d",
   "metadata": {},
   "outputs": [],
   "source": [
    "def peek():\n",
    "    global SIZE, top, stack\n",
    "    \n",
    "    if isStackEmpty():\n",
    "        print(\"Stack is empty.\")\n",
    "        return None\n",
    "    else:\n",
    "        data = stack[top]\n",
    "        return data"
   ]
  },
  {
   "cell_type": "code",
   "execution_count": 22,
   "id": "495cdb8b",
   "metadata": {},
   "outputs": [
    {
     "name": "stdout",
     "output_type": "stream",
     "text": [
      "['A', 'B', None, None, None]\n",
      "---------------------\n",
      "Peek -> B\n",
      "['A', 'B', None, None, None]\n"
     ]
    }
   ],
   "source": [
    "push('A')\n",
    "push('B')\n",
    "print(stack)\n",
    "print(\"---------------------\")\n",
    "\n",
    "data = peek()\n",
    "print(\"Peek ->\", data)\n",
    "print(stack)"
   ]
  },
  {
   "cell_type": "markdown",
   "id": "0d2713a6",
   "metadata": {},
   "source": [
    "***"
   ]
  },
  {
   "cell_type": "code",
   "execution_count": null,
   "id": "8fe0d252",
   "metadata": {},
   "outputs": [],
   "source": []
  }
 ],
 "metadata": {
  "kernelspec": {
   "display_name": "Python 3 (ipykernel)",
   "language": "python",
   "name": "python3"
  },
  "language_info": {
   "codemirror_mode": {
    "name": "ipython",
    "version": 3
   },
   "file_extension": ".py",
   "mimetype": "text/x-python",
   "name": "python",
   "nbconvert_exporter": "python",
   "pygments_lexer": "ipython3",
   "version": "3.10.1"
  }
 },
 "nbformat": 4,
 "nbformat_minor": 5
}

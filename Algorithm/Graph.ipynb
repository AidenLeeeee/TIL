{
 "cells": [
  {
   "cell_type": "markdown",
   "id": "bfc78345",
   "metadata": {},
   "source": [
    "# 1.1. Graph"
   ]
  },
  {
   "cell_type": "markdown",
   "id": "c66cd765",
   "metadata": {},
   "source": [
    "### **`Class`**"
   ]
  },
  {
   "cell_type": "code",
   "execution_count": 35,
   "id": "f3b6dcb2",
   "metadata": {},
   "outputs": [],
   "source": [
    "class Graph():\n",
    "    def __init__(self, size):\n",
    "        self.SIZE = size\n",
    "        self.graph = [[0 for _ in range(size)] for _ in range(size)]"
   ]
  },
  {
   "cell_type": "markdown",
   "id": "2513724c",
   "metadata": {},
   "source": [
    "### **`Func`**"
   ]
  },
  {
   "cell_type": "code",
   "execution_count": 36,
   "id": "b4d75a30",
   "metadata": {},
   "outputs": [],
   "source": [
    "def print_graph(graph):\n",
    "    print(' ', end=' ')\n",
    "    for v in range(graph.SIZE):\n",
    "        print(nameAry[v], end=' ')\n",
    "    print()\n",
    "    for row in range(graph.SIZE):\n",
    "        print(nameAry[row], end=' ')\n",
    "        for col in range(graph.SIZE):\n",
    "            print(graph.graph[row][col], end=' ')\n",
    "        print()\n",
    "    print()"
   ]
  },
  {
   "cell_type": "markdown",
   "id": "0b8733fd",
   "metadata": {},
   "source": [
    "### **`Test`**"
   ]
  },
  {
   "cell_type": "code",
   "execution_count": 37,
   "id": "6e84bf17",
   "metadata": {},
   "outputs": [],
   "source": [
    "G1 = None\n",
    "nameAry = ['문별', '솔라', '휘인', '쯔위', '선미', '화사']\n",
    "문별, 솔라, 휘인, 쯔위, 선미, 화사 = 0, 1, 2, 3, 4, 5"
   ]
  },
  {
   "cell_type": "code",
   "execution_count": 38,
   "id": "691882bb",
   "metadata": {},
   "outputs": [
    {
     "name": "stdout",
     "output_type": "stream",
     "text": [
      "### G1 무방향 그래프 ###\n",
      "  문별 솔라 휘인 쯔위 선미 화사 \n",
      "문별 0 1 1 0 0 0 \n",
      "솔라 1 0 0 1 0 0 \n",
      "휘인 1 0 0 1 0 0 \n",
      "쯔위 0 1 1 0 1 1 \n",
      "선미 0 0 0 1 0 1 \n",
      "화사 0 0 0 1 1 0 \n",
      "\n"
     ]
    }
   ],
   "source": [
    "gSize = 6\n",
    "G1 = Graph(gSize)\n",
    "\n",
    "G1.graph[문별][솔라] = 1\n",
    "G1.graph[문별][휘인] = 1\n",
    "G1.graph[솔라][문별] = 1\n",
    "G1.graph[솔라][쯔위] = 1\n",
    "G1.graph[휘인][문별] = 1\n",
    "G1.graph[휘인][쯔위] = 1\n",
    "G1.graph[쯔위][솔라] = 1\n",
    "G1.graph[쯔위][휘인] = 1\n",
    "G1.graph[쯔위][선미] = 1\n",
    "G1.graph[쯔위][화사] = 1\n",
    "G1.graph[선미][쯔위] = 1\n",
    "G1.graph[선미][화사] = 1\n",
    "G1.graph[화사][쯔위] = 1\n",
    "G1.graph[화사][선미] = 1\n",
    "\n",
    "print('### G1 무방향 그래프 ###')\n",
    "print_graph(G1)"
   ]
  },
  {
   "cell_type": "markdown",
   "id": "4bede283",
   "metadata": {},
   "source": [
    "### **`깊이 우선 탐색(DFS)`**"
   ]
  },
  {
   "cell_type": "code",
   "execution_count": 41,
   "id": "97398e70",
   "metadata": {},
   "outputs": [],
   "source": [
    "def depth_first_search(g):\n",
    "    current = 0\n",
    "    stack.append(current)\n",
    "    visitedAry.append(current)\n",
    "    \n",
    "    while (len(stack) != 0):\n",
    "        nextNode = None\n",
    "        for vertex in range(g.SIZE):\n",
    "            if g.graph[current][vertex] == 1:\n",
    "                if vertex not in visitedAry:\n",
    "                    nextNode = vertex\n",
    "                    break\n",
    "                else:\n",
    "                    pass\n",
    "        \n",
    "        if nextNode != None:\n",
    "            current = nextNode\n",
    "            stack.append(current)\n",
    "            visitedAry.append(current)\n",
    "        else:\n",
    "            current = stack.pop()\n",
    "            \n",
    "    print('방문 순서 -->', end=' ')\n",
    "    for i in visitedAry:\n",
    "        print(nameAry[i], end=' ')"
   ]
  },
  {
   "cell_type": "code",
   "execution_count": 42,
   "id": "5a421be1",
   "metadata": {},
   "outputs": [
    {
     "name": "stdout",
     "output_type": "stream",
     "text": [
      "방문 순서 --> 문별 솔라 쯔위 휘인 선미 화사 "
     ]
    }
   ],
   "source": [
    "depth_first_search(G1)"
   ]
  }
 ],
 "metadata": {
  "kernelspec": {
   "display_name": "Python 3 (ipykernel)",
   "language": "python",
   "name": "python3"
  },
  "language_info": {
   "codemirror_mode": {
    "name": "ipython",
    "version": 3
   },
   "file_extension": ".py",
   "mimetype": "text/x-python",
   "name": "python",
   "nbconvert_exporter": "python",
   "pygments_lexer": "ipython3",
   "version": "3.9.7"
  }
 },
 "nbformat": 4,
 "nbformat_minor": 5
}

{
 "cells": [
  {
   "cell_type": "markdown",
   "id": "fa2e0577",
   "metadata": {},
   "source": [
    "# Queue"
   ]
  },
  {
   "cell_type": "markdown",
   "id": "9a51cf73",
   "metadata": {},
   "source": [
    "- **Queue** 는 Stack 과 다르게 입구와 출구가 따로 존재한다.\n",
    "<br>\n",
    "<br>\n",
    "- 따라서, 데이터를 입력하는 **Enqueue** 와 데이터를 출력하는 **Dequeue** 가 각각 다른 곳에서 일어난다.\n",
    "<br>\n",
    "<br>\n",
    "- 이렇듯, 가장 먼저 입력한 데이터가 먼저 출력되는 구조를 **FIFO(First In First Out)** 라고 부른다.\n",
    "<br>\n",
    "<br>\n",
    "- Queue 의 가장 앞단, 즉 데이터가 출력되는 곳은 **Front** 라고 부르며, 데이터가 입력되는 뒷단은 **Rear** 라 부른다."
   ]
  },
  {
   "cell_type": "markdown",
   "id": "bba3bd08",
   "metadata": {},
   "source": [
    "***"
   ]
  },
  {
   "cell_type": "markdown",
   "id": "3116b6a5",
   "metadata": {},
   "source": [
    "## ✅ Simple Ver."
   ]
  },
  {
   "cell_type": "markdown",
   "id": "71ca40da",
   "metadata": {},
   "source": [
    "### Create Queue"
   ]
  },
  {
   "cell_type": "code",
   "execution_count": 7,
   "id": "9bc5d3e3",
   "metadata": {},
   "outputs": [
    {
     "data": {
      "text/plain": [
       "[None, None, None, None, None]"
      ]
     },
     "execution_count": 7,
     "metadata": {},
     "output_type": "execute_result"
    }
   ],
   "source": [
    "SIZE = 5\n",
    "front = rear = -1\n",
    "\n",
    "queue = [None for _ in range(SIZE)]\n",
    "queue"
   ]
  },
  {
   "cell_type": "markdown",
   "id": "3bf2030a",
   "metadata": {},
   "source": [
    "### Enqueue"
   ]
  },
  {
   "cell_type": "code",
   "execution_count": 8,
   "id": "39541c73",
   "metadata": {},
   "outputs": [],
   "source": [
    "rear += 1\n",
    "queue[rear] = 'A'\n",
    "\n",
    "rear += 1\n",
    "queue[rear] = 'B'\n",
    "\n",
    "rear += 1\n",
    "queue[rear] = 'C'"
   ]
  },
  {
   "cell_type": "code",
   "execution_count": 9,
   "id": "0abb7a41",
   "metadata": {},
   "outputs": [
    {
     "data": {
      "text/plain": [
       "['A', 'B', 'C', None, None]"
      ]
     },
     "execution_count": 9,
     "metadata": {},
     "output_type": "execute_result"
    }
   ],
   "source": [
    "queue"
   ]
  },
  {
   "cell_type": "markdown",
   "id": "0696fcaa",
   "metadata": {},
   "source": [
    "### Dequeue"
   ]
  },
  {
   "cell_type": "code",
   "execution_count": 10,
   "id": "fec2f981",
   "metadata": {},
   "outputs": [
    {
     "name": "stdout",
     "output_type": "stream",
     "text": [
      "Dequeue -> A\n",
      "Dequeue -> B\n",
      "Dequeue -> C\n"
     ]
    }
   ],
   "source": [
    "front += 1\n",
    "data = queue[front]\n",
    "queue[front] = None\n",
    "print(\"Dequeue ->\", data)\n",
    "\n",
    "front += 1\n",
    "data = queue[front]\n",
    "queue[front] = None\n",
    "print(\"Dequeue ->\", data)\n",
    "\n",
    "front += 1\n",
    "data = queue[front]\n",
    "queue[front] = None\n",
    "print(\"Dequeue ->\", data)"
   ]
  },
  {
   "cell_type": "code",
   "execution_count": 11,
   "id": "ec47e0dc",
   "metadata": {},
   "outputs": [
    {
     "data": {
      "text/plain": [
       "[None, None, None, None, None]"
      ]
     },
     "execution_count": 11,
     "metadata": {},
     "output_type": "execute_result"
    }
   ],
   "source": [
    "queue"
   ]
  },
  {
   "cell_type": "markdown",
   "id": "0ab25d02",
   "metadata": {},
   "source": [
    "***"
   ]
  }
 ],
 "metadata": {
  "kernelspec": {
   "display_name": "Python 3 (ipykernel)",
   "language": "python",
   "name": "python3"
  },
  "language_info": {
   "codemirror_mode": {
    "name": "ipython",
    "version": 3
   },
   "file_extension": ".py",
   "mimetype": "text/x-python",
   "name": "python",
   "nbconvert_exporter": "python",
   "pygments_lexer": "ipython3",
   "version": "3.10.1"
  }
 },
 "nbformat": 4,
 "nbformat_minor": 5
}

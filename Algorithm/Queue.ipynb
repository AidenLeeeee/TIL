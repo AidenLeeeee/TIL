{
 "cells": [
  {
   "cell_type": "markdown",
   "id": "fa2e0577",
   "metadata": {},
   "source": [
    "# Queue"
   ]
  },
  {
   "cell_type": "markdown",
   "id": "9a51cf73",
   "metadata": {},
   "source": [
    "- **Queue** 는 Stack 과 다르게 입구와 출구가 따로 존재한다.\n",
    "<br>\n",
    "<br>\n",
    "- 따라서, 데이터를 입력하는 **Enqueue** 와 데이터를 출력하는 **Dequeue** 가 각각 다른 곳에서 일어난다.\n",
    "<br>\n",
    "<br>\n",
    "- 이렇듯, 가장 먼저 입력한 데이터가 먼저 출력되는 구조를 **FIFO(First In First Out)** 라고 부른다.\n",
    "<br>\n",
    "<br>\n",
    "- Queue 의 가장 앞단, 즉 데이터가 출력되는 곳은 **Front** 라고 부르며, 데이터가 입력되는 뒷단은 **Rear** 라 부른다."
   ]
  },
  {
   "cell_type": "markdown",
   "id": "bba3bd08",
   "metadata": {},
   "source": [
    "***"
   ]
  },
  {
   "cell_type": "markdown",
   "id": "3116b6a5",
   "metadata": {},
   "source": [
    "## ✅ Simple Ver."
   ]
  },
  {
   "cell_type": "markdown",
   "id": "71ca40da",
   "metadata": {},
   "source": [
    "### Create Queue"
   ]
  },
  {
   "cell_type": "code",
   "execution_count": 7,
   "id": "9bc5d3e3",
   "metadata": {},
   "outputs": [
    {
     "data": {
      "text/plain": [
       "[None, None, None, None, None]"
      ]
     },
     "execution_count": 7,
     "metadata": {},
     "output_type": "execute_result"
    }
   ],
   "source": [
    "SIZE = 5\n",
    "front = rear = -1\n",
    "\n",
    "queue = [None for _ in range(SIZE)]\n",
    "queue"
   ]
  },
  {
   "cell_type": "markdown",
   "id": "3bf2030a",
   "metadata": {},
   "source": [
    "### Enqueue"
   ]
  },
  {
   "cell_type": "code",
   "execution_count": 8,
   "id": "39541c73",
   "metadata": {},
   "outputs": [],
   "source": [
    "rear += 1\n",
    "queue[rear] = 'A'\n",
    "\n",
    "rear += 1\n",
    "queue[rear] = 'B'\n",
    "\n",
    "rear += 1\n",
    "queue[rear] = 'C'"
   ]
  },
  {
   "cell_type": "code",
   "execution_count": 9,
   "id": "0abb7a41",
   "metadata": {},
   "outputs": [
    {
     "data": {
      "text/plain": [
       "['A', 'B', 'C', None, None]"
      ]
     },
     "execution_count": 9,
     "metadata": {},
     "output_type": "execute_result"
    }
   ],
   "source": [
    "queue"
   ]
  },
  {
   "cell_type": "markdown",
   "id": "0696fcaa",
   "metadata": {},
   "source": [
    "### Dequeue"
   ]
  },
  {
   "cell_type": "code",
   "execution_count": 10,
   "id": "fec2f981",
   "metadata": {},
   "outputs": [
    {
     "name": "stdout",
     "output_type": "stream",
     "text": [
      "Dequeue -> A\n",
      "Dequeue -> B\n",
      "Dequeue -> C\n"
     ]
    }
   ],
   "source": [
    "front += 1\n",
    "data = queue[front]\n",
    "queue[front] = None\n",
    "print(\"Dequeue ->\", data)\n",
    "\n",
    "front += 1\n",
    "data = queue[front]\n",
    "queue[front] = None\n",
    "print(\"Dequeue ->\", data)\n",
    "\n",
    "front += 1\n",
    "data = queue[front]\n",
    "queue[front] = None\n",
    "print(\"Dequeue ->\", data)"
   ]
  },
  {
   "cell_type": "code",
   "execution_count": 11,
   "id": "ec47e0dc",
   "metadata": {},
   "outputs": [
    {
     "data": {
      "text/plain": [
       "[None, None, None, None, None]"
      ]
     },
     "execution_count": 11,
     "metadata": {},
     "output_type": "execute_result"
    }
   ],
   "source": [
    "queue"
   ]
  },
  {
   "cell_type": "markdown",
   "id": "0ab25d02",
   "metadata": {},
   "source": [
    "***"
   ]
  },
  {
   "cell_type": "markdown",
   "id": "f646f0f6",
   "metadata": {},
   "source": [
    "## ✅ General Ver."
   ]
  },
  {
   "cell_type": "markdown",
   "id": "f0979195",
   "metadata": {},
   "source": [
    "### Create Queue"
   ]
  },
  {
   "cell_type": "code",
   "execution_count": 36,
   "id": "e0f5bc23",
   "metadata": {},
   "outputs": [
    {
     "data": {
      "text/plain": [
       "[None, None, None, None, None]"
      ]
     },
     "execution_count": 36,
     "metadata": {},
     "output_type": "execute_result"
    }
   ],
   "source": [
    "SIZE = 5\n",
    "front = rear = -1\n",
    "\n",
    "queue = [None for _ in range(SIZE)]\n",
    "queue"
   ]
  },
  {
   "cell_type": "markdown",
   "id": "a6da6a3c",
   "metadata": {},
   "source": [
    "### Func: Check Queue Full"
   ]
  },
  {
   "cell_type": "code",
   "execution_count": 21,
   "id": "035196b9",
   "metadata": {},
   "outputs": [],
   "source": [
    "def isQueueFull():\n",
    "    global SIZE, front, rear, queue\n",
    "    \n",
    "    if rear == SIZE-1:\n",
    "        return True\n",
    "    else:\n",
    "        return False"
   ]
  },
  {
   "cell_type": "code",
   "execution_count": 22,
   "id": "73c8f2ff",
   "metadata": {},
   "outputs": [
    {
     "data": {
      "text/plain": [
       "False"
      ]
     },
     "execution_count": 22,
     "metadata": {},
     "output_type": "execute_result"
    }
   ],
   "source": [
    "isQueueFull()"
   ]
  },
  {
   "cell_type": "markdown",
   "id": "275407a9",
   "metadata": {},
   "source": [
    "### Func: Check Queue Empty"
   ]
  },
  {
   "cell_type": "code",
   "execution_count": 23,
   "id": "da99bbfb",
   "metadata": {},
   "outputs": [],
   "source": [
    "def isQueueEmpty():\n",
    "    global SIZE, front, rear, queue\n",
    "    \n",
    "    if front == rear:\n",
    "        return True\n",
    "    else:\n",
    "        return False"
   ]
  },
  {
   "cell_type": "code",
   "execution_count": 24,
   "id": "b858b532",
   "metadata": {},
   "outputs": [
    {
     "data": {
      "text/plain": [
       "True"
      ]
     },
     "execution_count": 24,
     "metadata": {},
     "output_type": "execute_result"
    }
   ],
   "source": [
    "isQueueEmpty()"
   ]
  },
  {
   "cell_type": "markdown",
   "id": "b164c8e5",
   "metadata": {},
   "source": [
    "### Enqueue"
   ]
  },
  {
   "cell_type": "code",
   "execution_count": 25,
   "id": "7dd5b35c",
   "metadata": {},
   "outputs": [],
   "source": [
    "def enQueue(data):\n",
    "    global SIZE, front, rear, queue\n",
    "    \n",
    "    if isQueueFull():\n",
    "        print(\"Queue is already full.\")\n",
    "        return\n",
    "    \n",
    "    rear += 1\n",
    "    queue[rear] = data"
   ]
  },
  {
   "cell_type": "code",
   "execution_count": 26,
   "id": "48fe396b",
   "metadata": {},
   "outputs": [
    {
     "name": "stdout",
     "output_type": "stream",
     "text": [
      "['A', None, None, None, None]\n",
      "['A', 'B', None, None, None]\n",
      "['A', 'B', 'C', None, None]\n",
      "['A', 'B', 'C', 'D', None]\n",
      "['A', 'B', 'C', 'D', 'E']\n",
      "Queue is already full.\n",
      "['A', 'B', 'C', 'D', 'E']\n"
     ]
    }
   ],
   "source": [
    "enQueue('A')\n",
    "print(queue)\n",
    "enQueue('B')\n",
    "print(queue)\n",
    "enQueue('C')\n",
    "print(queue)\n",
    "enQueue('D')\n",
    "print(queue)\n",
    "enQueue('E')\n",
    "print(queue)\n",
    "enQueue('F')\n",
    "print(queue)"
   ]
  },
  {
   "cell_type": "markdown",
   "id": "78f87b02",
   "metadata": {},
   "source": [
    "### Dequeue"
   ]
  },
  {
   "cell_type": "code",
   "execution_count": 27,
   "id": "6cdc782a",
   "metadata": {},
   "outputs": [],
   "source": [
    "def deQueue():\n",
    "    global SIZE, front, rear, queue\n",
    "    \n",
    "    if isQueueEmpty():\n",
    "        print(\"Queue is empty.\")\n",
    "        return None\n",
    "    \n",
    "    front += 1\n",
    "    data = queue[front]\n",
    "    queue[front] = None\n",
    "    return data"
   ]
  },
  {
   "cell_type": "code",
   "execution_count": 28,
   "id": "a0c1ad5a",
   "metadata": {},
   "outputs": [
    {
     "name": "stdout",
     "output_type": "stream",
     "text": [
      "Dequeue -> A\n",
      "Dequeue -> B\n",
      "[None, None, 'C', 'D', 'E']\n"
     ]
    }
   ],
   "source": [
    "data = deQueue()\n",
    "print(\"Dequeue ->\", data)\n",
    "data = deQueue()\n",
    "print(\"Dequeue ->\", data)\n",
    "print(queue)"
   ]
  },
  {
   "cell_type": "markdown",
   "id": "a7878abd",
   "metadata": {},
   "source": [
    "### Peek"
   ]
  },
  {
   "cell_type": "code",
   "execution_count": 29,
   "id": "4e457650",
   "metadata": {},
   "outputs": [],
   "source": [
    "def peek():\n",
    "    global SIZE, front, rear, queue\n",
    "    \n",
    "    if isQueueEmpty():\n",
    "        print(\"Queue is empty.\")\n",
    "        return None\n",
    "    \n",
    "    data = queue[front+1]\n",
    "    return data"
   ]
  },
  {
   "cell_type": "code",
   "execution_count": 30,
   "id": "6256373c",
   "metadata": {},
   "outputs": [
    {
     "name": "stdout",
     "output_type": "stream",
     "text": [
      "Peek -> C\n",
      "[None, None, 'C', 'D', 'E']\n"
     ]
    }
   ],
   "source": [
    "data = peek()\n",
    "print(\"Peek ->\", data)\n",
    "print(queue)"
   ]
  },
  {
   "cell_type": "markdown",
   "id": "76ed05b4",
   "metadata": {},
   "source": [
    "***"
   ]
  },
  {
   "cell_type": "markdown",
   "id": "b7a31d45",
   "metadata": {},
   "source": [
    "### Q.1"
   ]
  },
  {
   "cell_type": "markdown",
   "id": "7c122a76",
   "metadata": {},
   "source": [
    "- Queue 의 기능 개선\n",
    "<br>\n",
    "<br>\n",
    "- isQueueFull 함수 개선\n",
    "<br>\n",
    "<br>\n",
    "- Queue 의 메모리를 더욱 효율적으로 사용 가능"
   ]
  },
  {
   "cell_type": "markdown",
   "id": "2b9c9c1a",
   "metadata": {},
   "source": [
    "### Func: Check Queue Full Advanced"
   ]
  },
  {
   "cell_type": "code",
   "execution_count": 34,
   "id": "4d47ac80",
   "metadata": {},
   "outputs": [],
   "source": [
    "def isQueueFull():\n",
    "    global SIZE, front, rear, queue\n",
    "    \n",
    "    if rear != SIZE-1:\n",
    "        return False\n",
    "    elif rear == SIZE-1 and front == -1:\n",
    "        return True\n",
    "    else:\n",
    "        for i in range(front, SIZE-1):\n",
    "            queue[i] = queue[i+1]\n",
    "            queue[i+1] = None\n",
    "            \n",
    "        front -= 1\n",
    "        rear -= 1\n",
    "        return False"
   ]
  },
  {
   "cell_type": "markdown",
   "id": "ef286d78",
   "metadata": {},
   "source": [
    "### Enqueue"
   ]
  },
  {
   "cell_type": "code",
   "execution_count": 35,
   "id": "747454de",
   "metadata": {},
   "outputs": [],
   "source": [
    "def enQueue(data):\n",
    "    global SIZE, front, rear, queue\n",
    "    \n",
    "    if isQueueFull():\n",
    "        print(\"Queue is already full.\")\n",
    "        return\n",
    "    \n",
    "    rear += 1\n",
    "    queue[rear] = data"
   ]
  },
  {
   "cell_type": "code",
   "execution_count": 37,
   "id": "a414b774",
   "metadata": {},
   "outputs": [
    {
     "name": "stdout",
     "output_type": "stream",
     "text": [
      "['A', None, None, None, None]\n",
      "['A', 'B', None, None, None]\n",
      "['A', 'B', 'C', None, None]\n",
      "['A', 'B', 'C', 'D', None]\n",
      "['A', 'B', 'C', 'D', 'E']\n",
      "Queue is already full.\n",
      "['A', 'B', 'C', 'D', 'E']\n"
     ]
    }
   ],
   "source": [
    "enQueue('A')\n",
    "print(queue)\n",
    "enQueue('B')\n",
    "print(queue)\n",
    "enQueue('C')\n",
    "print(queue)\n",
    "enQueue('D')\n",
    "print(queue)\n",
    "enQueue('E')\n",
    "print(queue)\n",
    "enQueue('F')\n",
    "print(queue)"
   ]
  },
  {
   "cell_type": "code",
   "execution_count": 38,
   "id": "74dcc580",
   "metadata": {},
   "outputs": [
    {
     "name": "stdout",
     "output_type": "stream",
     "text": [
      "Dequeue -> A\n",
      "[None, 'B', 'C', 'D', 'E']\n",
      "Dequeue -> B\n",
      "[None, None, 'C', 'D', 'E']\n"
     ]
    }
   ],
   "source": [
    "data = deQueue()\n",
    "print(\"Dequeue ->\", data)\n",
    "print(queue)\n",
    "data = deQueue()\n",
    "print(\"Dequeue ->\", data)\n",
    "print(queue)"
   ]
  },
  {
   "cell_type": "code",
   "execution_count": 39,
   "id": "a96fc6b5",
   "metadata": {},
   "outputs": [
    {
     "name": "stdout",
     "output_type": "stream",
     "text": [
      "[None, 'C', 'D', 'E', 'Test1']\n",
      "['C', 'D', 'E', 'Test1', 'Test2']\n",
      "Queue is already full.\n",
      "['C', 'D', 'E', 'Test1', 'Test2']\n"
     ]
    }
   ],
   "source": [
    "enQueue('Test1')\n",
    "print(queue)\n",
    "enQueue('Test2')\n",
    "print(queue)\n",
    "enQueue('Test3')\n",
    "print(queue)"
   ]
  }
 ],
 "metadata": {
  "kernelspec": {
   "display_name": "Python 3 (ipykernel)",
   "language": "python",
   "name": "python3"
  },
  "language_info": {
   "codemirror_mode": {
    "name": "ipython",
    "version": 3
   },
   "file_extension": ".py",
   "mimetype": "text/x-python",
   "name": "python",
   "nbconvert_exporter": "python",
   "pygments_lexer": "ipython3",
   "version": "3.10.1"
  }
 },
 "nbformat": 4,
 "nbformat_minor": 5
}

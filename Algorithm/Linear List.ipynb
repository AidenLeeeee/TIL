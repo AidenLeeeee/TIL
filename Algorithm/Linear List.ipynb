{
 "cells": [
  {
   "cell_type": "markdown",
   "id": "ab46eb0f",
   "metadata": {},
   "source": [
    "# Linear List"
   ]
  },
  {
   "cell_type": "markdown",
   "id": "5bad789f",
   "metadata": {},
   "source": [
    "- **Linear List** 는 데이터를 일정한 순서로 나열한 자료구조로서, **Ordered List** 라고도 한다.\n",
    "<br>\n",
    "<br>\n",
    "- 메모리에서도 차례대로 저장된다.\n",
    "<br>\n",
    "<br>\n",
    "- 입력 순서대로 저장하는 데이터를 다루기에 적합하다.\n",
    "<br>\n",
    "<br>\n",
    "- 배열을 이용하여 구현하는 것이 기본적이다."
   ]
  },
  {
   "cell_type": "markdown",
   "id": "a4623b0e",
   "metadata": {},
   "source": [
    "***"
   ]
  },
  {
   "cell_type": "markdown",
   "id": "811ef55a",
   "metadata": {},
   "source": [
    "## ✅ Simple Ver."
   ]
  },
  {
   "cell_type": "markdown",
   "id": "3d43a39c",
   "metadata": {},
   "source": [
    "### Create Linear List"
   ]
  },
  {
   "cell_type": "code",
   "execution_count": 14,
   "id": "421d19e8",
   "metadata": {},
   "outputs": [],
   "source": [
    "linear_list = ['A', 'B', 'C', 'D', 'E']"
   ]
  },
  {
   "cell_type": "markdown",
   "id": "d3e441da",
   "metadata": {},
   "source": [
    "### Insert #1"
   ]
  },
  {
   "cell_type": "code",
   "execution_count": 15,
   "id": "89e0eaae",
   "metadata": {},
   "outputs": [
    {
     "name": "stdout",
     "output_type": "stream",
     "text": [
      "['A', 'B', 'C', 'D', 'E', None]\n"
     ]
    }
   ],
   "source": [
    "linear_list.append(None)\n",
    "print(linear_list)"
   ]
  },
  {
   "cell_type": "code",
   "execution_count": 16,
   "id": "89387a97",
   "metadata": {},
   "outputs": [
    {
     "name": "stdout",
     "output_type": "stream",
     "text": [
      "['A', 'B', 'C', 'D', 'E', 'F']\n"
     ]
    }
   ],
   "source": [
    "linear_list[5] = 'F'\n",
    "print(linear_list)"
   ]
  },
  {
   "cell_type": "markdown",
   "id": "94690ed0",
   "metadata": {},
   "source": [
    "### Insert #2"
   ]
  },
  {
   "cell_type": "code",
   "execution_count": 17,
   "id": "0dc6ae60",
   "metadata": {},
   "outputs": [
    {
     "name": "stdout",
     "output_type": "stream",
     "text": [
      "['A', 'B', 'C', 'D', 'E', 'F', None]\n"
     ]
    }
   ],
   "source": [
    "linear_list.append(None)\n",
    "print(linear_list)"
   ]
  },
  {
   "cell_type": "code",
   "execution_count": 18,
   "id": "66d92de8",
   "metadata": {},
   "outputs": [
    {
     "name": "stdout",
     "output_type": "stream",
     "text": [
      "['A', 'B', 'C', 'D', None, 'E', 'F']\n"
     ]
    }
   ],
   "source": [
    "linear_list[6], linear_list[5] = linear_list[5], linear_list[4]\n",
    "linear_list[4] = None\n",
    "print(linear_list)"
   ]
  },
  {
   "cell_type": "code",
   "execution_count": 19,
   "id": "fc984ee3",
   "metadata": {},
   "outputs": [
    {
     "name": "stdout",
     "output_type": "stream",
     "text": [
      "['A', 'B', 'C', 'D', 'G', 'E', 'F']\n"
     ]
    }
   ],
   "source": [
    "linear_list[4] = 'G'\n",
    "print(linear_list)"
   ]
  },
  {
   "cell_type": "markdown",
   "id": "8f111993",
   "metadata": {},
   "source": [
    "### Delete"
   ]
  },
  {
   "cell_type": "code",
   "execution_count": 20,
   "id": "c0647829",
   "metadata": {},
   "outputs": [
    {
     "name": "stdout",
     "output_type": "stream",
     "text": [
      "['A', 'B', 'C', 'D', None, 'E', 'F']\n"
     ]
    }
   ],
   "source": [
    "linear_list[4] = None\n",
    "print(linear_list)"
   ]
  },
  {
   "cell_type": "code",
   "execution_count": 21,
   "id": "ee66711b",
   "metadata": {},
   "outputs": [
    {
     "name": "stdout",
     "output_type": "stream",
     "text": [
      "['A', 'B', 'C', 'D', 'E', 'F', None]\n"
     ]
    }
   ],
   "source": [
    "linear_list[4], linear_list[5] = linear_list[5], linear_list[6]\n",
    "linear_list[6] = None\n",
    "print(linear_list)"
   ]
  },
  {
   "cell_type": "code",
   "execution_count": 22,
   "id": "d2ce61ff",
   "metadata": {},
   "outputs": [
    {
     "name": "stdout",
     "output_type": "stream",
     "text": [
      "['A', 'B', 'C', 'D', 'E', 'F']\n"
     ]
    }
   ],
   "source": [
    "del(linear_list[6])\n",
    "print(linear_list)"
   ]
  },
  {
   "cell_type": "markdown",
   "id": "22d99141",
   "metadata": {},
   "source": [
    "***"
   ]
  },
  {
   "cell_type": "markdown",
   "id": "327c401f",
   "metadata": {},
   "source": [
    "## ✅ General Ver."
   ]
  },
  {
   "cell_type": "markdown",
   "id": "e56db417",
   "metadata": {},
   "source": [
    "### Create Linear List"
   ]
  },
  {
   "cell_type": "code",
   "execution_count": 77,
   "id": "9a3d5b67",
   "metadata": {},
   "outputs": [],
   "source": [
    "linearList = []"
   ]
  },
  {
   "cell_type": "code",
   "execution_count": 78,
   "id": "c3802ab3",
   "metadata": {},
   "outputs": [],
   "source": [
    "def initialize_list(data):\n",
    "    linearList.append(None)\n",
    "    length = len(linearList)\n",
    "    linearList[length-1] = data"
   ]
  },
  {
   "cell_type": "code",
   "execution_count": 79,
   "id": "43d16f9e",
   "metadata": {},
   "outputs": [
    {
     "name": "stdout",
     "output_type": "stream",
     "text": [
      "['A', 'B', 'C', 'D', 'E']\n"
     ]
    }
   ],
   "source": [
    "initialize_list('A')\n",
    "initialize_list('B')\n",
    "initialize_list('C')\n",
    "initialize_list('D')\n",
    "initialize_list('E')\n",
    "\n",
    "print(linearList)"
   ]
  },
  {
   "cell_type": "markdown",
   "id": "a50dad2a",
   "metadata": {},
   "source": [
    "### Insert"
   ]
  },
  {
   "cell_type": "code",
   "execution_count": 80,
   "id": "f8e3358b",
   "metadata": {},
   "outputs": [],
   "source": [
    "def insert_data(position, data):\n",
    "    if position > len(linearList) or position < 0:\n",
    "        print(\"position Error\")\n",
    "        return\n",
    "    \n",
    "    linearList.append(None)\n",
    "    length = len(linearList)\n",
    "    for idx in range(length-1, position, -1):\n",
    "        linearList[idx] = linearList[idx-1]\n",
    "        linearList[idx-1] = None\n",
    "        \n",
    "    linearList[position] = data"
   ]
  },
  {
   "cell_type": "code",
   "execution_count": 81,
   "id": "74f6d327",
   "metadata": {},
   "outputs": [
    {
     "name": "stdout",
     "output_type": "stream",
     "text": [
      "['A', 'B', 'F', 'C', 'D', 'E']\n"
     ]
    }
   ],
   "source": [
    "insert_data(2, 'F')\n",
    "print(linearList)"
   ]
  },
  {
   "cell_type": "code",
   "execution_count": 82,
   "id": "c1872d08",
   "metadata": {},
   "outputs": [
    {
     "name": "stdout",
     "output_type": "stream",
     "text": [
      "['A', 'B', 'F', 'C', 'D', 'E', 'G']\n"
     ]
    }
   ],
   "source": [
    "insert_data(6, 'G')\n",
    "print(linearList)"
   ]
  },
  {
   "cell_type": "code",
   "execution_count": 83,
   "id": "d0b62de2",
   "metadata": {},
   "outputs": [
    {
     "name": "stdout",
     "output_type": "stream",
     "text": [
      "position Error\n"
     ]
    }
   ],
   "source": [
    "insert_data(9, 'H')"
   ]
  },
  {
   "cell_type": "markdown",
   "id": "1edb117e",
   "metadata": {},
   "source": [
    "### Delete"
   ]
  },
  {
   "cell_type": "code",
   "execution_count": 84,
   "id": "bc3c51a3",
   "metadata": {},
   "outputs": [],
   "source": [
    "def delete_data(position):\n",
    "    if position >= len(linearList) or position < 0:\n",
    "        print(\"position Error\")\n",
    "        return\n",
    "    \n",
    "    linearList[position] = None\n",
    "    length = len(linearList)\n",
    "    \n",
    "    for idx in range(position, length-1):\n",
    "        linearList[idx] = linearList[idx+1]\n",
    "        linearList[idx+1] = None\n",
    "        \n",
    "    del(linearList[length-1])"
   ]
  },
  {
   "cell_type": "code",
   "execution_count": 85,
   "id": "84475b5a",
   "metadata": {},
   "outputs": [
    {
     "name": "stdout",
     "output_type": "stream",
     "text": [
      "['A', 'F', 'C', 'D', 'E', 'G']\n"
     ]
    }
   ],
   "source": [
    "delete_data(1)\n",
    "print(linearList)"
   ]
  },
  {
   "cell_type": "code",
   "execution_count": 86,
   "id": "f54ec51b",
   "metadata": {},
   "outputs": [
    {
     "name": "stdout",
     "output_type": "stream",
     "text": [
      "['A', 'F', 'C', 'D', 'E']\n"
     ]
    }
   ],
   "source": [
    "delete_data(5)\n",
    "print(linearList)"
   ]
  },
  {
   "cell_type": "code",
   "execution_count": 88,
   "id": "fc062dd6",
   "metadata": {},
   "outputs": [
    {
     "name": "stdout",
     "output_type": "stream",
     "text": [
      "position Error\n"
     ]
    }
   ],
   "source": [
    "delete_data(5)"
   ]
  },
  {
   "cell_type": "markdown",
   "id": "695a41e5",
   "metadata": {},
   "source": [
    "### Delete #2"
   ]
  },
  {
   "cell_type": "markdown",
   "id": "dfa8ce50",
   "metadata": {},
   "source": [
    "- `position` 을 입력받고 `position` 이후의 모든 데이터를 삭제하는 함수"
   ]
  },
  {
   "cell_type": "code",
   "execution_count": 104,
   "id": "7acb2ef7",
   "metadata": {},
   "outputs": [
    {
     "name": "stdout",
     "output_type": "stream",
     "text": [
      "['A', 'B', 'C', 'D', 'E']\n"
     ]
    }
   ],
   "source": [
    "linearList = []\n",
    "\n",
    "initialize_list('A')\n",
    "initialize_list('B')\n",
    "initialize_list('C')\n",
    "initialize_list('D')\n",
    "initialize_list('E')\n",
    "\n",
    "print(linearList)"
   ]
  },
  {
   "cell_type": "code",
   "execution_count": 105,
   "id": "000bfcaa",
   "metadata": {},
   "outputs": [],
   "source": [
    "def delete_over_position(position):\n",
    "    if position < 0 or position >= len(linearList):\n",
    "        print(\"position Error\")\n",
    "        return\n",
    "    \n",
    "    length = len(linearList)\n",
    "    \n",
    "    for _ in range(length-position):\n",
    "        linearList[position] = None\n",
    "        for i in range(position, length-1):\n",
    "            linearList[i] = linearList[i+1]\n",
    "            linearList[i+1] = None\n",
    "        del(linearList[length-1])\n",
    "        length = len(linearList)"
   ]
  },
  {
   "cell_type": "code",
   "execution_count": 106,
   "id": "386e535d",
   "metadata": {},
   "outputs": [
    {
     "name": "stdout",
     "output_type": "stream",
     "text": [
      "['A']\n"
     ]
    }
   ],
   "source": [
    "delete_over_position(1)\n",
    "print(linearList)"
   ]
  },
  {
   "cell_type": "code",
   "execution_count": null,
   "id": "d249117b",
   "metadata": {},
   "outputs": [],
   "source": []
  }
 ],
 "metadata": {
  "kernelspec": {
   "display_name": "Python 3 (ipykernel)",
   "language": "python",
   "name": "python3"
  },
  "language_info": {
   "codemirror_mode": {
    "name": "ipython",
    "version": 3
   },
   "file_extension": ".py",
   "mimetype": "text/x-python",
   "name": "python",
   "nbconvert_exporter": "python",
   "pygments_lexer": "ipython3",
   "version": "3.10.1"
  }
 },
 "nbformat": 4,
 "nbformat_minor": 5
}

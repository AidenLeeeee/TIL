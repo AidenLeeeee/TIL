{
 "cells": [
  {
   "cell_type": "markdown",
   "id": "ab46eb0f",
   "metadata": {},
   "source": [
    "# Linear List"
   ]
  },
  {
   "cell_type": "markdown",
   "id": "5bad789f",
   "metadata": {},
   "source": [
    "- **Linear List** 는 데이터를 일정한 순서로 나열한 자료구조로서, **Ordered List** 라고도 한다.\n",
    "<br>\n",
    "<br>\n",
    "- 메모리에서도 차례대로 저장된다.\n",
    "<br>\n",
    "<br>\n",
    "- 입력 순서대로 저장하는 데이터를 다루기에 적합하다.\n",
    "<br>\n",
    "<br>\n",
    "- 배열을 이용하여 구현하는 것이 기본적이다.\n",
    "<br>\n",
    "<br>\n",
    "- 저장되는 데이터의 **논리적인 순서와 물리적인 순서가 동일**하기 때문에 **데이터를 찾기 쉽고, 구현하기 간단**하다.\n",
    "<br>\n",
    "<br>\n",
    "- 하지만 데이터를 **삽입**하거나 **삭제**하기 위해서는 수많은 데이터의 위치를 함께 이동시켜주어야 하므로, **많은 작업이 필요**하다."
   ]
  },
  {
   "cell_type": "markdown",
   "id": "a4623b0e",
   "metadata": {},
   "source": [
    "***"
   ]
  },
  {
   "cell_type": "markdown",
   "id": "811ef55a",
   "metadata": {},
   "source": [
    "## ✅ Simple Ver."
   ]
  },
  {
   "cell_type": "markdown",
   "id": "3d43a39c",
   "metadata": {},
   "source": [
    "### Create Linear List"
   ]
  },
  {
   "cell_type": "code",
   "execution_count": 14,
   "id": "421d19e8",
   "metadata": {},
   "outputs": [],
   "source": [
    "linear_list = ['A', 'B', 'C', 'D', 'E']"
   ]
  },
  {
   "cell_type": "markdown",
   "id": "d3e441da",
   "metadata": {},
   "source": [
    "### Insert #1"
   ]
  },
  {
   "cell_type": "code",
   "execution_count": 15,
   "id": "89e0eaae",
   "metadata": {},
   "outputs": [
    {
     "name": "stdout",
     "output_type": "stream",
     "text": [
      "['A', 'B', 'C', 'D', 'E', None]\n"
     ]
    }
   ],
   "source": [
    "linear_list.append(None)\n",
    "print(linear_list)"
   ]
  },
  {
   "cell_type": "code",
   "execution_count": 16,
   "id": "89387a97",
   "metadata": {},
   "outputs": [
    {
     "name": "stdout",
     "output_type": "stream",
     "text": [
      "['A', 'B', 'C', 'D', 'E', 'F']\n"
     ]
    }
   ],
   "source": [
    "linear_list[5] = 'F'\n",
    "print(linear_list)"
   ]
  },
  {
   "cell_type": "markdown",
   "id": "94690ed0",
   "metadata": {},
   "source": [
    "### Insert #2"
   ]
  },
  {
   "cell_type": "code",
   "execution_count": 17,
   "id": "0dc6ae60",
   "metadata": {},
   "outputs": [
    {
     "name": "stdout",
     "output_type": "stream",
     "text": [
      "['A', 'B', 'C', 'D', 'E', 'F', None]\n"
     ]
    }
   ],
   "source": [
    "linear_list.append(None)\n",
    "print(linear_list)"
   ]
  },
  {
   "cell_type": "code",
   "execution_count": 18,
   "id": "66d92de8",
   "metadata": {},
   "outputs": [
    {
     "name": "stdout",
     "output_type": "stream",
     "text": [
      "['A', 'B', 'C', 'D', None, 'E', 'F']\n"
     ]
    }
   ],
   "source": [
    "linear_list[6], linear_list[5] = linear_list[5], linear_list[4]\n",
    "linear_list[4] = None\n",
    "print(linear_list)"
   ]
  },
  {
   "cell_type": "code",
   "execution_count": 19,
   "id": "fc984ee3",
   "metadata": {},
   "outputs": [
    {
     "name": "stdout",
     "output_type": "stream",
     "text": [
      "['A', 'B', 'C', 'D', 'G', 'E', 'F']\n"
     ]
    }
   ],
   "source": [
    "linear_list[4] = 'G'\n",
    "print(linear_list)"
   ]
  },
  {
   "cell_type": "markdown",
   "id": "8f111993",
   "metadata": {},
   "source": [
    "### Delete"
   ]
  },
  {
   "cell_type": "code",
   "execution_count": 20,
   "id": "c0647829",
   "metadata": {},
   "outputs": [
    {
     "name": "stdout",
     "output_type": "stream",
     "text": [
      "['A', 'B', 'C', 'D', None, 'E', 'F']\n"
     ]
    }
   ],
   "source": [
    "linear_list[4] = None\n",
    "print(linear_list)"
   ]
  },
  {
   "cell_type": "code",
   "execution_count": 21,
   "id": "ee66711b",
   "metadata": {},
   "outputs": [
    {
     "name": "stdout",
     "output_type": "stream",
     "text": [
      "['A', 'B', 'C', 'D', 'E', 'F', None]\n"
     ]
    }
   ],
   "source": [
    "linear_list[4], linear_list[5] = linear_list[5], linear_list[6]\n",
    "linear_list[6] = None\n",
    "print(linear_list)"
   ]
  },
  {
   "cell_type": "code",
   "execution_count": 22,
   "id": "d2ce61ff",
   "metadata": {},
   "outputs": [
    {
     "name": "stdout",
     "output_type": "stream",
     "text": [
      "['A', 'B', 'C', 'D', 'E', 'F']\n"
     ]
    }
   ],
   "source": [
    "del(linear_list[6])\n",
    "print(linear_list)"
   ]
  },
  {
   "cell_type": "markdown",
   "id": "22d99141",
   "metadata": {},
   "source": [
    "***"
   ]
  },
  {
   "cell_type": "markdown",
   "id": "327c401f",
   "metadata": {},
   "source": [
    "## ✅ General Ver."
   ]
  },
  {
   "cell_type": "markdown",
   "id": "e56db417",
   "metadata": {},
   "source": [
    "### Create Linear List"
   ]
  },
  {
   "cell_type": "code",
   "execution_count": 77,
   "id": "9a3d5b67",
   "metadata": {},
   "outputs": [],
   "source": [
    "linearList = []"
   ]
  },
  {
   "cell_type": "code",
   "execution_count": 78,
   "id": "c3802ab3",
   "metadata": {},
   "outputs": [],
   "source": [
    "def initialize_list(data):\n",
    "    linearList.append(None)\n",
    "    length = len(linearList)\n",
    "    linearList[length-1] = data"
   ]
  },
  {
   "cell_type": "code",
   "execution_count": 79,
   "id": "43d16f9e",
   "metadata": {},
   "outputs": [
    {
     "name": "stdout",
     "output_type": "stream",
     "text": [
      "['A', 'B', 'C', 'D', 'E']\n"
     ]
    }
   ],
   "source": [
    "initialize_list('A')\n",
    "initialize_list('B')\n",
    "initialize_list('C')\n",
    "initialize_list('D')\n",
    "initialize_list('E')\n",
    "\n",
    "print(linearList)"
   ]
  },
  {
   "cell_type": "markdown",
   "id": "a50dad2a",
   "metadata": {},
   "source": [
    "### Insert"
   ]
  },
  {
   "cell_type": "code",
   "execution_count": 80,
   "id": "f8e3358b",
   "metadata": {},
   "outputs": [],
   "source": [
    "def insert_data(position, data):\n",
    "    if position > len(linearList) or position < 0:\n",
    "        print(\"position Error\")\n",
    "        return\n",
    "    \n",
    "    linearList.append(None)\n",
    "    length = len(linearList)\n",
    "    for idx in range(length-1, position, -1):\n",
    "        linearList[idx] = linearList[idx-1]\n",
    "        linearList[idx-1] = None\n",
    "        \n",
    "    linearList[position] = data"
   ]
  },
  {
   "cell_type": "code",
   "execution_count": 81,
   "id": "74f6d327",
   "metadata": {},
   "outputs": [
    {
     "name": "stdout",
     "output_type": "stream",
     "text": [
      "['A', 'B', 'F', 'C', 'D', 'E']\n"
     ]
    }
   ],
   "source": [
    "insert_data(2, 'F')\n",
    "print(linearList)"
   ]
  },
  {
   "cell_type": "code",
   "execution_count": 82,
   "id": "c1872d08",
   "metadata": {},
   "outputs": [
    {
     "name": "stdout",
     "output_type": "stream",
     "text": [
      "['A', 'B', 'F', 'C', 'D', 'E', 'G']\n"
     ]
    }
   ],
   "source": [
    "insert_data(6, 'G')\n",
    "print(linearList)"
   ]
  },
  {
   "cell_type": "code",
   "execution_count": 83,
   "id": "d0b62de2",
   "metadata": {},
   "outputs": [
    {
     "name": "stdout",
     "output_type": "stream",
     "text": [
      "position Error\n"
     ]
    }
   ],
   "source": [
    "insert_data(9, 'H')"
   ]
  },
  {
   "cell_type": "markdown",
   "id": "1edb117e",
   "metadata": {},
   "source": [
    "### Delete"
   ]
  },
  {
   "cell_type": "code",
   "execution_count": 84,
   "id": "bc3c51a3",
   "metadata": {},
   "outputs": [],
   "source": [
    "def delete_data(position):\n",
    "    if position >= len(linearList) or position < 0:\n",
    "        print(\"position Error\")\n",
    "        return\n",
    "    \n",
    "    linearList[position] = None\n",
    "    length = len(linearList)\n",
    "    \n",
    "    for idx in range(position, length-1):\n",
    "        linearList[idx] = linearList[idx+1]\n",
    "        linearList[idx+1] = None\n",
    "        \n",
    "    del(linearList[length-1])"
   ]
  },
  {
   "cell_type": "code",
   "execution_count": 85,
   "id": "84475b5a",
   "metadata": {},
   "outputs": [
    {
     "name": "stdout",
     "output_type": "stream",
     "text": [
      "['A', 'F', 'C', 'D', 'E', 'G']\n"
     ]
    }
   ],
   "source": [
    "delete_data(1)\n",
    "print(linearList)"
   ]
  },
  {
   "cell_type": "code",
   "execution_count": 86,
   "id": "f54ec51b",
   "metadata": {},
   "outputs": [
    {
     "name": "stdout",
     "output_type": "stream",
     "text": [
      "['A', 'F', 'C', 'D', 'E']\n"
     ]
    }
   ],
   "source": [
    "delete_data(5)\n",
    "print(linearList)"
   ]
  },
  {
   "cell_type": "code",
   "execution_count": 88,
   "id": "fc062dd6",
   "metadata": {},
   "outputs": [
    {
     "name": "stdout",
     "output_type": "stream",
     "text": [
      "position Error\n"
     ]
    }
   ],
   "source": [
    "delete_data(5)"
   ]
  },
  {
   "cell_type": "markdown",
   "id": "1e7db9bf",
   "metadata": {},
   "source": [
    "***"
   ]
  },
  {
   "cell_type": "markdown",
   "id": "695a41e5",
   "metadata": {},
   "source": [
    "### Q.1"
   ]
  },
  {
   "cell_type": "markdown",
   "id": "dfa8ce50",
   "metadata": {},
   "source": [
    "- `position` 을 입력받고 `position` 이후의 모든 데이터를 삭제하는 함수"
   ]
  },
  {
   "cell_type": "code",
   "execution_count": 104,
   "id": "7acb2ef7",
   "metadata": {},
   "outputs": [
    {
     "name": "stdout",
     "output_type": "stream",
     "text": [
      "['A', 'B', 'C', 'D', 'E']\n"
     ]
    }
   ],
   "source": [
    "linearList = []\n",
    "\n",
    "initialize_list('A')\n",
    "initialize_list('B')\n",
    "initialize_list('C')\n",
    "initialize_list('D')\n",
    "initialize_list('E')\n",
    "\n",
    "print(linearList)"
   ]
  },
  {
   "cell_type": "code",
   "execution_count": 105,
   "id": "000bfcaa",
   "metadata": {},
   "outputs": [],
   "source": [
    "def delete_over_position(position):\n",
    "    if position < 0 or position >= len(linearList):\n",
    "        print(\"position Error\")\n",
    "        return\n",
    "    \n",
    "    length = len(linearList)\n",
    "    \n",
    "    for _ in range(length-position):\n",
    "        linearList[position] = None\n",
    "        for i in range(position, length-1):\n",
    "            linearList[i] = linearList[i+1]\n",
    "            linearList[i+1] = None\n",
    "        del(linearList[length-1])\n",
    "        length = len(linearList)"
   ]
  },
  {
   "cell_type": "code",
   "execution_count": 106,
   "id": "386e535d",
   "metadata": {},
   "outputs": [
    {
     "name": "stdout",
     "output_type": "stream",
     "text": [
      "['A']\n"
     ]
    }
   ],
   "source": [
    "delete_over_position(1)\n",
    "print(linearList)"
   ]
  },
  {
   "cell_type": "markdown",
   "id": "d37ab43b",
   "metadata": {},
   "source": [
    "### Q.2"
   ]
  },
  {
   "cell_type": "markdown",
   "id": "c1e66ab0",
   "metadata": {},
   "source": [
    "- 카톡 친구 자동 삽입 프로그램\n",
    "<br>\n",
    "<br>\n",
    "- 연락 횟수 오름차순 정렬"
   ]
  },
  {
   "cell_type": "code",
   "execution_count": 2,
   "id": "1ba99dfa",
   "metadata": {},
   "outputs": [],
   "source": [
    "# Initialize\n",
    "friend_list = [('A', 200), ('B', 150), ('C', 90), ('D', 30), ('E', 15)]"
   ]
  },
  {
   "cell_type": "code",
   "execution_count": 5,
   "id": "947256df",
   "metadata": {},
   "outputs": [],
   "source": [
    "def find_and_insert_data(name, count):\n",
    "    global friend_list\n",
    "    flen = len(friend_list)\n",
    "    \n",
    "    friend_list.append(None)\n",
    "    \n",
    "    for i, v in enumerate(friend_list):\n",
    "        if v == None:\n",
    "            friend_list[i] = (name, count)\n",
    "            print(\"Success!\")\n",
    "            return\n",
    "        if count >= v[1]:\n",
    "            for j in range(flen, i, -1):\n",
    "                friend_list[j] = friend_list[j-1]\n",
    "                friend_list[j-1] = None\n",
    "            friend_list[i] = (name, count)\n",
    "            print(\"Success!\")\n",
    "            return"
   ]
  },
  {
   "cell_type": "code",
   "execution_count": 6,
   "id": "65ce38a8",
   "metadata": {},
   "outputs": [
    {
     "name": "stdout",
     "output_type": "stream",
     "text": [
      "Success!\n",
      "[('A', 200), ('B', 150), ('TEST', 100), ('C', 90), ('D', 30), ('E', 15)]\n"
     ]
    }
   ],
   "source": [
    "test_name = 'TEST'\n",
    "test_count = 100\n",
    "find_and_insert_data(test_name, test_count)\n",
    "print(friend_list)"
   ]
  },
  {
   "cell_type": "code",
   "execution_count": 7,
   "id": "f391db07",
   "metadata": {},
   "outputs": [
    {
     "name": "stdout",
     "output_type": "stream",
     "text": [
      "Success!\n",
      "[('A', 200), ('B', 150), ('TEST', 100), ('C', 90), ('D', 30), ('TEST2', 16), ('E', 15)]\n"
     ]
    }
   ],
   "source": [
    "test_name = 'TEST2'\n",
    "test_count = 16\n",
    "find_and_insert_data(test_name, test_count)\n",
    "print(friend_list)"
   ]
  },
  {
   "cell_type": "code",
   "execution_count": 8,
   "id": "c221aa9f",
   "metadata": {},
   "outputs": [
    {
     "name": "stdout",
     "output_type": "stream",
     "text": [
      "Success!\n",
      "[('TEST3', 300), ('A', 200), ('B', 150), ('TEST', 100), ('C', 90), ('D', 30), ('TEST2', 16), ('E', 15)]\n"
     ]
    }
   ],
   "source": [
    "test_name = 'TEST3'\n",
    "test_count = 300\n",
    "find_and_insert_data(test_name, test_count)\n",
    "print(friend_list)"
   ]
  },
  {
   "cell_type": "code",
   "execution_count": 9,
   "id": "880bdd1a",
   "metadata": {},
   "outputs": [
    {
     "name": "stdout",
     "output_type": "stream",
     "text": [
      "Success!\n",
      "[('TEST3', 300), ('A', 200), ('B', 150), ('TEST', 100), ('C', 90), ('D', 30), ('TEST2', 16), ('E', 15), ('TEST4', 10)]\n"
     ]
    }
   ],
   "source": [
    "test_name = 'TEST4'\n",
    "test_count = 10\n",
    "find_and_insert_data(test_name, test_count)\n",
    "print(friend_list)"
   ]
  }
 ],
 "metadata": {
  "kernelspec": {
   "display_name": "Python 3 (ipykernel)",
   "language": "python",
   "name": "python3"
  },
  "language_info": {
   "codemirror_mode": {
    "name": "ipython",
    "version": 3
   },
   "file_extension": ".py",
   "mimetype": "text/x-python",
   "name": "python",
   "nbconvert_exporter": "python",
   "pygments_lexer": "ipython3",
   "version": "3.10.1"
  }
 },
 "nbformat": 4,
 "nbformat_minor": 5
}

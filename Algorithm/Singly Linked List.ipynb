{
 "cells": [
  {
   "cell_type": "markdown",
   "id": "26035f1c",
   "metadata": {},
   "source": [
    "# Singly Linked List"
   ]
  },
  {
   "cell_type": "markdown",
   "id": "596f851d",
   "metadata": {},
   "source": [
    "- **Singly Linked List** 에서는 저장되는 데이터의 위치가 물리적으로 연속되지 않는다.\n",
    "<br>\n",
    "<br>\n",
    "- 하지만 각 노드의 **link** 에는 다음 노드를 가리키는 정보가 포함되어 있어, 이를 통해 순차적으로 연결되어 있다.\n",
    "<br>\n",
    "<br>\n",
    "- 따라서, 데이터를 **추가**하거나 **삭제**하더라도 각 노드의 **link** 만 수정하면 되기 때문에 오버헤드가 발생하지 않는다.\n",
    "<br>\n",
    "<br>\n",
    "- 각각의 노드는 **data** 와 **link** 로 이루어져 있다.\n",
    "<br>\n",
    "<br>\n",
    "- 리스트의 가장 첫 번째 노드는 **head** 이며, 이를 기준으로 **데이터를 순방향 탐색**한다.\n",
    "<br>\n",
    "<br>\n",
    "- Singly Linked List 에서는 데이터 탐색 시, **이전 노드로 돌아갈 수 없기 때문**에 **head** 를 활용하여야 한다."
   ]
  },
  {
   "cell_type": "markdown",
   "id": "0bc72351",
   "metadata": {},
   "source": [
    "***"
   ]
  },
  {
   "cell_type": "markdown",
   "id": "fcc83f24",
   "metadata": {},
   "source": [
    "## ✅ Simple Ver."
   ]
  },
  {
   "cell_type": "markdown",
   "id": "2fb38c17",
   "metadata": {},
   "source": [
    "### Create Node"
   ]
  },
  {
   "cell_type": "code",
   "execution_count": 1,
   "id": "e2fb38ec",
   "metadata": {},
   "outputs": [],
   "source": [
    "class Node():\n",
    "    def __init__(self):\n",
    "        self.data = None\n",
    "        self.link = None"
   ]
  },
  {
   "cell_type": "markdown",
   "id": "d92b3b59",
   "metadata": {},
   "source": [
    "### Create Singly Linked List"
   ]
  },
  {
   "cell_type": "code",
   "execution_count": 5,
   "id": "0e2f7974",
   "metadata": {},
   "outputs": [],
   "source": [
    "node1 = Node()\n",
    "node1.data = 'A'\n",
    "\n",
    "node2 = Node()\n",
    "node2.data = 'B'\n",
    "node1.link = node2\n",
    "\n",
    "node3 = Node()\n",
    "node3.data = 'C'\n",
    "node2.link = node3\n",
    "\n",
    "node4 = Node()\n",
    "node4.data = 'D'\n",
    "node3.link = node4\n",
    "\n",
    "node5 = Node()\n",
    "node5.data = 'E'\n",
    "node4.link = node5\n",
    "\n",
    "node6 = Node()\n",
    "node6.data = 'F'\n",
    "node5.link = node6"
   ]
  },
  {
   "cell_type": "markdown",
   "id": "17e0034b",
   "metadata": {},
   "source": [
    "### Func: Print All Datas"
   ]
  },
  {
   "cell_type": "code",
   "execution_count": 15,
   "id": "c96037fe",
   "metadata": {},
   "outputs": [],
   "source": [
    "def print_node_data(head):\n",
    "    print(head.data, end=' ')\n",
    "    if head.link:\n",
    "        print_node_data(head.link)"
   ]
  },
  {
   "cell_type": "code",
   "execution_count": 7,
   "id": "9b76c4dc",
   "metadata": {},
   "outputs": [
    {
     "name": "stdout",
     "output_type": "stream",
     "text": [
      "A B C D E F "
     ]
    }
   ],
   "source": [
    "print_node_data(node1)"
   ]
  },
  {
   "cell_type": "markdown",
   "id": "082b0f11",
   "metadata": {},
   "source": [
    "### Insert"
   ]
  },
  {
   "cell_type": "code",
   "execution_count": 8,
   "id": "8f0a4f95",
   "metadata": {},
   "outputs": [],
   "source": [
    "# Create new node object\n",
    "node_joker = Node()\n",
    "node_joker.data = 'JOKER'\n",
    "\n",
    "# Copy previous node's link to new node's link\n",
    "node_joker.link = node3.link\n",
    "\n",
    "# Make node3's link point toward new node object\n",
    "node3.link = node_joker"
   ]
  },
  {
   "cell_type": "code",
   "execution_count": 9,
   "id": "b8829b18",
   "metadata": {},
   "outputs": [
    {
     "name": "stdout",
     "output_type": "stream",
     "text": [
      "A B C JOKER D E F "
     ]
    }
   ],
   "source": [
    "print_node_data(node1)"
   ]
  },
  {
   "cell_type": "markdown",
   "id": "48212a97",
   "metadata": {},
   "source": [
    "### Delete"
   ]
  },
  {
   "cell_type": "code",
   "execution_count": 10,
   "id": "bac5c4ce",
   "metadata": {},
   "outputs": [],
   "source": [
    "# Copy target node's link to previous node's link\n",
    "node3.link = node_joker.link\n",
    "\n",
    "# Delete the target node\n",
    "del node_joker"
   ]
  },
  {
   "cell_type": "code",
   "execution_count": 11,
   "id": "f33b833a",
   "metadata": {},
   "outputs": [
    {
     "name": "stdout",
     "output_type": "stream",
     "text": [
      "A B C D E F "
     ]
    }
   ],
   "source": [
    "print_node_data(node1)"
   ]
  },
  {
   "cell_type": "markdown",
   "id": "ad87dae1",
   "metadata": {},
   "source": [
    "***"
   ]
  },
  {
   "cell_type": "markdown",
   "id": "2b5e851b",
   "metadata": {},
   "source": [
    "## ✅ General Ver."
   ]
  },
  {
   "cell_type": "markdown",
   "id": "d0da446a",
   "metadata": {},
   "source": [
    "### Create Singly Linked List"
   ]
  },
  {
   "cell_type": "code",
   "execution_count": 12,
   "id": "9188a7c4",
   "metadata": {},
   "outputs": [],
   "source": [
    "# Declare Node Structure\n",
    "class Node():\n",
    "    def __init__(self):\n",
    "        self.data = None\n",
    "        self.link = None\n",
    "        \n",
    "\n",
    "# Declare Global Variables\n",
    "memory = []\n",
    "head, pre, current = None, None, None\n",
    "dataList = ['A', 'B', 'C', 'D', 'E']\n",
    "\n",
    "\n",
    "# Create Singly Linked List\n",
    "node = Node()\n",
    "node.data = dataList[0]\n",
    "head = node\n",
    "memory.append(node)\n",
    "\n",
    "for data in dataList[1:]:\n",
    "    pre = node\n",
    "    node = Node()\n",
    "    node.data = data\n",
    "    pre.link = node\n",
    "    memory.append(node)"
   ]
  },
  {
   "cell_type": "code",
   "execution_count": 13,
   "id": "65ebb57a",
   "metadata": {},
   "outputs": [
    {
     "name": "stdout",
     "output_type": "stream",
     "text": [
      "A B C D E "
     ]
    }
   ],
   "source": [
    "print_node_data(head)"
   ]
  },
  {
   "cell_type": "markdown",
   "id": "694887f2",
   "metadata": {},
   "source": [
    "### Insert"
   ]
  },
  {
   "cell_type": "code",
   "execution_count": 14,
   "id": "6759bb29",
   "metadata": {},
   "outputs": [],
   "source": [
    "def insert_node(find_data, insert_data):\n",
    "    global head, pre, current, memory\n",
    "    \n",
    "    # Insert First Node\n",
    "    if head.data == find_data:\n",
    "        node = Node()\n",
    "        node.data = insert_data\n",
    "        node.link = head\n",
    "        head = node\n",
    "        return\n",
    "    \n",
    "    # Insert Node\n",
    "    current = head\n",
    "    while current.link != None:\n",
    "        pre = current\n",
    "        current = current.link\n",
    "        if current.data == find_data:\n",
    "            node = Node()\n",
    "            node.data = insert_data\n",
    "            node.link = current\n",
    "            pre.link = node\n",
    "            return\n",
    "    \n",
    "    # Insert Last Node\n",
    "    node = Node()\n",
    "    node.data = insert_data\n",
    "    current.link = node"
   ]
  },
  {
   "cell_type": "code",
   "execution_count": 16,
   "id": "3b9fd751",
   "metadata": {},
   "outputs": [
    {
     "name": "stdout",
     "output_type": "stream",
     "text": [
      "First A B C D E "
     ]
    }
   ],
   "source": [
    "insert_node('A', 'First')\n",
    "print_node_data(head)"
   ]
  },
  {
   "cell_type": "code",
   "execution_count": 17,
   "id": "536185f5",
   "metadata": {},
   "outputs": [
    {
     "name": "stdout",
     "output_type": "stream",
     "text": [
      "First A B New C D E "
     ]
    }
   ],
   "source": [
    "insert_node('C', 'New')\n",
    "print_node_data(head)"
   ]
  },
  {
   "cell_type": "code",
   "execution_count": 18,
   "id": "8ee86ffa",
   "metadata": {},
   "outputs": [
    {
     "name": "stdout",
     "output_type": "stream",
     "text": [
      "First A B New C D E Last "
     ]
    }
   ],
   "source": [
    "insert_node('', 'Last')\n",
    "print_node_data(head)"
   ]
  },
  {
   "cell_type": "markdown",
   "id": "a1c55191",
   "metadata": {},
   "source": [
    "### Delete"
   ]
  },
  {
   "cell_type": "code",
   "execution_count": 19,
   "id": "5a291024",
   "metadata": {},
   "outputs": [],
   "source": [
    "def delete_node(delete_data):\n",
    "    global head, pre, current, memory\n",
    "    \n",
    "    # Delete First Node\n",
    "    if head.data == delete_data:\n",
    "        current = head\n",
    "        head = head.link\n",
    "        del(current)\n",
    "        return\n",
    "    \n",
    "    # Delete Node\n",
    "    current = head\n",
    "    while current.link != None:\n",
    "        pre = current\n",
    "        current = current.link\n",
    "        if current.data == delete_data:\n",
    "            pre.link = current.link\n",
    "            del(current)\n",
    "            return"
   ]
  },
  {
   "cell_type": "code",
   "execution_count": 20,
   "id": "18e44b1c",
   "metadata": {},
   "outputs": [
    {
     "name": "stdout",
     "output_type": "stream",
     "text": [
      "A B New C D E Last "
     ]
    }
   ],
   "source": [
    "delete_node('First')\n",
    "print_node_data(head)"
   ]
  },
  {
   "cell_type": "code",
   "execution_count": 21,
   "id": "96127197",
   "metadata": {},
   "outputs": [
    {
     "name": "stdout",
     "output_type": "stream",
     "text": [
      "A B C D E Last "
     ]
    }
   ],
   "source": [
    "delete_node('New')\n",
    "print_node_data(head)"
   ]
  },
  {
   "cell_type": "code",
   "execution_count": 22,
   "id": "eae6aae7",
   "metadata": {},
   "outputs": [
    {
     "name": "stdout",
     "output_type": "stream",
     "text": [
      "A B C D E "
     ]
    }
   ],
   "source": [
    "delete_node('Last')\n",
    "print_node_data(head)"
   ]
  },
  {
   "cell_type": "markdown",
   "id": "cf60e6f7",
   "metadata": {},
   "source": [
    "### Search"
   ]
  },
  {
   "cell_type": "code",
   "execution_count": 24,
   "id": "09379802",
   "metadata": {},
   "outputs": [],
   "source": [
    "def search_node(find_data):\n",
    "    global head, pre, current\n",
    "    \n",
    "    # Find First Node\n",
    "    if head.data == find_data:\n",
    "        return head\n",
    "    \n",
    "    # Find Node\n",
    "    current = head\n",
    "    while current.link != None:\n",
    "        current = current.link\n",
    "        if current.data == find_data:\n",
    "            return current\n",
    "        \n",
    "    print(\"Node Does Not Exist.\")\n",
    "    return Node()"
   ]
  },
  {
   "cell_type": "code",
   "execution_count": 25,
   "id": "989376ef",
   "metadata": {},
   "outputs": [
    {
     "name": "stdout",
     "output_type": "stream",
     "text": [
      "A\n"
     ]
    }
   ],
   "source": [
    "node = search_node('A')\n",
    "print(node.data)"
   ]
  },
  {
   "cell_type": "code",
   "execution_count": 26,
   "id": "bae842b9",
   "metadata": {},
   "outputs": [
    {
     "name": "stdout",
     "output_type": "stream",
     "text": [
      "E\n"
     ]
    }
   ],
   "source": [
    "node = search_node('E')\n",
    "print(node.data)"
   ]
  },
  {
   "cell_type": "code",
   "execution_count": 27,
   "id": "1c50e8cf",
   "metadata": {},
   "outputs": [
    {
     "name": "stdout",
     "output_type": "stream",
     "text": [
      "Node Does Not Exist.\n",
      "None\n"
     ]
    }
   ],
   "source": [
    "node = search_node('F')\n",
    "print(node.data)"
   ]
  },
  {
   "cell_type": "markdown",
   "id": "e7be59fa",
   "metadata": {},
   "source": [
    "***"
   ]
  },
  {
   "cell_type": "markdown",
   "id": "4dfc8c45",
   "metadata": {},
   "source": [
    "### Q.1"
   ]
  },
  {
   "cell_type": "markdown",
   "id": "1d3b362b",
   "metadata": {},
   "source": [
    "- 명함 관리 프로그램\n",
    "<br>\n",
    "<br>\n",
    "- 이름 오름차순 정렬"
   ]
  },
  {
   "cell_type": "code",
   "execution_count": 12,
   "id": "32ba9522",
   "metadata": {},
   "outputs": [],
   "source": [
    "# Declare Node Class\n",
    "class Node():\n",
    "    def __init__(self):\n",
    "        '''\n",
    "        data = list: [name, phone_number]\n",
    "        link = object: Node instance\n",
    "        '''\n",
    "        self.data = None\n",
    "        self.link = None"
   ]
  },
  {
   "cell_type": "code",
   "execution_count": 44,
   "id": "7ff381fc",
   "metadata": {},
   "outputs": [],
   "source": [
    "# Initialize\n",
    "head, pre, current = None, None, None"
   ]
  },
  {
   "cell_type": "code",
   "execution_count": 45,
   "id": "0333fc8d",
   "metadata": {},
   "outputs": [],
   "source": [
    "def find_and_insert_node(name, phone_number):\n",
    "    global head, pre, current\n",
    "    \n",
    "    # Create new node\n",
    "    node = Node()\n",
    "    node.data = [name, phone_number]\n",
    "    \n",
    "    # No head node\n",
    "    if head == None:\n",
    "        head = node\n",
    "        print(\"Success!\")\n",
    "        return\n",
    "    \n",
    "    # Insert new node to first\n",
    "    if head.data[0] >= name:\n",
    "        node.link = head\n",
    "        head = node\n",
    "        print(\"Success!\")\n",
    "        return\n",
    "    \n",
    "    # Insert new node\n",
    "    current = head\n",
    "    while current.link != None:\n",
    "        pre = current\n",
    "        current = current.link\n",
    "        if current.data[0] >= name:\n",
    "            node.link = pre.link\n",
    "            pre.link = node\n",
    "            print(\"Success!\")\n",
    "            return\n",
    "    \n",
    "    # Insert new node to end\n",
    "    current.link = node\n",
    "    print(\"Success!\")\n",
    "    return"
   ]
  },
  {
   "cell_type": "code",
   "execution_count": 46,
   "id": "88d79248",
   "metadata": {},
   "outputs": [
    {
     "name": "stdout",
     "output_type": "stream",
     "text": [
      "Success!\n",
      "['B', '010-2222-2222'] "
     ]
    }
   ],
   "source": [
    "name = 'B'\n",
    "pn = '010-2222-2222'\n",
    "find_and_insert_node(name, pn)\n",
    "print_node_data(head)"
   ]
  },
  {
   "cell_type": "code",
   "execution_count": 47,
   "id": "ed61ff94",
   "metadata": {},
   "outputs": [
    {
     "name": "stdout",
     "output_type": "stream",
     "text": [
      "Success!\n",
      "['B', '010-2222-2222'] ['D', '010-4444-4444'] "
     ]
    }
   ],
   "source": [
    "name = 'D'\n",
    "pn = '010-4444-4444'\n",
    "find_and_insert_node(name, pn)\n",
    "print_node_data(head)"
   ]
  },
  {
   "cell_type": "code",
   "execution_count": 48,
   "id": "d22368ae",
   "metadata": {},
   "outputs": [
    {
     "name": "stdout",
     "output_type": "stream",
     "text": [
      "Success!\n",
      "['A', '010-1111-1111'] ['B', '010-2222-2222'] ['D', '010-4444-4444'] "
     ]
    }
   ],
   "source": [
    "name = 'A'\n",
    "pn = '010-1111-1111'\n",
    "find_and_insert_node(name, pn)\n",
    "print_node_data(head)"
   ]
  },
  {
   "cell_type": "code",
   "execution_count": 49,
   "id": "a668069c",
   "metadata": {},
   "outputs": [
    {
     "name": "stdout",
     "output_type": "stream",
     "text": [
      "Success!\n",
      "['A', '010-1111-1111'] ['B', '010-2222-2222'] ['C', '010-3333-3333'] ['D', '010-4444-4444'] "
     ]
    }
   ],
   "source": [
    "name = 'C'\n",
    "pn = '010-3333-3333'\n",
    "find_and_insert_node(name, pn)\n",
    "print_node_data(head)"
   ]
  }
 ],
 "metadata": {
  "kernelspec": {
   "display_name": "Python 3 (ipykernel)",
   "language": "python",
   "name": "python3"
  },
  "language_info": {
   "codemirror_mode": {
    "name": "ipython",
    "version": 3
   },
   "file_extension": ".py",
   "mimetype": "text/x-python",
   "name": "python",
   "nbconvert_exporter": "python",
   "pygments_lexer": "ipython3",
   "version": "3.10.1"
  }
 },
 "nbformat": 4,
 "nbformat_minor": 5
}

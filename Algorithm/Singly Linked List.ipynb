{
 "cells": [
  {
   "cell_type": "markdown",
   "id": "a0788756",
   "metadata": {},
   "source": [
    "# Singly Linked List"
   ]
  },
  {
   "cell_type": "markdown",
   "id": "71c22843",
   "metadata": {},
   "source": [
    "- **Singly Linked List** 에서는 저장되는 데이터의 위치가 물리적으로 연속되지 않는다.\n",
    "<br>\n",
    "<br>\n",
    "- 하지만 각 노드의 **link** 에는 다음 노드를 가리키는 정보가 포함되어 있어, 이를 통해 순차적으로 연결되어 있다.\n",
    "<br>\n",
    "<br>\n",
    "- 따라서, 데이터를 **추가**하거나 **삭제**하더라도 각 노드의 **link** 만 수정하면 되기 때문에 오버헤드가 발생하지 않는다.\n",
    "<br>\n",
    "<br>\n",
    "- 각각의 노드는 **data** 와 **link** 로 이루어져 있다.\n",
    "<br>\n",
    "<br>\n",
    "- 리스트의 가장 첫 번째 노드는 **head** 이며, 이를 기준으로 **데이터를 순방향 탐색**한다.\n",
    "<br>\n",
    "<br>\n",
    "- Singly Linked List 에서는 데이터 탐색 시, **이전 노드로 돌아갈 수 없기 때문**에 **head** 를 활용하여야 한다."
   ]
  },
  {
   "cell_type": "markdown",
   "id": "70cbe16f",
   "metadata": {},
   "source": [
    "***"
   ]
  },
  {
   "cell_type": "markdown",
   "id": "3d308c70",
   "metadata": {},
   "source": [
    "## ✅ Simple Ver."
   ]
  },
  {
   "cell_type": "markdown",
   "id": "19a50fa9",
   "metadata": {},
   "source": [
    "### Create Node"
   ]
  },
  {
   "cell_type": "code",
   "execution_count": 1,
   "id": "b4fb891e",
   "metadata": {},
   "outputs": [],
   "source": [
    "class Node():\n",
    "    def __init__(self):\n",
    "        self.data = None\n",
    "        self.link = None"
   ]
  },
  {
   "cell_type": "markdown",
   "id": "4ae5124a",
   "metadata": {},
   "source": [
    "### Create Singly Linked List"
   ]
  },
  {
   "cell_type": "code",
   "execution_count": 5,
   "id": "beac79fe",
   "metadata": {},
   "outputs": [],
   "source": [
    "node1 = Node()\n",
    "node1.data = 'A'\n",
    "\n",
    "node2 = Node()\n",
    "node2.data = 'B'\n",
    "node1.link = node2\n",
    "\n",
    "node3 = Node()\n",
    "node3.data = 'C'\n",
    "node2.link = node3\n",
    "\n",
    "node4 = Node()\n",
    "node4.data = 'D'\n",
    "node3.link = node4\n",
    "\n",
    "node5 = Node()\n",
    "node5.data = 'E'\n",
    "node4.link = node5\n",
    "\n",
    "node6 = Node()\n",
    "node6.data = 'F'\n",
    "node5.link = node6"
   ]
  },
  {
   "cell_type": "markdown",
   "id": "3e6c8284",
   "metadata": {},
   "source": [
    "### Func: Print All Datas"
   ]
  },
  {
   "cell_type": "code",
   "execution_count": 6,
   "id": "fc542063",
   "metadata": {},
   "outputs": [],
   "source": [
    "def print_node_data(head):\n",
    "    print(head.data, end=' ')\n",
    "    if head.link:\n",
    "        print_node_data(head.link)"
   ]
  },
  {
   "cell_type": "code",
   "execution_count": 7,
   "id": "165c95cb",
   "metadata": {},
   "outputs": [
    {
     "name": "stdout",
     "output_type": "stream",
     "text": [
      "A B C D E F "
     ]
    }
   ],
   "source": [
    "print_node_data(node1)"
   ]
  },
  {
   "cell_type": "markdown",
   "id": "5f2ad3d7",
   "metadata": {},
   "source": [
    "### Insert"
   ]
  },
  {
   "cell_type": "code",
   "execution_count": 8,
   "id": "4c57cd70",
   "metadata": {},
   "outputs": [],
   "source": [
    "# Create new node object\n",
    "node_joker = Node()\n",
    "node_joker.data = 'JOKER'\n",
    "\n",
    "# Copy previous node's link to new node's link\n",
    "node_joker.link = node3.link\n",
    "\n",
    "# Make node3's link point toward new node object\n",
    "node3.link = node_joker"
   ]
  },
  {
   "cell_type": "code",
   "execution_count": 9,
   "id": "b9f6f798",
   "metadata": {},
   "outputs": [
    {
     "name": "stdout",
     "output_type": "stream",
     "text": [
      "A B C JOKER D E F "
     ]
    }
   ],
   "source": [
    "print_node_data(node1)"
   ]
  },
  {
   "cell_type": "markdown",
   "id": "ffc99589",
   "metadata": {},
   "source": [
    "### Delete"
   ]
  },
  {
   "cell_type": "code",
   "execution_count": 10,
   "id": "da8c5b94",
   "metadata": {},
   "outputs": [],
   "source": [
    "# Copy target node's link to previous node's link\n",
    "node3.link = node_joker.link\n",
    "\n",
    "# Delete the target node\n",
    "del node_joker"
   ]
  },
  {
   "cell_type": "code",
   "execution_count": 11,
   "id": "9bc50e37",
   "metadata": {},
   "outputs": [
    {
     "name": "stdout",
     "output_type": "stream",
     "text": [
      "A B C D E F "
     ]
    }
   ],
   "source": [
    "print_node_data(node1)"
   ]
  },
  {
   "cell_type": "code",
   "execution_count": null,
   "id": "5d01ffcc",
   "metadata": {},
   "outputs": [],
   "source": []
  }
 ],
 "metadata": {
  "kernelspec": {
   "display_name": "Python 3 (ipykernel)",
   "language": "python",
   "name": "python3"
  },
  "language_info": {
   "codemirror_mode": {
    "name": "ipython",
    "version": 3
   },
   "file_extension": ".py",
   "mimetype": "text/x-python",
   "name": "python",
   "nbconvert_exporter": "python",
   "pygments_lexer": "ipython3",
   "version": "3.10.1"
  }
 },
 "nbformat": 4,
 "nbformat_minor": 5
}

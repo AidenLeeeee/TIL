{
 "cells": [
  {
   "cell_type": "markdown",
   "id": "184fbee8",
   "metadata": {},
   "source": [
    "# Singly Linked List"
   ]
  },
  {
   "cell_type": "markdown",
   "id": "a3c7cfdb",
   "metadata": {},
   "source": [
    "- **Singly Linked List** 에서는 저장되는 데이터의 위치가 물리적으로 연속되지 않는다.\n",
    "<br>\n",
    "<br>\n",
    "- 하지만 각 노드의 **link** 에는 다음 노드를 가리키는 정보가 포함되어 있어, 이를 통해 순차적으로 연결되어 있다.\n",
    "<br>\n",
    "<br>\n"
   ]
  }
 ],
 "metadata": {
  "kernelspec": {
   "display_name": "Python 3 (ipykernel)",
   "language": "python",
   "name": "python3"
  },
  "language_info": {
   "codemirror_mode": {
    "name": "ipython",
    "version": 3
   },
   "file_extension": ".py",
   "mimetype": "text/x-python",
   "name": "python",
   "nbconvert_exporter": "python",
   "pygments_lexer": "ipython3",
   "version": "3.10.1"
  }
 },
 "nbformat": 4,
 "nbformat_minor": 5
}

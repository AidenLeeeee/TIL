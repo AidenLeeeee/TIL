{
 "cells": [
  {
   "cell_type": "markdown",
   "id": "4b788385",
   "metadata": {},
   "source": [
    "# 1.1. Recursion Function"
   ]
  },
  {
   "cell_type": "markdown",
   "id": "f59fe0e7",
   "metadata": {},
   "source": [
    "### **`Factorial`**"
   ]
  },
  {
   "cell_type": "code",
   "execution_count": 1,
   "id": "f5225e7f",
   "metadata": {},
   "outputs": [],
   "source": [
    "def factorial(num):\n",
    "    if num <= 1:\n",
    "        return 1\n",
    "    return num * factorial(num-1)"
   ]
  },
  {
   "cell_type": "markdown",
   "id": "9730ef64",
   "metadata": {},
   "source": [
    "#### **`Test`**"
   ]
  },
  {
   "cell_type": "code",
   "execution_count": 4,
   "id": "5ca139e0",
   "metadata": {},
   "outputs": [
    {
     "data": {
      "text/plain": [
       "120"
      ]
     },
     "execution_count": 4,
     "metadata": {},
     "output_type": "execute_result"
    }
   ],
   "source": [
    "factorial(5)"
   ]
  },
  {
   "cell_type": "code",
   "execution_count": null,
   "id": "f75b8cd5",
   "metadata": {},
   "outputs": [],
   "source": []
  }
 ],
 "metadata": {
  "kernelspec": {
   "display_name": "Python 3 (ipykernel)",
   "language": "python",
   "name": "python3"
  },
  "language_info": {
   "codemirror_mode": {
    "name": "ipython",
    "version": 3
   },
   "file_extension": ".py",
   "mimetype": "text/x-python",
   "name": "python",
   "nbconvert_exporter": "python",
   "pygments_lexer": "ipython3",
   "version": "3.10.1"
  }
 },
 "nbformat": 4,
 "nbformat_minor": 5
}

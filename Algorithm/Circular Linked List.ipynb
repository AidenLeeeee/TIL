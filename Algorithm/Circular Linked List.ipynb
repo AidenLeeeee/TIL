{
 "cells": [
  {
   "cell_type": "markdown",
   "id": "ce79d42d",
   "metadata": {},
   "source": [
    "# Circular Linked List"
   ]
  },
  {
   "cell_type": "markdown",
   "id": "27d0d2c1",
   "metadata": {},
   "source": [
    "- **Circular Linked List** 는 원형 연결 리스트로, 마지막 노드가 다시 **head** 노드를 가리키고 있는 구조이다.\n",
    "<br>\n",
    "<br>\n",
    "- **Singly Linked List** 에서는 마지막 노드까지 접근하였을 경우, 재접근하기 위해서는 **head** 노드부터 재시작하여야 한다.\n",
    "<br>\n",
    "<br>\n",
    "- 반면, **Circular Linked List** 는 지속적으로 회전하면서 재접근이 가능하다.\n",
    "<br>\n",
    "<br>\n",
    "- **Circular Linked List** 에서는 **Singly Linked List** 와 마찬가지로 데이터의 삽입 및 삭제 시 오버헤드가 발생하지 않는다.\n",
    "<br>\n",
    "<br>\n",
    "- 이외에 노드 구조 또한 **Singly Linked List** 와 동일하다."
   ]
  },
  {
   "cell_type": "markdown",
   "id": "9b73cb36",
   "metadata": {},
   "source": [
    "***"
   ]
  },
  {
   "cell_type": "markdown",
   "id": "56841639",
   "metadata": {},
   "source": [
    "## ✅ Simple Ver."
   ]
  },
  {
   "cell_type": "markdown",
   "id": "ef349868",
   "metadata": {},
   "source": [
    "### Create Node"
   ]
  },
  {
   "cell_type": "code",
   "execution_count": 1,
   "id": "7fcc14a8",
   "metadata": {},
   "outputs": [],
   "source": [
    "class Node():\n",
    "    def __init__(self):\n",
    "        self.data = None\n",
    "        self.link = None"
   ]
  },
  {
   "cell_type": "markdown",
   "id": "407e35a4",
   "metadata": {},
   "source": [
    "### Create Circular Linked List"
   ]
  },
  {
   "cell_type": "code",
   "execution_count": 4,
   "id": "f5472e41",
   "metadata": {},
   "outputs": [],
   "source": [
    "node1 = Node()\n",
    "node1.data = 'A'\n",
    "node1.link = node1\n",
    "\n",
    "node2 = Node()\n",
    "node2.data = 'B'\n",
    "node1.link = node2\n",
    "node2.link = node1\n",
    "\n",
    "node3 = Node()\n",
    "node3.data = 'C'\n",
    "node2.link = node3\n",
    "node3.link = node1\n",
    "\n",
    "node4 = Node()\n",
    "node4.data = 'D'\n",
    "node3.link = node4\n",
    "node4.link = node1\n",
    "\n",
    "node5 = Node()\n",
    "node5.data = 'E'\n",
    "node4.link = node5\n",
    "node5.link = node1"
   ]
  },
  {
   "cell_type": "markdown",
   "id": "d2b48131",
   "metadata": {},
   "source": [
    "### Func: Print All Datas"
   ]
  },
  {
   "cell_type": "code",
   "execution_count": 5,
   "id": "fbd6c42a",
   "metadata": {},
   "outputs": [],
   "source": [
    "def print_node_data(head):\n",
    "    current = head\n",
    "    print(current.data, end=' ')\n",
    "    while current.link != head:\n",
    "        current = current.link\n",
    "        print(current.data, end=' ')"
   ]
  },
  {
   "cell_type": "code",
   "execution_count": 6,
   "id": "186295b8",
   "metadata": {},
   "outputs": [
    {
     "name": "stdout",
     "output_type": "stream",
     "text": [
      "A B C D E "
     ]
    }
   ],
   "source": [
    "print_node_data(node1)"
   ]
  },
  {
   "cell_type": "markdown",
   "id": "296379b3",
   "metadata": {},
   "source": [
    "### Insert"
   ]
  },
  {
   "cell_type": "code",
   "execution_count": 7,
   "id": "39d9e07e",
   "metadata": {},
   "outputs": [],
   "source": [
    "# Create new node object\n",
    "node_joker = Node()\n",
    "node_joker.data = 'JOKER'\n",
    "\n",
    "# Copy previous node's link to new node's link\n",
    "node_joker.link = node3.link\n",
    "\n",
    "# Make node3's link point toward new node object\n",
    "node3.link = node_joker"
   ]
  },
  {
   "cell_type": "code",
   "execution_count": 8,
   "id": "764b5a7d",
   "metadata": {},
   "outputs": [
    {
     "name": "stdout",
     "output_type": "stream",
     "text": [
      "A B C JOKER D E "
     ]
    }
   ],
   "source": [
    "print_node_data(node1)"
   ]
  },
  {
   "cell_type": "markdown",
   "id": "4746af73",
   "metadata": {},
   "source": [
    "### Delete"
   ]
  },
  {
   "cell_type": "code",
   "execution_count": 9,
   "id": "cccbec6a",
   "metadata": {},
   "outputs": [],
   "source": [
    "# Copy target node's link to previous node's link\n",
    "node3.link = node_joker.link\n",
    "\n",
    "# Delete the target node\n",
    "del node_joker"
   ]
  },
  {
   "cell_type": "code",
   "execution_count": 10,
   "id": "d1521926",
   "metadata": {},
   "outputs": [
    {
     "name": "stdout",
     "output_type": "stream",
     "text": [
      "A B C D E "
     ]
    }
   ],
   "source": [
    "print_node_data(node1)"
   ]
  },
  {
   "cell_type": "markdown",
   "id": "3c462bb7",
   "metadata": {},
   "source": [
    "***"
   ]
  },
  {
   "cell_type": "markdown",
   "id": "3b8699a4",
   "metadata": {},
   "source": [
    "## ✅ General Ver."
   ]
  },
  {
   "cell_type": "markdown",
   "id": "ff50f531",
   "metadata": {},
   "source": [
    "### Create Circular Linked List"
   ]
  },
  {
   "cell_type": "code",
   "execution_count": 8,
   "id": "f0c228b8",
   "metadata": {},
   "outputs": [],
   "source": [
    "# Declare Node Structure\n",
    "class Node():\n",
    "    def __init__(self):\n",
    "        self.data = None\n",
    "        self.link = None\n",
    "\n",
    "        \n",
    "# Declare Global Variables\n",
    "memory, pre, head, current = [], None, None, None\n",
    "dataArray = ['A', 'B', 'C', 'D', 'E']\n",
    "\n",
    "\n",
    "# Create Circular Linked List\n",
    "node = Node()\n",
    "node.data = dataArray[0]\n",
    "head = node\n",
    "node.link = head\n",
    "memory.append(node)\n",
    "\n",
    "for data in dataArray[1:]:\n",
    "    pre = node\n",
    "    node = Node()\n",
    "    node.data = data\n",
    "    pre.link = node\n",
    "    node.link = head\n",
    "    memory.append(node)"
   ]
  },
  {
   "cell_type": "code",
   "execution_count": 9,
   "id": "f3aecd06",
   "metadata": {},
   "outputs": [
    {
     "name": "stdout",
     "output_type": "stream",
     "text": [
      "A B C D E "
     ]
    }
   ],
   "source": [
    "print_node_data(head)"
   ]
  },
  {
   "cell_type": "markdown",
   "id": "d77c158b",
   "metadata": {},
   "source": [
    "### Insert"
   ]
  },
  {
   "cell_type": "code",
   "execution_count": 10,
   "id": "eedf9dad",
   "metadata": {},
   "outputs": [],
   "source": [
    "def insert_node(find_data, insert_data):\n",
    "    global memory, pre, head, current\n",
    "    \n",
    "    node = Node()\n",
    "    node.data = insert_data\n",
    "    \n",
    "    # Insert First Node\n",
    "    if head.data == find_data:\n",
    "        node.link = head\n",
    "        last = head\n",
    "        while last.link != head:\n",
    "            last = last.link\n",
    "        last.link = node\n",
    "        head = node\n",
    "        return\n",
    "    \n",
    "    # Insert Node\n",
    "    current = head\n",
    "    while current.link != head:\n",
    "        pre = current\n",
    "        current = current.link\n",
    "        if current.data == find_data:\n",
    "            node.link = current\n",
    "            pre.link = node\n",
    "            return\n",
    "    \n",
    "    # Insert Last Node\n",
    "    current.link = node\n",
    "    node.link = head"
   ]
  },
  {
   "cell_type": "code",
   "execution_count": 11,
   "id": "9aab3ee9",
   "metadata": {},
   "outputs": [
    {
     "name": "stdout",
     "output_type": "stream",
     "text": [
      "First A B C D E "
     ]
    }
   ],
   "source": [
    "insert_node('A', 'First')\n",
    "print_node_data(head)"
   ]
  },
  {
   "cell_type": "code",
   "execution_count": 12,
   "id": "b346c328",
   "metadata": {},
   "outputs": [
    {
     "name": "stdout",
     "output_type": "stream",
     "text": [
      "First A B New C D E "
     ]
    }
   ],
   "source": [
    "insert_node('C', 'New')\n",
    "print_node_data(head)"
   ]
  },
  {
   "cell_type": "code",
   "execution_count": 13,
   "id": "0cfbe5b8",
   "metadata": {},
   "outputs": [
    {
     "name": "stdout",
     "output_type": "stream",
     "text": [
      "First A B New C D E Last "
     ]
    }
   ],
   "source": [
    "insert_node('', 'Last')\n",
    "print_node_data(head)"
   ]
  },
  {
   "cell_type": "markdown",
   "id": "1d3aee0d",
   "metadata": {},
   "source": [
    "### Delete"
   ]
  },
  {
   "cell_type": "code",
   "execution_count": 14,
   "id": "6056a93e",
   "metadata": {},
   "outputs": [],
   "source": [
    "def delete_node(find_data):\n",
    "    global memory, pre, head, current\n",
    "    \n",
    "    # Delete First Node\n",
    "    if head.data == find_data:\n",
    "        current = head\n",
    "        head = head.link\n",
    "        last = head\n",
    "        while last.link != current:\n",
    "            last = last.link\n",
    "        last.link = head\n",
    "        del(current)\n",
    "        return\n",
    "    \n",
    "    # Delete Node\n",
    "    current = head\n",
    "    while current.link != head:\n",
    "        pre = current\n",
    "        current = current.link\n",
    "        if current.data == find_data:\n",
    "            pre.link = current.link\n",
    "            del(current)\n",
    "            return"
   ]
  },
  {
   "cell_type": "code",
   "execution_count": 15,
   "id": "c9021b05",
   "metadata": {},
   "outputs": [
    {
     "name": "stdout",
     "output_type": "stream",
     "text": [
      "A B New C D E Last "
     ]
    }
   ],
   "source": [
    "delete_node('First')\n",
    "print_node_data(head)"
   ]
  },
  {
   "cell_type": "code",
   "execution_count": 16,
   "id": "2fe08865",
   "metadata": {},
   "outputs": [
    {
     "name": "stdout",
     "output_type": "stream",
     "text": [
      "A B C D E Last "
     ]
    }
   ],
   "source": [
    "delete_node('New')\n",
    "print_node_data(head)"
   ]
  },
  {
   "cell_type": "code",
   "execution_count": 17,
   "id": "185f9f9d",
   "metadata": {},
   "outputs": [
    {
     "name": "stdout",
     "output_type": "stream",
     "text": [
      "A B C D E "
     ]
    }
   ],
   "source": [
    "delete_node('Last')\n",
    "print_node_data(head)"
   ]
  },
  {
   "cell_type": "markdown",
   "id": "b61d8773",
   "metadata": {},
   "source": [
    "### Search"
   ]
  },
  {
   "cell_type": "code",
   "execution_count": 18,
   "id": "4d212727",
   "metadata": {},
   "outputs": [],
   "source": [
    "def search_node(find_data):\n",
    "    global head, current\n",
    "    \n",
    "    # Find First Node\n",
    "    if head.data == find_data:\n",
    "        return head\n",
    "    \n",
    "    # Find Node\n",
    "    current = head\n",
    "    while current.link != head:\n",
    "        current = current.link\n",
    "        if current.data == find_data:\n",
    "            return current\n",
    "        \n",
    "    print(\"Node Does Not Exist.\")\n",
    "    return Node()"
   ]
  },
  {
   "cell_type": "code",
   "execution_count": 19,
   "id": "d43348e0",
   "metadata": {},
   "outputs": [
    {
     "name": "stdout",
     "output_type": "stream",
     "text": [
      "A\n"
     ]
    }
   ],
   "source": [
    "node = search_node('A')\n",
    "print(node.data)"
   ]
  },
  {
   "cell_type": "code",
   "execution_count": 20,
   "id": "ea8778cb",
   "metadata": {},
   "outputs": [
    {
     "name": "stdout",
     "output_type": "stream",
     "text": [
      "E\n"
     ]
    }
   ],
   "source": [
    "node = search_node('E')\n",
    "print(node.data)"
   ]
  },
  {
   "cell_type": "code",
   "execution_count": 21,
   "id": "9ad85bf2",
   "metadata": {},
   "outputs": [
    {
     "name": "stdout",
     "output_type": "stream",
     "text": [
      "Node Does Not Exist.\n",
      "None\n"
     ]
    }
   ],
   "source": [
    "node = search_node('F')\n",
    "print(node.data)"
   ]
  },
  {
   "cell_type": "markdown",
   "id": "31442091",
   "metadata": {},
   "source": [
    "***"
   ]
  },
  {
   "cell_type": "markdown",
   "id": "b5696092",
   "metadata": {},
   "source": [
    "### Q.1"
   ]
  },
  {
   "cell_type": "markdown",
   "id": "f3292102",
   "metadata": {},
   "source": [
    "#### Solution #1"
   ]
  },
  {
   "cell_type": "markdown",
   "id": "aaf65060",
   "metadata": {},
   "source": [
    "- 홀수 짝수 분류 프로그램\n",
    "<br>\n",
    "<br>\n",
    "- 홀수와 짝수의 개수를 계산한 뒤, 더 많은 수를 음수로 변경"
   ]
  },
  {
   "cell_type": "code",
   "execution_count": 2,
   "id": "4c38c52f",
   "metadata": {},
   "outputs": [],
   "source": [
    "import random"
   ]
  },
  {
   "cell_type": "code",
   "execution_count": 75,
   "id": "0e932748",
   "metadata": {},
   "outputs": [],
   "source": [
    "# Declare Node Class\n",
    "class Node():\n",
    "    def __init__(self):\n",
    "        self.data = None\n",
    "        self.link = None\n",
    "\n",
    "        \n",
    "# Create Circular Linked List\n",
    "dataArray = []\n",
    "\n",
    "for _ in range(7):\n",
    "    dataArray.append(random.randint(1, 100))\n",
    "\n",
    "node = Node()\n",
    "node.data = dataArray[0]\n",
    "head = node\n",
    "node.link = head\n",
    "\n",
    "for data in dataArray[1:]:\n",
    "    pre = node\n",
    "    node = Node()\n",
    "    node.data = data\n",
    "    pre.link = node\n",
    "    node.link = head"
   ]
  },
  {
   "cell_type": "code",
   "execution_count": 69,
   "id": "e98eab7c",
   "metadata": {},
   "outputs": [
    {
     "name": "stdout",
     "output_type": "stream",
     "text": [
      "54 40 51 25 17 58 93 "
     ]
    }
   ],
   "source": [
    "print_node_data(head)"
   ]
  },
  {
   "cell_type": "code",
   "execution_count": 70,
   "id": "6f07e4b9",
   "metadata": {},
   "outputs": [
    {
     "name": "stdout",
     "output_type": "stream",
     "text": [
      "False\n"
     ]
    }
   ],
   "source": [
    "print(is_even_num_more(head))"
   ]
  },
  {
   "cell_type": "code",
   "execution_count": 6,
   "id": "b0e78cdf",
   "metadata": {},
   "outputs": [],
   "source": [
    "def is_even(node):\n",
    "    if node.data % 2 == 0:\n",
    "        return True\n",
    "    else:\n",
    "        return False"
   ]
  },
  {
   "cell_type": "code",
   "execution_count": 7,
   "id": "65016075",
   "metadata": {},
   "outputs": [],
   "source": [
    "def is_even_num_more(head):\n",
    "    odd_count = 0\n",
    "    even_count = 0\n",
    "    \n",
    "    if is_even(head):\n",
    "        even_count += 1\n",
    "    else:\n",
    "        odd_count += 1\n",
    "    \n",
    "    current = head\n",
    "    while current.link != head:\n",
    "        current = current.link\n",
    "        if is_even(current):\n",
    "            even_count += 1\n",
    "        else:\n",
    "            odd_count += 1\n",
    "            \n",
    "    return even_count > odd_count"
   ]
  },
  {
   "cell_type": "code",
   "execution_count": 8,
   "id": "d7d9178f",
   "metadata": {},
   "outputs": [],
   "source": [
    "def update_pos_to_neg(node):\n",
    "    pos = node.data\n",
    "    neg = pos - (pos*2)\n",
    "    node.data = neg"
   ]
  },
  {
   "cell_type": "code",
   "execution_count": 9,
   "id": "734bf620",
   "metadata": {},
   "outputs": [],
   "source": [
    "# Even/Odd Classification Program\n",
    "def classify_even_and_odd(head):\n",
    "    # Even numbers are more\n",
    "    if is_even_num_more(head):\n",
    "        if is_even(head):\n",
    "            update_pos_to_neg(head)\n",
    "        \n",
    "        current = head\n",
    "        while current.link != head:\n",
    "            current = current.link\n",
    "            if is_even(current):\n",
    "                update_pos_to_neg(current)\n",
    "    \n",
    "    # Odd numbers are more\n",
    "    else:\n",
    "        if not is_even(head):\n",
    "            update_pos_to_neg(head)\n",
    "            \n",
    "        current = head\n",
    "        while current.link != head:\n",
    "            current = current.link\n",
    "            if not is_even(current):\n",
    "                update_pos_to_neg(current)"
   ]
  },
  {
   "cell_type": "code",
   "execution_count": 71,
   "id": "94362cc3",
   "metadata": {},
   "outputs": [
    {
     "name": "stdout",
     "output_type": "stream",
     "text": [
      "54 40 51 25 17 58 93 \n",
      "54 40 -51 -25 -17 58 -93 "
     ]
    }
   ],
   "source": [
    "# Test 1\n",
    "print_node_data(head)\n",
    "\n",
    "print()\n",
    "\n",
    "classify_even_and_odd(head)\n",
    "print_node_data(head)"
   ]
  },
  {
   "cell_type": "code",
   "execution_count": 73,
   "id": "07ad2fa5",
   "metadata": {},
   "outputs": [
    {
     "name": "stdout",
     "output_type": "stream",
     "text": [
      "87 95 73 44 36 58 96 \n",
      "87 95 73 -44 -36 -58 -96 "
     ]
    }
   ],
   "source": [
    "# Test 2\n",
    "print_node_data(head)\n",
    "\n",
    "print()\n",
    "\n",
    "classify_even_and_odd(head)\n",
    "print_node_data(head)"
   ]
  },
  {
   "cell_type": "markdown",
   "id": "d27f26df",
   "metadata": {},
   "source": [
    "#### Solution #2"
   ]
  },
  {
   "cell_type": "code",
   "execution_count": 19,
   "id": "c6aef52e",
   "metadata": {},
   "outputs": [],
   "source": [
    "# Declare Node Class\n",
    "class Node():\n",
    "    def __init__(self):\n",
    "        self.data = None\n",
    "        self.link = None\n",
    "\n",
    "        \n",
    "# Create Circular Linked List\n",
    "dataArray = []\n",
    "\n",
    "for _ in range(7):\n",
    "    dataArray.append(random.randint(1, 100))\n",
    "\n",
    "node = Node()\n",
    "node.data = dataArray[0]\n",
    "head = node\n",
    "node.link = head\n",
    "\n",
    "for data in dataArray[1:]:\n",
    "    pre = node\n",
    "    node = Node()\n",
    "    node.data = data\n",
    "    pre.link = node\n",
    "    node.link = head"
   ]
  },
  {
   "cell_type": "code",
   "execution_count": 20,
   "id": "ad531233",
   "metadata": {},
   "outputs": [
    {
     "name": "stdout",
     "output_type": "stream",
     "text": [
      "19 31 48 86 8 4 74 "
     ]
    }
   ],
   "source": [
    "print_node_data(head)"
   ]
  },
  {
   "cell_type": "code",
   "execution_count": 21,
   "id": "1114b50d",
   "metadata": {},
   "outputs": [],
   "source": [
    "def classify_even_and_odd(head):\n",
    "    if is_even_num_more(head):\n",
    "        reminder = 0\n",
    "    else:\n",
    "        reminder = 1\n",
    "    \n",
    "    current = head\n",
    "    while True:\n",
    "        if current.data % 2 == reminder:\n",
    "            update_pos_to_neg(current)\n",
    "        if current.link == head:\n",
    "            break;\n",
    "        current = current.link"
   ]
  },
  {
   "cell_type": "code",
   "execution_count": 15,
   "id": "5ec6dc64",
   "metadata": {},
   "outputs": [
    {
     "name": "stdout",
     "output_type": "stream",
     "text": [
      "1 8 16 51 80 35 21 \n",
      "-1 8 16 -51 80 -35 -21 "
     ]
    }
   ],
   "source": [
    "# Test 1\n",
    "print_node_data(head)\n",
    "\n",
    "print()\n",
    "\n",
    "classify_even_and_odd(head)\n",
    "print_node_data(head)"
   ]
  },
  {
   "cell_type": "code",
   "execution_count": 22,
   "id": "ac0909cd",
   "metadata": {},
   "outputs": [
    {
     "name": "stdout",
     "output_type": "stream",
     "text": [
      "19 31 48 86 8 4 74 \n",
      "19 31 -48 -86 -8 -4 -74 "
     ]
    }
   ],
   "source": [
    "# Test 2\n",
    "print_node_data(head)\n",
    "\n",
    "print()\n",
    "\n",
    "classify_even_and_odd(head)\n",
    "print_node_data(head)"
   ]
  },
  {
   "cell_type": "markdown",
   "id": "c7467384",
   "metadata": {},
   "source": [
    "### Q.2"
   ]
  },
  {
   "cell_type": "markdown",
   "id": "a255a510",
   "metadata": {},
   "source": [
    "- 거리별 편의점 정렬 프로그램\n",
    "<br>\n",
    "<br>\n",
    "- 가장 가까운 순서대로 Circular Linked List 생성 시 정렬"
   ]
  },
  {
   "cell_type": "code",
   "execution_count": 28,
   "id": "be262352",
   "metadata": {},
   "outputs": [],
   "source": [
    "import random\n",
    "import math"
   ]
  },
  {
   "cell_type": "code",
   "execution_count": 41,
   "id": "6ebe39e0",
   "metadata": {},
   "outputs": [],
   "source": [
    "# Declare Node Class\n",
    "class Node():\n",
    "    def __init__(self):\n",
    "        self.data = None\n",
    "        self.link = None\n",
    "\n",
    "        \n",
    "head, pre, current = None, None, None\n",
    "\n",
    "\n",
    "def create_store(name):\n",
    "    x = random.randint(1, 100)\n",
    "    y = random.randint(1, 100)\n",
    "    \n",
    "    node = Node()\n",
    "    node.data = (name, x, y)\n",
    "    print(\"store_name:\", name)\n",
    "    print(\"X:\", x)\n",
    "    print(\"Y:\", y)\n",
    "    \n",
    "    return node"
   ]
  },
  {
   "cell_type": "code",
   "execution_count": 42,
   "id": "ac14167a",
   "metadata": {},
   "outputs": [],
   "source": [
    "# Main Function\n",
    "def update_store_order_by_distance(name):\n",
    "    global head, pre, current\n",
    "    \n",
    "    node = create_store(name)\n",
    "    \n",
    "    # list is empty\n",
    "    if head == None:\n",
    "        head = node\n",
    "        node.link = head\n",
    "        return\n",
    "    \n",
    "    # Insert first node\n",
    "    X, Y = node.data[1], node.data[2]\n",
    "    dist = math.sqrt(X*X + Y*Y)\n",
    "    headX, headY = head.data[1], head.data[2]\n",
    "    headDist = math.sqrt(headX*headX + headY*headY)\n",
    "    if dist < headDist:\n",
    "        last = head\n",
    "        while last.link != head:\n",
    "            last = last.link\n",
    "        node.link = head\n",
    "        head = node\n",
    "        last.link = head\n",
    "        return\n",
    "    \n",
    "    # Insert node\n",
    "    current = head\n",
    "    while current.link != head:\n",
    "        pre = current\n",
    "        current = current.link\n",
    "        curX, curY = current.data[1], current.data[2]\n",
    "        curDist = math.sqrt(curX*curX + curY*curY)\n",
    "        if dist < curDist:\n",
    "            node.link = pre.link\n",
    "            pre.link = node\n",
    "            return\n",
    "    \n",
    "    # Insert last node\n",
    "    current.link = node\n",
    "    node.link = head\n",
    "    return"
   ]
  },
  {
   "cell_type": "code",
   "execution_count": 43,
   "id": "450541e6",
   "metadata": {},
   "outputs": [
    {
     "name": "stdout",
     "output_type": "stream",
     "text": [
      "store_name: A\n",
      "X: 9\n",
      "Y: 73\n",
      "('A', 9, 73) "
     ]
    }
   ],
   "source": [
    "# Test 1\n",
    "update_store_order_by_distance('A')\n",
    "print_node_data(head)"
   ]
  },
  {
   "cell_type": "code",
   "execution_count": 44,
   "id": "1ecae652",
   "metadata": {},
   "outputs": [
    {
     "name": "stdout",
     "output_type": "stream",
     "text": [
      "store_name: B\n",
      "X: 40\n",
      "Y: 52\n",
      "('B', 40, 52) ('A', 9, 73) "
     ]
    }
   ],
   "source": [
    "# Test 2\n",
    "update_store_order_by_distance('B')\n",
    "print_node_data(head)"
   ]
  },
  {
   "cell_type": "code",
   "execution_count": 45,
   "id": "1b4ec26d",
   "metadata": {},
   "outputs": [
    {
     "name": "stdout",
     "output_type": "stream",
     "text": [
      "store_name: C\n",
      "X: 20\n",
      "Y: 28\n",
      "('C', 20, 28) ('B', 40, 52) ('A', 9, 73) "
     ]
    }
   ],
   "source": [
    "# Test 3\n",
    "update_store_order_by_distance('C')\n",
    "print_node_data(head)"
   ]
  },
  {
   "cell_type": "code",
   "execution_count": 46,
   "id": "97cac70c",
   "metadata": {},
   "outputs": [
    {
     "name": "stdout",
     "output_type": "stream",
     "text": [
      "store_name: D\n",
      "X: 81\n",
      "Y: 35\n",
      "('C', 20, 28) ('B', 40, 52) ('A', 9, 73) ('D', 81, 35) "
     ]
    }
   ],
   "source": [
    "# Test 4\n",
    "update_store_order_by_distance('D')\n",
    "print_node_data(head)"
   ]
  },
  {
   "cell_type": "code",
   "execution_count": 47,
   "id": "6581f8cf",
   "metadata": {},
   "outputs": [
    {
     "name": "stdout",
     "output_type": "stream",
     "text": [
      "store_name: E\n",
      "X: 24\n",
      "Y: 82\n",
      "('C', 20, 28) ('B', 40, 52) ('A', 9, 73) ('E', 24, 82) ('D', 81, 35) "
     ]
    }
   ],
   "source": [
    "# Test 5\n",
    "update_store_order_by_distance('E')\n",
    "print_node_data(head)"
   ]
  },
  {
   "cell_type": "markdown",
   "id": "65309d7c",
   "metadata": {},
   "source": [
    "### Q.3"
   ]
  },
  {
   "cell_type": "markdown",
   "id": "a2d3acf4",
   "metadata": {},
   "source": [
    "- 이중 연결 리스트 구현"
   ]
  },
  {
   "cell_type": "code",
   "execution_count": 26,
   "id": "5dfa7ce4",
   "metadata": {},
   "outputs": [],
   "source": [
    "class Node():\n",
    "    def __init__(self):\n",
    "        self.plink = None\n",
    "        self.data = None\n",
    "        self.nlink = None\n",
    "        \n",
    "pre, head, current, rear = None, None, None, None\n",
    "\n",
    "dataArray = ['A', 'B', 'C', 'D', 'E']"
   ]
  },
  {
   "cell_type": "code",
   "execution_count": 27,
   "id": "1f055e80",
   "metadata": {},
   "outputs": [],
   "source": [
    "# Create List\n",
    "node = Node()\n",
    "node.data = dataArray[0]\n",
    "head = node\n",
    "rear = node\n",
    "\n",
    "current = head\n",
    "for data in dataArray[1:]:\n",
    "    pre = current\n",
    "    node = Node()\n",
    "    node.data = data\n",
    "    current = node\n",
    "    pre.nlink = current\n",
    "    current.plink = pre\n",
    "    rear = current"
   ]
  },
  {
   "cell_type": "code",
   "execution_count": 28,
   "id": "b9c5b0c4",
   "metadata": {},
   "outputs": [],
   "source": [
    "def print_node_data(head):\n",
    "    current = head\n",
    "    print(current.data, end=' ')\n",
    "    while current.nlink != None:\n",
    "        current = current.nlink\n",
    "        print(current.data, end=' ')"
   ]
  },
  {
   "cell_type": "code",
   "execution_count": 30,
   "id": "74d5f3a1",
   "metadata": {},
   "outputs": [],
   "source": [
    "def print_node_data_backward(rear):\n",
    "    current = rear\n",
    "    print(current.data, end=' ')\n",
    "    while current.plink != None:\n",
    "        current = current.plink\n",
    "        print(current.data, end=' ')"
   ]
  },
  {
   "cell_type": "code",
   "execution_count": 31,
   "id": "788944c8",
   "metadata": {},
   "outputs": [
    {
     "name": "stdout",
     "output_type": "stream",
     "text": [
      "A B C D E \n",
      "E D C B A "
     ]
    }
   ],
   "source": [
    "# Test\n",
    "print_node_data(head)\n",
    "print()\n",
    "print_node_data_backward(rear)"
   ]
  },
  {
   "cell_type": "code",
   "execution_count": 32,
   "id": "2c09a0e2",
   "metadata": {},
   "outputs": [],
   "source": [
    "# Insert\n",
    "def insert_node(find_data, insert_data):\n",
    "    global pre, head, current, rear\n",
    "    \n",
    "    node = Node()\n",
    "    node.data = insert_data\n",
    "    \n",
    "    # Insert First Node\n",
    "    if head.data == find_data:\n",
    "        node.nlink = head\n",
    "        head.plink = node\n",
    "        head = node\n",
    "        return\n",
    "    \n",
    "    # Insert Node\n",
    "    current = head\n",
    "    while current.nlink != None:\n",
    "        pre = current\n",
    "        current = current.nlink\n",
    "        if current.data == find_data:\n",
    "            node.nlink = current\n",
    "            node.plink = pre\n",
    "            pre.nlink = node\n",
    "            current.plink = node\n",
    "            return\n",
    "    \n",
    "    # Insert Last Node\n",
    "    current.nlink = node\n",
    "    node.plink = current\n",
    "    rear = node"
   ]
  },
  {
   "cell_type": "code",
   "execution_count": 33,
   "id": "107504da",
   "metadata": {},
   "outputs": [
    {
     "name": "stdout",
     "output_type": "stream",
     "text": [
      "First A B C D E \n",
      "E D C B A First "
     ]
    }
   ],
   "source": [
    "# Test\n",
    "insert_node('A', 'First')\n",
    "print_node_data(head)\n",
    "print()\n",
    "print_node_data_backward(rear)"
   ]
  },
  {
   "cell_type": "code",
   "execution_count": 34,
   "id": "bfbf8130",
   "metadata": {},
   "outputs": [
    {
     "name": "stdout",
     "output_type": "stream",
     "text": [
      "First A B Joker C D E \n",
      "E D C Joker B A First "
     ]
    }
   ],
   "source": [
    "# Test\n",
    "insert_node('C', 'Joker')\n",
    "print_node_data(head)\n",
    "print()\n",
    "print_node_data_backward(rear)"
   ]
  },
  {
   "cell_type": "code",
   "execution_count": 35,
   "id": "1b435ecd",
   "metadata": {},
   "outputs": [
    {
     "name": "stdout",
     "output_type": "stream",
     "text": [
      "First A B Joker C D E Last \n",
      "Last E D C Joker B A First "
     ]
    }
   ],
   "source": [
    "# Test\n",
    "insert_node('', 'Last')\n",
    "print_node_data(head)\n",
    "print()\n",
    "print_node_data_backward(rear)"
   ]
  },
  {
   "cell_type": "code",
   "execution_count": 36,
   "id": "8545fdc6",
   "metadata": {},
   "outputs": [],
   "source": [
    "# Delete\n",
    "def delete_node(find_data):\n",
    "    global pre, head, current, rear\n",
    "    \n",
    "    # Delete First Node\n",
    "    if head.data == find_data:\n",
    "        current = head\n",
    "        head = head.nlink\n",
    "        head.plink = None\n",
    "        del(current)\n",
    "        return\n",
    "    \n",
    "    current = head\n",
    "    while current.nlink != None:\n",
    "        pre = current\n",
    "        current = current.nlink\n",
    "        if current.data == find_data:\n",
    "            \n",
    "            # Delete Last Node\n",
    "            if current == rear:\n",
    "                rear = pre\n",
    "                pre.nlink = None\n",
    "                del(current)\n",
    "                return\n",
    "            \n",
    "            # Delete Node\n",
    "            else:\n",
    "                later = current.nlink\n",
    "                pre.nlink = current.nlink\n",
    "                later.plink = current.plink\n",
    "                del(current)\n",
    "                return\n",
    "    \n",
    "    print(\"No data found\")"
   ]
  },
  {
   "cell_type": "code",
   "execution_count": 37,
   "id": "b9cf2475",
   "metadata": {},
   "outputs": [
    {
     "name": "stdout",
     "output_type": "stream",
     "text": [
      "A B Joker C D E Last \n",
      "Last E D C Joker B A "
     ]
    }
   ],
   "source": [
    "# Test\n",
    "delete_node('First')\n",
    "print_node_data(head)\n",
    "print()\n",
    "print_node_data_backward(rear)"
   ]
  },
  {
   "cell_type": "code",
   "execution_count": 38,
   "id": "3c25c8ab",
   "metadata": {},
   "outputs": [
    {
     "name": "stdout",
     "output_type": "stream",
     "text": [
      "A B C D E Last \n",
      "Last E D C B A "
     ]
    }
   ],
   "source": [
    "# Test\n",
    "delete_node('Joker')\n",
    "print_node_data(head)\n",
    "print()\n",
    "print_node_data_backward(rear)"
   ]
  },
  {
   "cell_type": "code",
   "execution_count": 39,
   "id": "a6db1d5f",
   "metadata": {},
   "outputs": [
    {
     "name": "stdout",
     "output_type": "stream",
     "text": [
      "A B C D E \n",
      "E D C B A "
     ]
    }
   ],
   "source": [
    "# Test\n",
    "delete_node('Last')\n",
    "print_node_data(head)\n",
    "print()\n",
    "print_node_data_backward(rear)"
   ]
  },
  {
   "cell_type": "code",
   "execution_count": 40,
   "id": "83ee9ab2",
   "metadata": {},
   "outputs": [
    {
     "name": "stdout",
     "output_type": "stream",
     "text": [
      "No data found\n",
      "A B C D E \n",
      "E D C B A "
     ]
    }
   ],
   "source": [
    "# Test\n",
    "delete_node('')\n",
    "print_node_data(head)\n",
    "print()\n",
    "print_node_data_backward(rear)"
   ]
  }
 ],
 "metadata": {
  "kernelspec": {
   "display_name": "Python 3 (ipykernel)",
   "language": "python",
   "name": "python3"
  },
  "language_info": {
   "codemirror_mode": {
    "name": "ipython",
    "version": 3
   },
   "file_extension": ".py",
   "mimetype": "text/x-python",
   "name": "python",
   "nbconvert_exporter": "python",
   "pygments_lexer": "ipython3",
   "version": "3.10.1"
  }
 },
 "nbformat": 4,
 "nbformat_minor": 5
}

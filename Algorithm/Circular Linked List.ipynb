{
 "cells": [
  {
   "cell_type": "markdown",
   "id": "ce79d42d",
   "metadata": {},
   "source": [
    "# Circular Linked List"
   ]
  },
  {
   "cell_type": "markdown",
   "id": "27d0d2c1",
   "metadata": {},
   "source": [
    "- **Circular Linked List** 는 원형 연결 리스트로, 마지막 노드가 다시 **head** 노드를 가리키고 있는 구조이다.\n",
    "<br>\n",
    "<br>\n",
    "- **Singly Linked List** 에서는 마지막 노드까지 접근하였을 경우, 재접근하기 위해서는 **head** 노드부터 재시작하여야 한다.\n",
    "<br>\n",
    "<br>\n",
    "- 반면, **Circular Linked List** 는 지속적으로 회전하면서 재접근이 가능하다.\n",
    "<br>\n",
    "<br>\n",
    "- **Circular Linked List** 에서는 **Singly Linked List** 와 마찬가지로 데이터의 삽입 및 삭제 시 오버헤드가 발생하지 않는다.\n",
    "<br>\n",
    "<br>\n",
    "- 이외에 노드 구조 또한 **Singly Linked List** 와 동일하다."
   ]
  },
  {
   "cell_type": "markdown",
   "id": "9b73cb36",
   "metadata": {},
   "source": [
    "***"
   ]
  },
  {
   "cell_type": "markdown",
   "id": "56841639",
   "metadata": {},
   "source": [
    "## ✅ Simple Ver."
   ]
  },
  {
   "cell_type": "markdown",
   "id": "ef349868",
   "metadata": {},
   "source": [
    "### Create Node"
   ]
  },
  {
   "cell_type": "code",
   "execution_count": 1,
   "id": "7fcc14a8",
   "metadata": {},
   "outputs": [],
   "source": [
    "class Node():\n",
    "    def __init__(self):\n",
    "        self.data = None\n",
    "        self.link = None"
   ]
  },
  {
   "cell_type": "markdown",
   "id": "407e35a4",
   "metadata": {},
   "source": [
    "### Create Circular Linked List"
   ]
  },
  {
   "cell_type": "code",
   "execution_count": 4,
   "id": "f5472e41",
   "metadata": {},
   "outputs": [],
   "source": [
    "node1 = Node()\n",
    "node1.data = 'A'\n",
    "node1.link = node1\n",
    "\n",
    "node2 = Node()\n",
    "node2.data = 'B'\n",
    "node1.link = node2\n",
    "node2.link = node1\n",
    "\n",
    "node3 = Node()\n",
    "node3.data = 'C'\n",
    "node2.link = node3\n",
    "node3.link = node1\n",
    "\n",
    "node4 = Node()\n",
    "node4.data = 'D'\n",
    "node3.link = node4\n",
    "node4.link = node1\n",
    "\n",
    "node5 = Node()\n",
    "node5.data = 'E'\n",
    "node4.link = node5\n",
    "node5.link = node1"
   ]
  },
  {
   "cell_type": "markdown",
   "id": "d2b48131",
   "metadata": {},
   "source": [
    "### Func: Print All Datas"
   ]
  },
  {
   "cell_type": "code",
   "execution_count": 5,
   "id": "fbd6c42a",
   "metadata": {},
   "outputs": [],
   "source": [
    "def print_node_data(head):\n",
    "    current = head\n",
    "    print(current.data, end=' ')\n",
    "    while current.link != head:\n",
    "        current = current.link\n",
    "        print(current.data, end=' ')"
   ]
  },
  {
   "cell_type": "code",
   "execution_count": 6,
   "id": "186295b8",
   "metadata": {},
   "outputs": [
    {
     "name": "stdout",
     "output_type": "stream",
     "text": [
      "A B C D E "
     ]
    }
   ],
   "source": [
    "print_node_data(node1)"
   ]
  },
  {
   "cell_type": "markdown",
   "id": "296379b3",
   "metadata": {},
   "source": [
    "### Insert"
   ]
  },
  {
   "cell_type": "code",
   "execution_count": 7,
   "id": "39d9e07e",
   "metadata": {},
   "outputs": [],
   "source": [
    "# Create new node object\n",
    "node_joker = Node()\n",
    "node_joker.data = 'JOKER'\n",
    "\n",
    "# Copy previous node's link to new node's link\n",
    "node_joker.link = node3.link\n",
    "\n",
    "# Make node3's link point toward new node object\n",
    "node3.link = node_joker"
   ]
  },
  {
   "cell_type": "code",
   "execution_count": 8,
   "id": "764b5a7d",
   "metadata": {},
   "outputs": [
    {
     "name": "stdout",
     "output_type": "stream",
     "text": [
      "A B C JOKER D E "
     ]
    }
   ],
   "source": [
    "print_node_data(node1)"
   ]
  },
  {
   "cell_type": "markdown",
   "id": "4746af73",
   "metadata": {},
   "source": [
    "### Delete"
   ]
  },
  {
   "cell_type": "code",
   "execution_count": 9,
   "id": "cccbec6a",
   "metadata": {},
   "outputs": [],
   "source": [
    "# Copy target node's link to previous node's link\n",
    "node3.link = node_joker.link\n",
    "\n",
    "# Delete the target node\n",
    "del node_joker"
   ]
  },
  {
   "cell_type": "code",
   "execution_count": 10,
   "id": "d1521926",
   "metadata": {},
   "outputs": [
    {
     "name": "stdout",
     "output_type": "stream",
     "text": [
      "A B C D E "
     ]
    }
   ],
   "source": [
    "print_node_data(node1)"
   ]
  },
  {
   "cell_type": "markdown",
   "id": "3c462bb7",
   "metadata": {},
   "source": [
    "***"
   ]
  },
  {
   "cell_type": "markdown",
   "id": "3b8699a4",
   "metadata": {},
   "source": [
    "## ✅ General Ver."
   ]
  },
  {
   "cell_type": "code",
   "execution_count": null,
   "id": "03ee7a91",
   "metadata": {},
   "outputs": [],
   "source": []
  }
 ],
 "metadata": {
  "kernelspec": {
   "display_name": "Python 3 (ipykernel)",
   "language": "python",
   "name": "python3"
  },
  "language_info": {
   "codemirror_mode": {
    "name": "ipython",
    "version": 3
   },
   "file_extension": ".py",
   "mimetype": "text/x-python",
   "name": "python",
   "nbconvert_exporter": "python",
   "pygments_lexer": "ipython3",
   "version": "3.10.1"
  }
 },
 "nbformat": 4,
 "nbformat_minor": 5
}

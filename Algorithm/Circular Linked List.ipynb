{
 "cells": [
  {
   "cell_type": "markdown",
   "id": "ce79d42d",
   "metadata": {},
   "source": [
    "# Circular Linked List"
   ]
  },
  {
   "cell_type": "markdown",
   "id": "27d0d2c1",
   "metadata": {},
   "source": [
    "- **Circular Linked List** 는 원형 연결 리스트로, 마지막 노드가 다시 **head** 노드를 가리키고 있는 구조이다.\n",
    "<br>\n",
    "<br>\n",
    "- **Singly Linked List** 에서는 마지막 노드까지 접근하였을 경우, 재접근하기 위해서는 **head** 노드부터 재시작하여야 한다.\n",
    "<br>\n",
    "<br>\n",
    "- 반면, **Circular Linked List** 는 지속적으로 회전하면서 재접근이 가능하다.\n",
    "<br>\n",
    "<br>\n",
    "- **Circular Linked List** 에서는 **Singly Linked List** 와 마찬가지로 데이터의 삽입 및 삭제 시 오버헤드가 발생하지 않는다.\n",
    "<br>\n",
    "<br>\n",
    "- 이외에 노드 구조 또한 **Singly Linked List** 와 동일하다."
   ]
  },
  {
   "cell_type": "markdown",
   "id": "9b73cb36",
   "metadata": {},
   "source": [
    "***"
   ]
  },
  {
   "cell_type": "markdown",
   "id": "56841639",
   "metadata": {},
   "source": [
    "## ✅ Simple Ver."
   ]
  },
  {
   "cell_type": "markdown",
   "id": "ef349868",
   "metadata": {},
   "source": [
    "### Create Node"
   ]
  },
  {
   "cell_type": "code",
   "execution_count": 1,
   "id": "7fcc14a8",
   "metadata": {},
   "outputs": [],
   "source": [
    "class Node():\n",
    "    def __init__(self):\n",
    "        self.data = None\n",
    "        self.link = None"
   ]
  },
  {
   "cell_type": "markdown",
   "id": "407e35a4",
   "metadata": {},
   "source": [
    "### Create Circular Linked List"
   ]
  },
  {
   "cell_type": "code",
   "execution_count": 4,
   "id": "f5472e41",
   "metadata": {},
   "outputs": [],
   "source": [
    "node1 = Node()\n",
    "node1.data = 'A'\n",
    "node1.link = node1\n",
    "\n",
    "node2 = Node()\n",
    "node2.data = 'B'\n",
    "node1.link = node2\n",
    "node2.link = node1\n",
    "\n",
    "node3 = Node()\n",
    "node3.data = 'C'\n",
    "node2.link = node3\n",
    "node3.link = node1\n",
    "\n",
    "node4 = Node()\n",
    "node4.data = 'D'\n",
    "node3.link = node4\n",
    "node4.link = node1\n",
    "\n",
    "node5 = Node()\n",
    "node5.data = 'E'\n",
    "node4.link = node5\n",
    "node5.link = node1"
   ]
  },
  {
   "cell_type": "markdown",
   "id": "d2b48131",
   "metadata": {},
   "source": [
    "### Func: Print All Datas"
   ]
  },
  {
   "cell_type": "code",
   "execution_count": 4,
   "id": "fbd6c42a",
   "metadata": {},
   "outputs": [],
   "source": [
    "def print_node_data(head):\n",
    "    current = head\n",
    "    print(current.data, end=' ')\n",
    "    while current.link != head:\n",
    "        current = current.link\n",
    "        print(current.data, end=' ')"
   ]
  },
  {
   "cell_type": "code",
   "execution_count": 6,
   "id": "186295b8",
   "metadata": {},
   "outputs": [
    {
     "name": "stdout",
     "output_type": "stream",
     "text": [
      "A B C D E "
     ]
    }
   ],
   "source": [
    "print_node_data(node1)"
   ]
  },
  {
   "cell_type": "markdown",
   "id": "296379b3",
   "metadata": {},
   "source": [
    "### Insert"
   ]
  },
  {
   "cell_type": "code",
   "execution_count": 7,
   "id": "39d9e07e",
   "metadata": {},
   "outputs": [],
   "source": [
    "# Create new node object\n",
    "node_joker = Node()\n",
    "node_joker.data = 'JOKER'\n",
    "\n",
    "# Copy previous node's link to new node's link\n",
    "node_joker.link = node3.link\n",
    "\n",
    "# Make node3's link point toward new node object\n",
    "node3.link = node_joker"
   ]
  },
  {
   "cell_type": "code",
   "execution_count": 8,
   "id": "764b5a7d",
   "metadata": {},
   "outputs": [
    {
     "name": "stdout",
     "output_type": "stream",
     "text": [
      "A B C JOKER D E "
     ]
    }
   ],
   "source": [
    "print_node_data(node1)"
   ]
  },
  {
   "cell_type": "markdown",
   "id": "4746af73",
   "metadata": {},
   "source": [
    "### Delete"
   ]
  },
  {
   "cell_type": "code",
   "execution_count": 9,
   "id": "cccbec6a",
   "metadata": {},
   "outputs": [],
   "source": [
    "# Copy target node's link to previous node's link\n",
    "node3.link = node_joker.link\n",
    "\n",
    "# Delete the target node\n",
    "del node_joker"
   ]
  },
  {
   "cell_type": "code",
   "execution_count": 10,
   "id": "d1521926",
   "metadata": {},
   "outputs": [
    {
     "name": "stdout",
     "output_type": "stream",
     "text": [
      "A B C D E "
     ]
    }
   ],
   "source": [
    "print_node_data(node1)"
   ]
  },
  {
   "cell_type": "markdown",
   "id": "3c462bb7",
   "metadata": {},
   "source": [
    "***"
   ]
  },
  {
   "cell_type": "markdown",
   "id": "3b8699a4",
   "metadata": {},
   "source": [
    "## ✅ General Ver."
   ]
  },
  {
   "cell_type": "markdown",
   "id": "ff50f531",
   "metadata": {},
   "source": [
    "### Create Circular Linked List"
   ]
  },
  {
   "cell_type": "code",
   "execution_count": 8,
   "id": "f0c228b8",
   "metadata": {},
   "outputs": [],
   "source": [
    "# Declare Node Structure\n",
    "class Node():\n",
    "    def __init__(self):\n",
    "        self.data = None\n",
    "        self.link = None\n",
    "\n",
    "        \n",
    "# Declare Global Variables\n",
    "memory, pre, head, current = [], None, None, None\n",
    "dataArray = ['A', 'B', 'C', 'D', 'E']\n",
    "\n",
    "\n",
    "# Create Circular Linked List\n",
    "node = Node()\n",
    "node.data = dataArray[0]\n",
    "head = node\n",
    "node.link = head\n",
    "memory.append(node)\n",
    "\n",
    "for data in dataArray[1:]:\n",
    "    pre = node\n",
    "    node = Node()\n",
    "    node.data = data\n",
    "    pre.link = node\n",
    "    node.link = head\n",
    "    memory.append(node)"
   ]
  },
  {
   "cell_type": "code",
   "execution_count": 9,
   "id": "f3aecd06",
   "metadata": {},
   "outputs": [
    {
     "name": "stdout",
     "output_type": "stream",
     "text": [
      "A B C D E "
     ]
    }
   ],
   "source": [
    "print_node_data(head)"
   ]
  },
  {
   "cell_type": "markdown",
   "id": "d77c158b",
   "metadata": {},
   "source": [
    "### Insert"
   ]
  },
  {
   "cell_type": "code",
   "execution_count": 10,
   "id": "eedf9dad",
   "metadata": {},
   "outputs": [],
   "source": [
    "def insert_node(find_data, insert_data):\n",
    "    global memory, pre, head, current\n",
    "    \n",
    "    node = Node()\n",
    "    node.data = insert_data\n",
    "    \n",
    "    # Insert First Node\n",
    "    if head.data == find_data:\n",
    "        node.link = head\n",
    "        last = head\n",
    "        while last.link != head:\n",
    "            last = last.link\n",
    "        last.link = node\n",
    "        head = node\n",
    "        return\n",
    "    \n",
    "    # Insert Node\n",
    "    current = head\n",
    "    while current.link != head:\n",
    "        pre = current\n",
    "        current = current.link\n",
    "        if current.data == find_data:\n",
    "            node.link = current\n",
    "            pre.link = node\n",
    "            return\n",
    "    \n",
    "    # Insert Last Node\n",
    "    current.link = node\n",
    "    node.link = head"
   ]
  },
  {
   "cell_type": "code",
   "execution_count": 11,
   "id": "9aab3ee9",
   "metadata": {},
   "outputs": [
    {
     "name": "stdout",
     "output_type": "stream",
     "text": [
      "First A B C D E "
     ]
    }
   ],
   "source": [
    "insert_node('A', 'First')\n",
    "print_node_data(head)"
   ]
  },
  {
   "cell_type": "code",
   "execution_count": 12,
   "id": "b346c328",
   "metadata": {},
   "outputs": [
    {
     "name": "stdout",
     "output_type": "stream",
     "text": [
      "First A B New C D E "
     ]
    }
   ],
   "source": [
    "insert_node('C', 'New')\n",
    "print_node_data(head)"
   ]
  },
  {
   "cell_type": "code",
   "execution_count": 13,
   "id": "0cfbe5b8",
   "metadata": {},
   "outputs": [
    {
     "name": "stdout",
     "output_type": "stream",
     "text": [
      "First A B New C D E Last "
     ]
    }
   ],
   "source": [
    "insert_node('', 'Last')\n",
    "print_node_data(head)"
   ]
  },
  {
   "cell_type": "markdown",
   "id": "1d3aee0d",
   "metadata": {},
   "source": [
    "### Delete"
   ]
  },
  {
   "cell_type": "code",
   "execution_count": 14,
   "id": "6056a93e",
   "metadata": {},
   "outputs": [],
   "source": [
    "def delete_node(find_data):\n",
    "    global memory, pre, head, current\n",
    "    \n",
    "    # Delete First Node\n",
    "    if head.data == find_data:\n",
    "        current = head\n",
    "        head = head.link\n",
    "        last = head\n",
    "        while last.link != current:\n",
    "            last = last.link\n",
    "        last.link = head\n",
    "        del(current)\n",
    "        return\n",
    "    \n",
    "    # Delete Node\n",
    "    current = head\n",
    "    while current.link != head:\n",
    "        pre = current\n",
    "        current = current.link\n",
    "        if current.data == find_data:\n",
    "            pre.link = current.link\n",
    "            del(current)\n",
    "            return"
   ]
  },
  {
   "cell_type": "code",
   "execution_count": 15,
   "id": "c9021b05",
   "metadata": {},
   "outputs": [
    {
     "name": "stdout",
     "output_type": "stream",
     "text": [
      "A B New C D E Last "
     ]
    }
   ],
   "source": [
    "delete_node('First')\n",
    "print_node_data(head)"
   ]
  },
  {
   "cell_type": "code",
   "execution_count": 16,
   "id": "2fe08865",
   "metadata": {},
   "outputs": [
    {
     "name": "stdout",
     "output_type": "stream",
     "text": [
      "A B C D E Last "
     ]
    }
   ],
   "source": [
    "delete_node('New')\n",
    "print_node_data(head)"
   ]
  },
  {
   "cell_type": "code",
   "execution_count": 17,
   "id": "185f9f9d",
   "metadata": {},
   "outputs": [
    {
     "name": "stdout",
     "output_type": "stream",
     "text": [
      "A B C D E "
     ]
    }
   ],
   "source": [
    "delete_node('Last')\n",
    "print_node_data(head)"
   ]
  },
  {
   "cell_type": "markdown",
   "id": "b61d8773",
   "metadata": {},
   "source": [
    "### Search"
   ]
  },
  {
   "cell_type": "code",
   "execution_count": 18,
   "id": "4d212727",
   "metadata": {},
   "outputs": [],
   "source": [
    "def search_node(find_data):\n",
    "    global head, current\n",
    "    \n",
    "    # Find First Node\n",
    "    if head.data == find_data:\n",
    "        return head\n",
    "    \n",
    "    # Find Node\n",
    "    current = head\n",
    "    while current.link != head:\n",
    "        current = current.link\n",
    "        if current.data == find_data:\n",
    "            return current\n",
    "        \n",
    "    print(\"Node Does Not Exist.\")\n",
    "    return Node()"
   ]
  },
  {
   "cell_type": "code",
   "execution_count": 19,
   "id": "d43348e0",
   "metadata": {},
   "outputs": [
    {
     "name": "stdout",
     "output_type": "stream",
     "text": [
      "A\n"
     ]
    }
   ],
   "source": [
    "node = search_node('A')\n",
    "print(node.data)"
   ]
  },
  {
   "cell_type": "code",
   "execution_count": 20,
   "id": "ea8778cb",
   "metadata": {},
   "outputs": [
    {
     "name": "stdout",
     "output_type": "stream",
     "text": [
      "E\n"
     ]
    }
   ],
   "source": [
    "node = search_node('E')\n",
    "print(node.data)"
   ]
  },
  {
   "cell_type": "code",
   "execution_count": 21,
   "id": "9ad85bf2",
   "metadata": {},
   "outputs": [
    {
     "name": "stdout",
     "output_type": "stream",
     "text": [
      "Node Does Not Exist.\n",
      "None\n"
     ]
    }
   ],
   "source": [
    "node = search_node('F')\n",
    "print(node.data)"
   ]
  },
  {
   "cell_type": "markdown",
   "id": "31442091",
   "metadata": {},
   "source": [
    "***"
   ]
  },
  {
   "cell_type": "markdown",
   "id": "b5696092",
   "metadata": {},
   "source": [
    "### Q.1"
   ]
  },
  {
   "cell_type": "markdown",
   "id": "aaf65060",
   "metadata": {},
   "source": [
    "- 홀수 짝수 분류 프로그램\n",
    "<br>\n",
    "<br>\n",
    "- 홀수와 짝수의 개수를 계산한 뒤, 더 많은 수를 음수로 변경"
   ]
  },
  {
   "cell_type": "code",
   "execution_count": 1,
   "id": "4c38c52f",
   "metadata": {},
   "outputs": [],
   "source": [
    "import random"
   ]
  },
  {
   "cell_type": "code",
   "execution_count": 75,
   "id": "0e932748",
   "metadata": {},
   "outputs": [],
   "source": [
    "# Declare Node Class\n",
    "class Node():\n",
    "    def __init__(self):\n",
    "        self.data = None\n",
    "        self.link = None\n",
    "\n",
    "        \n",
    "# Create Circular Linked List\n",
    "dataArray = []\n",
    "\n",
    "for _ in range(7):\n",
    "    dataArray.append(random.randint(1, 100))\n",
    "\n",
    "node = Node()\n",
    "node.data = dataArray[0]\n",
    "head = node\n",
    "node.link = head\n",
    "\n",
    "for data in dataArray[1:]:\n",
    "    pre = node\n",
    "    node = Node()\n",
    "    node.data = data\n",
    "    pre.link = node\n",
    "    node.link = head"
   ]
  },
  {
   "cell_type": "code",
   "execution_count": 69,
   "id": "e98eab7c",
   "metadata": {},
   "outputs": [
    {
     "name": "stdout",
     "output_type": "stream",
     "text": [
      "54 40 51 25 17 58 93 "
     ]
    }
   ],
   "source": [
    "print_node_data(head)"
   ]
  },
  {
   "cell_type": "code",
   "execution_count": 70,
   "id": "6f07e4b9",
   "metadata": {},
   "outputs": [
    {
     "name": "stdout",
     "output_type": "stream",
     "text": [
      "False\n"
     ]
    }
   ],
   "source": [
    "print(is_even_num_more(head))"
   ]
  },
  {
   "cell_type": "code",
   "execution_count": 47,
   "id": "b0e78cdf",
   "metadata": {},
   "outputs": [],
   "source": [
    "def is_even(node):\n",
    "    if node.data % 2 == 0:\n",
    "        return True\n",
    "    else:\n",
    "        return False"
   ]
  },
  {
   "cell_type": "code",
   "execution_count": 48,
   "id": "65016075",
   "metadata": {},
   "outputs": [],
   "source": [
    "def is_even_num_more(head):\n",
    "    odd_count = 0\n",
    "    even_count = 0\n",
    "    \n",
    "    if is_even(head):\n",
    "        even_count += 1\n",
    "    else:\n",
    "        odd_count += 1\n",
    "    \n",
    "    current = head\n",
    "    while current.link != head:\n",
    "        current = current.link\n",
    "        if is_even(current):\n",
    "            even_count += 1\n",
    "        else:\n",
    "            odd_count += 1\n",
    "            \n",
    "    return even_count > odd_count"
   ]
  },
  {
   "cell_type": "code",
   "execution_count": 49,
   "id": "d7d9178f",
   "metadata": {},
   "outputs": [],
   "source": [
    "def update_pos_to_neg(node):\n",
    "    pos = node.data\n",
    "    neg = pos - (pos*2)\n",
    "    node.data = neg"
   ]
  },
  {
   "cell_type": "code",
   "execution_count": 50,
   "id": "734bf620",
   "metadata": {},
   "outputs": [],
   "source": [
    "# Even/Odd Classification Program\n",
    "def classify_even_and_odd(head):\n",
    "    # Even numbers are more\n",
    "    if is_even_num_more(head):\n",
    "        if is_even(head):\n",
    "            update_pos_to_neg(head)\n",
    "        \n",
    "        current = head\n",
    "        while current.link != head:\n",
    "            current = current.link\n",
    "            if is_even(current):\n",
    "                update_pos_to_neg(current)\n",
    "    \n",
    "    # Odd numbers are more\n",
    "    else:\n",
    "        if not is_even(head):\n",
    "            update_pos_to_neg(head)\n",
    "            \n",
    "        current = head\n",
    "        while current.link != head:\n",
    "            current = current.link\n",
    "            if not is_even(current):\n",
    "                update_pos_to_neg(current)"
   ]
  },
  {
   "cell_type": "code",
   "execution_count": 71,
   "id": "94362cc3",
   "metadata": {},
   "outputs": [
    {
     "name": "stdout",
     "output_type": "stream",
     "text": [
      "54 40 51 25 17 58 93 \n",
      "54 40 -51 -25 -17 58 -93 "
     ]
    }
   ],
   "source": [
    "# Test 1\n",
    "print_node_data(head)\n",
    "\n",
    "print()\n",
    "\n",
    "classify_even_and_odd(head)\n",
    "print_node_data(head)"
   ]
  },
  {
   "cell_type": "code",
   "execution_count": 73,
   "id": "07ad2fa5",
   "metadata": {},
   "outputs": [
    {
     "name": "stdout",
     "output_type": "stream",
     "text": [
      "87 95 73 44 36 58 96 \n",
      "87 95 73 -44 -36 -58 -96 "
     ]
    }
   ],
   "source": [
    "# Test 2\n",
    "print_node_data(head)\n",
    "\n",
    "print()\n",
    "\n",
    "classify_even_and_odd(head)\n",
    "print_node_data(head)"
   ]
  }
 ],
 "metadata": {
  "kernelspec": {
   "display_name": "Python 3 (ipykernel)",
   "language": "python",
   "name": "python3"
  },
  "language_info": {
   "codemirror_mode": {
    "name": "ipython",
    "version": 3
   },
   "file_extension": ".py",
   "mimetype": "text/x-python",
   "name": "python",
   "nbconvert_exporter": "python",
   "pygments_lexer": "ipython3",
   "version": "3.10.1"
  }
 },
 "nbformat": 4,
 "nbformat_minor": 5
}

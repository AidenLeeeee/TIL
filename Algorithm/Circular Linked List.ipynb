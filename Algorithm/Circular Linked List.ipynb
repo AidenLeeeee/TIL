{
 "cells": [
  {
   "cell_type": "markdown",
   "id": "ba65cd18",
   "metadata": {},
   "source": [
    "# Circular Linked List"
   ]
  },
  {
   "cell_type": "markdown",
   "id": "dc584b73",
   "metadata": {},
   "source": [
    "- **Circular Linked List** 는 원형 연결 리스트로, 마지막 노드가 다시 **head** 노드를 가리키고 있는 구조이다.\n",
    "<br>\n",
    "<br>\n",
    "- **Singly Linked List** 에서는 마지막 노드까지 접근하였을 경우, 재접근하기 위해서는 **head** 노드부터 재시작하여야 한다.\n",
    "<br>\n",
    "<br>\n",
    "- 반면, **Circular Linked List** 는 지속적으로 회전하면서 재접근이 가능하다.\n",
    "<br>\n",
    "<br>\n",
    "- **Circular Linked List** 에서는 **Singly Linked List** 와 마찬가지로 데이터의 삽입 및 삭제 시 오버헤드가 발생하지 않는다.\n",
    "<br>\n",
    "<br>\n",
    "- 이외에 노드 구조 또한 **Singly Linked List** 와 동일하다."
   ]
  },
  {
   "cell_type": "code",
   "execution_count": null,
   "id": "9f971e4d",
   "metadata": {},
   "outputs": [],
   "source": []
  }
 ],
 "metadata": {
  "kernelspec": {
   "display_name": "Python 3 (ipykernel)",
   "language": "python",
   "name": "python3"
  },
  "language_info": {
   "codemirror_mode": {
    "name": "ipython",
    "version": 3
   },
   "file_extension": ".py",
   "mimetype": "text/x-python",
   "name": "python",
   "nbconvert_exporter": "python",
   "pygments_lexer": "ipython3",
   "version": "3.10.1"
  }
 },
 "nbformat": 4,
 "nbformat_minor": 5
}

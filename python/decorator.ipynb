{
 "cells": [
  {
   "cell_type": "markdown",
   "id": "250b2ae9",
   "metadata": {},
   "source": [
    "# 1.1. Decorator"
   ]
  },
  {
   "cell_type": "markdown",
   "id": "b55a2da8",
   "metadata": {},
   "source": [
    "- **함수 앞뒤에 기능을 추가**하여 활용하는 기법\n",
    "- **Closure Function** 을 활용"
   ]
  },
  {
   "cell_type": "markdown",
   "id": "359cb5f1",
   "metadata": {},
   "source": [
    "### ⛔️ **`Decorator_off`**"
   ]
  },
  {
   "cell_type": "markdown",
   "id": "f86bb0c0",
   "metadata": {},
   "source": [
    "#### User 의 로그인 로그를 남기는 함수"
   ]
  },
  {
   "cell_type": "code",
   "execution_count": 2,
   "id": "afbc1916",
   "metadata": {},
   "outputs": [
    {
     "name": "stdout",
     "output_type": "stream",
     "text": [
      "Aiden Login\n"
     ]
    }
   ],
   "source": [
    "def logger_login():\n",
    "    print(\"Aiden Login\")\n",
    "    \n",
    "logger_login()"
   ]
  },
  {
   "cell_type": "markdown",
   "id": "2b3caadb",
   "metadata": {},
   "source": [
    "#### 로그인 시간을 앞뒤로 추가"
   ]
  },
  {
   "cell_type": "code",
   "execution_count": 3,
   "id": "bfca0164",
   "metadata": {},
   "outputs": [
    {
     "name": "stdout",
     "output_type": "stream",
     "text": [
      "2022-04-26 16:04:18.303211\n",
      "Aiden Login\n",
      "2022-04-26 16:04:18.303259\n"
     ]
    }
   ],
   "source": [
    "import datetime\n",
    "\n",
    "def logger_login():\n",
    "    print(datetime.datetime.now())\n",
    "    print(\"Aiden Login\")\n",
    "    print(datetime.datetime.now())\n",
    "    \n",
    "logger_login()"
   ]
  },
  {
   "cell_type": "markdown",
   "id": "a7230591",
   "metadata": {},
   "source": [
    "- 위 방법은 모든 함수를 수정해주어야 한다는 단점이 존재"
   ]
  },
  {
   "cell_type": "markdown",
   "id": "cd1daa74",
   "metadata": {},
   "source": [
    "### ✅ **`Decorator_on`**"
   ]
  },
  {
   "cell_type": "markdown",
   "id": "8934acec",
   "metadata": {},
   "source": [
    "#### Decorator 작성"
   ]
  },
  {
   "cell_type": "code",
   "execution_count": 4,
   "id": "c2a385fc",
   "metadata": {},
   "outputs": [],
   "source": [
    "def datetime_decorator(func):\n",
    "    def wrapper():\n",
    "        print(datetime.datetime.now())\n",
    "        func()\n",
    "        print(datetime.datetime.now())\n",
    "    return wrapper"
   ]
  },
  {
   "cell_type": "markdown",
   "id": "cc0e1760",
   "metadata": {},
   "source": [
    "#### Decorator 적용"
   ]
  },
  {
   "cell_type": "code",
   "execution_count": 5,
   "id": "8a76411a",
   "metadata": {},
   "outputs": [
    {
     "name": "stdout",
     "output_type": "stream",
     "text": [
      "2022-04-26 16:15:30.255471\n",
      "Aiden Login\n",
      "2022-04-26 16:15:30.255515\n"
     ]
    }
   ],
   "source": [
    "@datetime_decorator\n",
    "def logger_login_aiden():\n",
    "    print(\"Aiden Login\")\n",
    "    \n",
    "logger_login_aiden()"
   ]
  },
  {
   "cell_type": "markdown",
   "id": "740ffa40",
   "metadata": {},
   "source": [
    "- Decorator 아래에 정의된 함수가 Decorator 함수의 인자로 전달되어 호출되는 모습을 확인 가능"
   ]
  },
  {
   "cell_type": "markdown",
   "id": "4e39a01d",
   "metadata": {},
   "source": [
    "# 1.2. Decorator 원리"
   ]
  },
  {
   "cell_type": "markdown",
   "id": "a69ba119",
   "metadata": {},
   "source": [
    "### ⛔️ **`Nested Function with Closure`**"
   ]
  },
  {
   "cell_type": "code",
   "execution_count": 10,
   "id": "198ffdb7",
   "metadata": {},
   "outputs": [],
   "source": [
    "# Decorator Function\n",
    "def outer_func(func):\n",
    "    def inner_func():\n",
    "        print(\"Decorator Added\")\n",
    "        func()\n",
    "    return inner_func\n",
    "\n",
    "# General Function\n",
    "def log_func():\n",
    "    print(\"logging\")"
   ]
  },
  {
   "cell_type": "code",
   "execution_count": 11,
   "id": "6aaa4ee6",
   "metadata": {},
   "outputs": [
    {
     "name": "stdout",
     "output_type": "stream",
     "text": [
      "logging\n"
     ]
    }
   ],
   "source": [
    "log_func()"
   ]
  },
  {
   "cell_type": "code",
   "execution_count": 12,
   "id": "0fdadd67",
   "metadata": {},
   "outputs": [
    {
     "name": "stdout",
     "output_type": "stream",
     "text": [
      "Decorator Added\n",
      "logging\n"
     ]
    }
   ],
   "source": [
    "decorated_func = outer_func(log_func)\n",
    "decorated_func()"
   ]
  },
  {
   "cell_type": "markdown",
   "id": "6835db6e",
   "metadata": {},
   "source": [
    "- Decorator 는 위처럼 내부 함수를 반환하는 외부 함수의 원리와 동일\n",
    "- **Nested Function + Closure Function** 의 원리"
   ]
  },
  {
   "cell_type": "markdown",
   "id": "ee4d2d3c",
   "metadata": {},
   "source": [
    "### ✅ **`Decorator`**"
   ]
  },
  {
   "cell_type": "code",
   "execution_count": 13,
   "id": "2232bd45",
   "metadata": {},
   "outputs": [],
   "source": [
    "@outer_func\n",
    "def log_func():\n",
    "    print(\"logging\")"
   ]
  },
  {
   "cell_type": "code",
   "execution_count": 14,
   "id": "0c20159c",
   "metadata": {},
   "outputs": [
    {
     "name": "stdout",
     "output_type": "stream",
     "text": [
      "Decorator Added\n",
      "logging\n"
     ]
    }
   ],
   "source": [
    "log_func()"
   ]
  },
  {
   "cell_type": "markdown",
   "id": "9ee2555d",
   "metadata": {},
   "source": [
    "- 앞선 예시코드를 **Decorator** 를 적용하여 작성하면 위와 같다."
   ]
  },
  {
   "cell_type": "markdown",
   "id": "08464706",
   "metadata": {},
   "source": [
    "# 1.3. 파라미터가 있는 함수에 Decorator 적용"
   ]
  },
  {
   "cell_type": "markdown",
   "id": "b8c8d6d4",
   "metadata": {},
   "source": [
    "- **Decorator** 작성 시, **Nested Function** 내에서 파라미터를 구현"
   ]
  },
  {
   "cell_type": "code",
   "execution_count": 27,
   "id": "0fe4b71c",
   "metadata": {},
   "outputs": [],
   "source": [
    "# Decorator Function\n",
    "def outer_func(func):\n",
    "    def inner_func(num1, num2):\n",
    "        if num2 == 0:\n",
    "            print(\"cannot be divided with zero\")\n",
    "            return\n",
    "        func(num1, num2)\n",
    "    return inner_func"
   ]
  },
  {
   "cell_type": "code",
   "execution_count": 28,
   "id": "818d7a23",
   "metadata": {},
   "outputs": [],
   "source": [
    "@outer_func\n",
    "def divide(num1, num2):\n",
    "    print(num1 / num2)"
   ]
  },
  {
   "cell_type": "code",
   "execution_count": 29,
   "id": "5b619766",
   "metadata": {},
   "outputs": [
    {
     "name": "stdout",
     "output_type": "stream",
     "text": [
      "2.0\n"
     ]
    }
   ],
   "source": [
    "divide(4, 2)"
   ]
  },
  {
   "cell_type": "code",
   "execution_count": 30,
   "id": "2df881aa",
   "metadata": {},
   "outputs": [
    {
     "name": "stdout",
     "output_type": "stream",
     "text": [
      "cannot be divided with zero\n"
     ]
    }
   ],
   "source": [
    "divide(4, 0)"
   ]
  },
  {
   "cell_type": "markdown",
   "id": "ec1efe6f",
   "metadata": {},
   "source": [
    "# 1.4 파라미터 수와 관계없이 Decorator 적용"
   ]
  },
  {
   "cell_type": "markdown",
   "id": "19c6a2cb",
   "metadata": {},
   "source": [
    "- **Decorator** 작성 시, **Nested Function** 의 파라미터를 ***args**, ****kwargs** 로 작성"
   ]
  },
  {
   "cell_type": "code",
   "execution_count": 34,
   "id": "2a010597",
   "metadata": {},
   "outputs": [],
   "source": [
    "# Decorator\n",
    "def outer_func(func):\n",
    "    def inner_func(*args, **kwargs):\n",
    "        print(\"Decorator Added\")\n",
    "        func(*args, **kwargs)\n",
    "    return inner_func"
   ]
  },
  {
   "cell_type": "code",
   "execution_count": 35,
   "id": "faacb1ed",
   "metadata": {},
   "outputs": [],
   "source": [
    "@outer_func\n",
    "def calc_square(num):\n",
    "    print(num * num)\n",
    "\n",
    "@outer_func\n",
    "def calc_quad(num1, num2, num3, num4):\n",
    "    print(num1 * num2 * num3 * num4)"
   ]
  },
  {
   "cell_type": "code",
   "execution_count": 36,
   "id": "3e632b06",
   "metadata": {},
   "outputs": [
    {
     "name": "stdout",
     "output_type": "stream",
     "text": [
      "Decorator Added\n",
      "4\n",
      "None\n",
      "Decorator Added\n",
      "120\n",
      "None\n"
     ]
    }
   ],
   "source": [
    "print(calc_square(2))\n",
    "print(calc_quad(2, 3, 4, 5))"
   ]
  },
  {
   "cell_type": "markdown",
   "id": "1aa25ca4",
   "metadata": {},
   "source": [
    "# 1.5. 하나의 함수에 여러 개의 Decorator 적용"
   ]
  },
  {
   "cell_type": "markdown",
   "id": "973d3f5d",
   "metadata": {},
   "source": [
    "- **Decorator** 를 나열한 순서대로 실행"
   ]
  },
  {
   "cell_type": "code",
   "execution_count": 37,
   "id": "69d106bd",
   "metadata": {},
   "outputs": [],
   "source": [
    "# Decorator_1\n",
    "def outer_func1(func):\n",
    "    def inner_func():\n",
    "        print(\"Decorator_1\")\n",
    "        func()\n",
    "    return inner_func\n",
    "\n",
    "# Decorator_2\n",
    "def outer_func2(func):\n",
    "    def inner_func():\n",
    "        print(\"Decorator_2\")\n",
    "        func()\n",
    "    return inner_func"
   ]
  },
  {
   "cell_type": "code",
   "execution_count": 38,
   "id": "79b4d507",
   "metadata": {},
   "outputs": [],
   "source": [
    "@outer_func1\n",
    "@outer_func2\n",
    "def hello():\n",
    "    print(\"hello\")"
   ]
  },
  {
   "cell_type": "code",
   "execution_count": 39,
   "id": "a044f906",
   "metadata": {},
   "outputs": [
    {
     "name": "stdout",
     "output_type": "stream",
     "text": [
      "Decorator_1\n",
      "Decorator_2\n",
      "hello\n"
     ]
    }
   ],
   "source": [
    "hello()"
   ]
  },
  {
   "cell_type": "markdown",
   "id": "d3ec307d",
   "metadata": {},
   "source": [
    "# 1.6. Method Decorator"
   ]
  },
  {
   "cell_type": "markdown",
   "id": "84ec656b",
   "metadata": {},
   "source": [
    "- **Class** 의 **Method** 에도 **Decorator** 를 적용 가능\n",
    "- **Decorator** 작성 시, 첫 파라미터인 **self** 를 작성"
   ]
  },
  {
   "cell_type": "code",
   "execution_count": 50,
   "id": "f3d949e7",
   "metadata": {},
   "outputs": [],
   "source": [
    "# Decorator\n",
    "def h1_tag(func):\n",
    "    def func_wrapper(self, *args, **kwargs):\n",
    "        return \"<h1>\" + func(self, *args, **kwargs) + \"</h1>\"\n",
    "    return func_wrapper"
   ]
  },
  {
   "cell_type": "code",
   "execution_count": 51,
   "id": "362a1810",
   "metadata": {},
   "outputs": [],
   "source": [
    "# Class\n",
    "class Person:\n",
    "    def __init__(self, first_name, last_name):\n",
    "        self.first_name = first_name\n",
    "        self.last_name = last_name\n",
    "        \n",
    "    @h1_tag\n",
    "    def get_name(self):\n",
    "        return self.first_name + ' ' + self.last_name"
   ]
  },
  {
   "cell_type": "code",
   "execution_count": 52,
   "id": "ee7c2fe4",
   "metadata": {},
   "outputs": [
    {
     "name": "stdout",
     "output_type": "stream",
     "text": [
      "<h1>Aiden Lee</h1>\n"
     ]
    }
   ],
   "source": [
    "aidenlee = Person(\"Aiden\", \"Lee\")\n",
    "print(aidenlee.get_name())"
   ]
  },
  {
   "cell_type": "markdown",
   "id": "8945f385",
   "metadata": {},
   "source": [
    "# 1.7. Decorator 에 파라미터 추가"
   ]
  },
  {
   "cell_type": "markdown",
   "id": "ea88db95",
   "metadata": {},
   "source": [
    "- **Decorator** 에 파라미터를 사용하는 경우, **Nested Function** 을 하나 더 작성"
   ]
  },
  {
   "cell_type": "code",
   "execution_count": 53,
   "id": "0f87513c",
   "metadata": {},
   "outputs": [],
   "source": [
    "# Decorator\n",
    "def decorator1(num):\n",
    "    def outer_wrapper(function):\n",
    "        def inner_wrapper(*args, **kwargs):\n",
    "            print('decorator1 {} Added'.format(num))\n",
    "            return function(*args, **kwargs)\n",
    "        return inner_wrapper\n",
    "    return outer_wrapper"
   ]
  },
  {
   "cell_type": "code",
   "execution_count": 54,
   "id": "74312770",
   "metadata": {},
   "outputs": [],
   "source": [
    "@decorator1(24)\n",
    "def say_hello():\n",
    "    print(\"hello\")"
   ]
  },
  {
   "cell_type": "code",
   "execution_count": 55,
   "id": "de55f2e4",
   "metadata": {},
   "outputs": [
    {
     "name": "stdout",
     "output_type": "stream",
     "text": [
      "decorator1 24 Added\n",
      "hello\n"
     ]
    }
   ],
   "source": [
    "say_hello()"
   ]
  },
  {
   "cell_type": "markdown",
   "id": "aeb9d38f",
   "metadata": {},
   "source": [
    "# 2.1. Task"
   ]
  },
  {
   "cell_type": "markdown",
   "id": "5b1870d7",
   "metadata": {},
   "source": [
    "- HTML Tag 를 생성하는 Decorator"
   ]
  },
  {
   "cell_type": "code",
   "execution_count": 47,
   "id": "64f8d8a3",
   "metadata": {},
   "outputs": [],
   "source": [
    "# Bold Decorator\n",
    "def mark_bold(func):\n",
    "    def wrapper(*args, **kwargs):\n",
    "        return '<b>' + func(*args, **kwargs) + '</b>'\n",
    "    return wrapper\n",
    "\n",
    "# Italic Decorator\n",
    "def mark_italic(func):\n",
    "    def wrapper(*args, **kwargs):\n",
    "        return '<i>' + func(*args, **kwargs) + '</i>'\n",
    "    return wrapper"
   ]
  },
  {
   "cell_type": "code",
   "execution_count": 48,
   "id": "fec1fb94",
   "metadata": {},
   "outputs": [],
   "source": [
    "@mark_bold\n",
    "@mark_italic\n",
    "def add_html(string):\n",
    "    return string"
   ]
  },
  {
   "cell_type": "code",
   "execution_count": 49,
   "id": "c5901df8",
   "metadata": {},
   "outputs": [
    {
     "name": "stdout",
     "output_type": "stream",
     "text": [
      "<b><i>hello</i></b>\n"
     ]
    }
   ],
   "source": [
    "print(add_html('hello'))"
   ]
  },
  {
   "cell_type": "markdown",
   "id": "f948108f",
   "metadata": {},
   "source": [
    "# 2.2. Task"
   ]
  },
  {
   "cell_type": "markdown",
   "id": "63fe5e47",
   "metadata": {},
   "source": [
    "- HTML Tag 를 생성하는 Decorator"
   ]
  },
  {
   "cell_type": "code",
   "execution_count": 59,
   "id": "da5649c3",
   "metadata": {},
   "outputs": [],
   "source": [
    "# Decorator\n",
    "def tag_creator(tag):\n",
    "    def outer_wrapper(func):\n",
    "        def inner_wrapper(*args, **kwargs):\n",
    "            return f\"<{tag}>\" + func(*args, **kwargs) + f\"</{tag}>\"\n",
    "        return inner_wrapper\n",
    "    return outer_wrapper"
   ]
  },
  {
   "cell_type": "code",
   "execution_count": 60,
   "id": "a9f4ac57",
   "metadata": {},
   "outputs": [],
   "source": [
    "@tag_creator('h6')\n",
    "def say(string):\n",
    "    return string"
   ]
  },
  {
   "cell_type": "code",
   "execution_count": 61,
   "id": "4772370d",
   "metadata": {},
   "outputs": [
    {
     "data": {
      "text/plain": [
       "'<h6>Hello World!</h6>'"
      ]
     },
     "execution_count": 61,
     "metadata": {},
     "output_type": "execute_result"
    }
   ],
   "source": [
    "say(\"Hello World!\")"
   ]
  },
  {
   "cell_type": "code",
   "execution_count": 62,
   "id": "6450a974",
   "metadata": {},
   "outputs": [],
   "source": [
    "@tag_creator('center')\n",
    "def say(string):\n",
    "    return string"
   ]
  },
  {
   "cell_type": "code",
   "execution_count": 63,
   "id": "63c9c3b8",
   "metadata": {},
   "outputs": [
    {
     "data": {
      "text/plain": [
       "'<center>Hello World!</center>'"
      ]
     },
     "execution_count": 63,
     "metadata": {},
     "output_type": "execute_result"
    }
   ],
   "source": [
    "say(\"Hello World!\")"
   ]
  }
 ],
 "metadata": {
  "kernelspec": {
   "display_name": "Python 3 (ipykernel)",
   "language": "python",
   "name": "python3"
  },
  "language_info": {
   "codemirror_mode": {
    "name": "ipython",
    "version": 3
   },
   "file_extension": ".py",
   "mimetype": "text/x-python",
   "name": "python",
   "nbconvert_exporter": "python",
   "pygments_lexer": "ipython3",
   "version": "3.10.1"
  }
 },
 "nbformat": 4,
 "nbformat_minor": 5
}

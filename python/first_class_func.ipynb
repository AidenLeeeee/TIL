{
 "cells": [
  {
   "cell_type": "markdown",
   "id": "14d04315",
   "metadata": {},
   "source": [
    "# 1.1. Nested Function"
   ]
  },
  {
   "cell_type": "markdown",
   "id": "f0828b5c",
   "metadata": {},
   "source": [
    "- 함수 내부에 새로운 함수를 정의하는 기법"
   ]
  },
  {
   "cell_type": "code",
   "execution_count": 6,
   "id": "7cb6f58b",
   "metadata": {},
   "outputs": [],
   "source": [
    "def index_creator(tag):\n",
    "    def inner(msgList):\n",
    "        for msg in msgList:\n",
    "            print(f\"{tag} {msg}\")\n",
    "    \n",
    "    return inner"
   ]
  },
  {
   "cell_type": "code",
   "execution_count": 7,
   "id": "91bfd491",
   "metadata": {},
   "outputs": [
    {
     "name": "stdout",
     "output_type": "stream",
     "text": [
      "- hi\n",
      "- I'm\n",
      "- Aiden\n"
     ]
    }
   ],
   "source": [
    "func1 = index_creator('-')\n",
    "func1([\"hi\", \"I'm\", \"Aiden\"])"
   ]
  },
  {
   "cell_type": "markdown",
   "id": "6b6ea66f",
   "metadata": {},
   "source": [
    "# 1.2. Closure Function"
   ]
  },
  {
   "cell_type": "markdown",
   "id": "5a74fca9",
   "metadata": {},
   "source": [
    "- 내부에 정의된 함수를 return 으로 받아 변수에 저장해 활용\n",
    "- 외부 함수가 소멸되더라도 내부 함수가 생성될 당시의 Scope 를 기억하고 있으므로 외부에서 활용이 가능\n",
    "- 함수형 프로그래밍에서 고안된 기법"
   ]
  },
  {
   "cell_type": "code",
   "execution_count": 18,
   "id": "8a1e31fa",
   "metadata": {},
   "outputs": [],
   "source": [
    "def outer_func(num):\n",
    "    def inner_func():\n",
    "        print(num)\n",
    "        return 'hello'\n",
    "    \n",
    "    return inner_func"
   ]
  },
  {
   "cell_type": "code",
   "execution_count": 19,
   "id": "f4bfa954",
   "metadata": {},
   "outputs": [
    {
     "name": "stdout",
     "output_type": "stream",
     "text": [
      "10\n"
     ]
    },
    {
     "data": {
      "text/plain": [
       "'hello'"
      ]
     },
     "execution_count": 19,
     "metadata": {},
     "output_type": "execute_result"
    }
   ],
   "source": [
    "closure_func = outer_func(10)\n",
    "closure_func()"
   ]
  },
  {
   "cell_type": "markdown",
   "id": "2a822b11",
   "metadata": {},
   "source": [
    "- 위 예시에서 closure_func 이 생성될 때, outer_func 의 num 변수값을 기억"
   ]
  },
  {
   "cell_type": "code",
   "execution_count": 20,
   "id": "c2ec9f31",
   "metadata": {},
   "outputs": [],
   "source": [
    "del outer_func"
   ]
  },
  {
   "cell_type": "code",
   "execution_count": 21,
   "id": "ddfe90ab",
   "metadata": {},
   "outputs": [
    {
     "name": "stdout",
     "output_type": "stream",
     "text": [
      "10\n"
     ]
    },
    {
     "data": {
      "text/plain": [
       "'hello'"
      ]
     },
     "execution_count": 21,
     "metadata": {},
     "output_type": "execute_result"
    }
   ],
   "source": [
    "closure_func()"
   ]
  },
  {
   "cell_type": "markdown",
   "id": "c8266660",
   "metadata": {},
   "source": [
    "- 심지어, outer_func 을 제거하더라도 outer_func 의 local scope 환경을 기억"
   ]
  },
  {
   "cell_type": "markdown",
   "id": "9d76db55",
   "metadata": {},
   "source": [
    "# 1.3. First Class Function"
   ]
  },
  {
   "cell_type": "markdown",
   "id": "145e7c1e",
   "metadata": {},
   "source": [
    "### **`First Class Function`** 의 기능\n",
    "- **변수**에 담을 수 있다.\n",
    "- **파라미터**로 전달할 수 있다.\n",
    "- **Return 값**으로 전달할 수 있다.\n",
    "<br>\n",
    "<br>\n",
    "- **Python 의 모든 함수는 객체**이므로 First Class Function 을 지원"
   ]
  }
 ],
 "metadata": {
  "kernelspec": {
   "display_name": "Python 3 (ipykernel)",
   "language": "python",
   "name": "python3"
  },
  "language_info": {
   "codemirror_mode": {
    "name": "ipython",
    "version": 3
   },
   "file_extension": ".py",
   "mimetype": "text/x-python",
   "name": "python",
   "nbconvert_exporter": "python",
   "pygments_lexer": "ipython3",
   "version": "3.10.1"
  }
 },
 "nbformat": 4,
 "nbformat_minor": 5
}

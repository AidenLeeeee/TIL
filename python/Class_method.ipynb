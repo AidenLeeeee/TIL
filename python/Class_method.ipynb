{
 "cells": [
  {
   "cell_type": "markdown",
   "id": "835ee8ad",
   "metadata": {},
   "source": [
    "# 1.1. Class Method"
   ]
  },
  {
   "cell_type": "markdown",
   "id": "f7c337cd",
   "metadata": {},
   "source": [
    "- **클래스 변수**: 클래스 정의에서 method 밖에 존재하는 변수\n",
    "    - 해당 클래스를 사용하는 모든 클래스 및 인스턴스에게 공통적으로 사용되는 변수\n",
    "    - 클래스 변수는 클래스 **내외부**에서 `{Class_name}.{attr_name}` 으로 엑세스 가능\n",
    "<br>\n",
    "<br>\n",
    "- **인스턴스 변수**: 클래스 정의에서 method 안에 존재하는 변수\n",
    "    - 각 객체 별로 서로 다른 값을 가지는 변수\n",
    "    - 인스턴스 변수는 클래스 **내부**에서 `self.{attr_name}` 로 엑세스 가능\n",
    "    - 인스턴스 변수는 클래스 **외부**에서 `{object_name}.{attr_name}` 로 엑세스 가능"
   ]
  },
  {
   "cell_type": "code",
   "execution_count": 9,
   "id": "499f2afa",
   "metadata": {},
   "outputs": [],
   "source": [
    "class Figure:\n",
    "    count = 0\n",
    "    \n",
    "    def __init__(self, width, height):\n",
    "        self.width = width\n",
    "        self.height = height\n",
    "        \n",
    "        Figure.count += 1\n",
    "        \n",
    "    def __del__(self):\n",
    "        Figure.count -= 1"
   ]
  },
  {
   "cell_type": "code",
   "execution_count": 10,
   "id": "05b565fd",
   "metadata": {},
   "outputs": [
    {
     "name": "stdout",
     "output_type": "stream",
     "text": [
      "1\n",
      "2\n"
     ]
    }
   ],
   "source": [
    "figure = Figure(2, 3)\n",
    "print(Figure.count)\n",
    "figure2 = Figure(2, 3)\n",
    "print(Figure.count)"
   ]
  },
  {
   "cell_type": "markdown",
   "id": "91615e57",
   "metadata": {},
   "source": [
    "- **count** 는 각 객체 내부에 종속되지 않은 **클래스 변수**"
   ]
  },
  {
   "cell_type": "markdown",
   "id": "8a3e2661",
   "metadata": {},
   "source": [
    "### **`Instance Method, Static Method, Class Method`**"
   ]
  },
  {
   "cell_type": "markdown",
   "id": "1912fb22",
   "metadata": {},
   "source": [
    "- **Instance Method**: 해당 객체 안에서 호출\n",
    "    - **method** 를 호출한 객체에게만 영향\n",
    "    - 객체 **attr** 에 접근 가능\n",
    "    - 클래스 **내부**에서는 `self.{method_name}`\n",
    "    - 클래스 **외부**에서는 `{object_name}.{method_name}`\n",
    "<br>\n",
    "<br>\n",
    "- **Static Method**: 객체와 독립적이지만, 클래스 내에서 정의되는 메서드\n",
    "    - **self** 파라미터 사용 불가\n",
    "    - 객체 **attr** 에 접근 불가\n",
    "    - **@staticmethod** Decorator\n",
    "    - `{Class_name}.{method_name}` or `{object_name}.{method_name}` 모두 호출 가능"
   ]
  },
  {
   "cell_type": "code",
   "execution_count": 13,
   "id": "cf02d8da",
   "metadata": {},
   "outputs": [],
   "source": [
    "class Figure:\n",
    "    def __init__(self, width, height):\n",
    "        self.width = width\n",
    "        self.height = height\n",
    "        \n",
    "    def calc_area(self):\n",
    "        return self.width * self.height\n",
    "    \n",
    "    @staticmethod\n",
    "    def is_square(rect_width, rect_height):\n",
    "        if rect_width == rect_height:\n",
    "            print(\"정사각형입니다.\")\n",
    "        else:\n",
    "            print(\"정사각형이 아닙니다.\")"
   ]
  },
  {
   "cell_type": "code",
   "execution_count": 14,
   "id": "f325596f",
   "metadata": {},
   "outputs": [
    {
     "name": "stdout",
     "output_type": "stream",
     "text": [
      "정사각형입니다.\n",
      "정사각형이 아닙니다.\n"
     ]
    }
   ],
   "source": [
    "figure1 = Figure(2, 3)\n",
    "figure1.is_square(5, 5)\n",
    "Figure.is_square(4, 5)"
   ]
  },
  {
   "cell_type": "markdown",
   "id": "03fa9e81",
   "metadata": {},
   "source": [
    "- **staticmethod** 정의할 때, **self** 로 객체의 **attr** 에 접근하는 것은 불가능\n",
    "- 하지만 아래 예시와 같이 **staticmethod** 는 **클래스 변수** 에 접근이 가능"
   ]
  },
  {
   "cell_type": "code",
   "execution_count": 19,
   "id": "11a67585",
   "metadata": {},
   "outputs": [],
   "source": [
    "class Figure:\n",
    "    count = 0\n",
    "    \n",
    "    def __init__(self, width, height):\n",
    "        self.width = width\n",
    "        self.height = height\n",
    "        Figure.count += 1\n",
    "        \n",
    "    def __del__(self):\n",
    "        Figure.count -= 1\n",
    "        \n",
    "    @staticmethod\n",
    "    def print_count():\n",
    "        print(Figure.count)"
   ]
  },
  {
   "cell_type": "code",
   "execution_count": 20,
   "id": "fd2a153d",
   "metadata": {},
   "outputs": [
    {
     "name": "stdout",
     "output_type": "stream",
     "text": [
      "1\n"
     ]
    }
   ],
   "source": [
    "figure = Figure(5, 5)\n",
    "Figure.print_count()"
   ]
  },
  {
   "cell_type": "markdown",
   "id": "fc11a3f6",
   "metadata": {},
   "source": [
    "- **Class Method**: 해당 클래스 안에서 호출\n",
    "    - **self** 대신 **cls** 파라미터 사용\n",
    "    - 클래스 **attr** 에 접근 가능\n",
    "    - 객체 **attr** **method** 에는 접근 불가능\n",
    "    - **@classmethod** Decorator\n",
    "    - `{Class_name}.{method_name}` or `{Class_name}.{method_name}` 모두 호출 가능"
   ]
  },
  {
   "cell_type": "code",
   "execution_count": 21,
   "id": "bc2751db",
   "metadata": {},
   "outputs": [],
   "source": [
    "class Figure1:\n",
    "    count = 0\n",
    "    \n",
    "    def __init__(self, width, height):\n",
    "        self.width = width\n",
    "        self.height = height\n",
    "        Figure1.count += 1\n",
    "        \n",
    "    def clac_area(self):\n",
    "        return self.width * self.height\n",
    "    \n",
    "    @classmethod\n",
    "    def print_count(cls):\n",
    "        return cls.count"
   ]
  },
  {
   "cell_type": "code",
   "execution_count": 22,
   "id": "d07edbbf",
   "metadata": {},
   "outputs": [
    {
     "name": "stdout",
     "output_type": "stream",
     "text": [
      "2\n",
      "2\n",
      "2\n"
     ]
    }
   ],
   "source": [
    "figure1 = Figure1(2, 3)\n",
    "figure2 = Figure1(4, 5)\n",
    "print(Figure1.count)\n",
    "print(Figure1.print_count())\n",
    "print(Figure1.print_count())"
   ]
  },
  {
   "cell_type": "markdown",
   "id": "4d0be477",
   "metadata": {},
   "source": [
    "# 1.2. Static Method 와 Class Method"
   ]
  },
  {
   "cell_type": "code",
   "execution_count": 23,
   "id": "ec219e98",
   "metadata": {},
   "outputs": [],
   "source": [
    "class Figure:\n",
    "    @classmethod\n",
    "    def set_name(cls, name):\n",
    "        cls.name = name"
   ]
  },
  {
   "cell_type": "code",
   "execution_count": 24,
   "id": "0a1cbe8f",
   "metadata": {},
   "outputs": [],
   "source": [
    "class Circle(Figure):\n",
    "    pass"
   ]
  },
  {
   "cell_type": "code",
   "execution_count": 29,
   "id": "9703e765",
   "metadata": {},
   "outputs": [
    {
     "name": "stdout",
     "output_type": "stream",
     "text": [
      "Figure.name: figure | Circle.name: figure\n"
     ]
    }
   ],
   "source": [
    "Figure.set_name(\"figure\")\n",
    "print(\"Figure.name:\", Figure.name, \"| Circle.name:\", Circle.name)"
   ]
  },
  {
   "cell_type": "code",
   "execution_count": 30,
   "id": "f61feacc",
   "metadata": {},
   "outputs": [
    {
     "name": "stdout",
     "output_type": "stream",
     "text": [
      "Figure.name: figure | Circle.name: circle\n"
     ]
    }
   ],
   "source": [
    "Circle.set_name(\"circle\")\n",
    "print(\"Figure.name:\", Figure.name, \"| Circle.name:\", Circle.name)"
   ]
  },
  {
   "cell_type": "markdown",
   "id": "eed31db0",
   "metadata": {},
   "source": [
    "- **Class Method** 는 **해당 클래스 자체** 에만 영향을 미치기 때문에 **상위 클래스 변수** 를 변경할 수 없다.\n",
    "- 상속받는 **하위 클래스 변수** 는 함께 변경"
   ]
  },
  {
   "cell_type": "code",
   "execution_count": 31,
   "id": "291867b5",
   "metadata": {},
   "outputs": [],
   "source": [
    "class Figure:\n",
    "    @staticmethod\n",
    "    def set_name(name):\n",
    "        Figure.name = name"
   ]
  },
  {
   "cell_type": "code",
   "execution_count": 32,
   "id": "de2fd905",
   "metadata": {},
   "outputs": [],
   "source": [
    "class Circle(Figure):\n",
    "    pass"
   ]
  },
  {
   "cell_type": "code",
   "execution_count": 33,
   "id": "c7297c7d",
   "metadata": {},
   "outputs": [
    {
     "name": "stdout",
     "output_type": "stream",
     "text": [
      "Figure.name: figure | Circle.name: figure\n"
     ]
    }
   ],
   "source": [
    "Figure.set_name(\"figure\")\n",
    "print(\"Figure.name:\", Figure.name, \"| Circle.name:\", Circle.name)"
   ]
  },
  {
   "cell_type": "code",
   "execution_count": 34,
   "id": "ce96bd07",
   "metadata": {},
   "outputs": [
    {
     "name": "stdout",
     "output_type": "stream",
     "text": [
      "Figure.name: circle | Circle.name: circle\n"
     ]
    }
   ],
   "source": [
    "Circle.set_name(\"circle\")\n",
    "print(\"Figure.name:\", Figure.name, \"| Circle.name:\", Circle.name)"
   ]
  },
  {
   "cell_type": "markdown",
   "id": "841bf6bb",
   "metadata": {},
   "source": [
    "- **Static Method** 는 **self** 와 **cls** 를 모두 사용할 수 없으며,\n",
    "- 클래스에 종속되지 않기 때문에 **모든 클래스의 변수** 를 변경한다.\n",
    "- 따라서, **Static Method** 는 별개의 함수로 생각할 수 있다."
   ]
  }
 ],
 "metadata": {
  "kernelspec": {
   "display_name": "Python 3 (ipykernel)",
   "language": "python",
   "name": "python3"
  },
  "language_info": {
   "codemirror_mode": {
    "name": "ipython",
    "version": 3
   },
   "file_extension": ".py",
   "mimetype": "text/x-python",
   "name": "python",
   "nbconvert_exporter": "python",
   "pygments_lexer": "ipython3",
   "version": "3.10.1"
  }
 },
 "nbformat": 4,
 "nbformat_minor": 5
}

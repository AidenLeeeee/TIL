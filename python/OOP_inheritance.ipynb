{
 "cells": [
  {
   "cell_type": "markdown",
   "id": "dfd27782",
   "metadata": {},
   "source": [
    "# 1.1. Inheritance"
   ]
  },
  {
   "cell_type": "markdown",
   "id": "01ecd9d4",
   "metadata": {},
   "source": [
    "### **`Class Inheritance`**"
   ]
  },
  {
   "cell_type": "markdown",
   "id": "474d4055",
   "metadata": {},
   "source": [
    "- **추상화(Abstraction)**: 여러 클래스에 공통으로 존재하는 속성과 메서드를 하나의 클래스로 작성하는 작업\n",
    "- **상속(Inheritance)**: 추상화한 클래스의 공통적인 기능들을 물려받고, 다른 부분을 추가 혹은 변경하는 것\n",
    "    - 이 때 추상화된 기본 클래스는 부모 클래스(상위 클래스), Parent, Super, Base Class\n",
    "    - 부모 클래스의 기능을 물려받는 클래스는 자식 클래스(하위 클래스), Child, Sub, Derived Class"
   ]
  },
  {
   "cell_type": "markdown",
   "id": "e90c5124",
   "metadata": {},
   "source": [
    "- 참고로, 부모 클래스가 둘 이상이 경우는 다중 상속이라고 부름"
   ]
  },
  {
   "cell_type": "markdown",
   "id": "5ceaac85",
   "metadata": {},
   "source": [
    "#### **`Parent`**"
   ]
  },
  {
   "cell_type": "code",
   "execution_count": 1,
   "id": "028b880c",
   "metadata": {},
   "outputs": [],
   "source": [
    "class Figure:\n",
    "    def __init__(self, name, color):\n",
    "        self.name = name\n",
    "        self.color = color"
   ]
  },
  {
   "cell_type": "markdown",
   "id": "3a168fa5",
   "metadata": {},
   "source": [
    "#### **`Child`**"
   ]
  },
  {
   "cell_type": "code",
   "execution_count": 2,
   "id": "9332b72c",
   "metadata": {},
   "outputs": [],
   "source": [
    "class Quadrangle(Figure):\n",
    "    def set_area(self, width, height):\n",
    "        self.width = width\n",
    "        self.height = height\n",
    "        \n",
    "    def get_info(self):\n",
    "        print(self.name, self.color, self.width * self.height)"
   ]
  },
  {
   "cell_type": "code",
   "execution_count": 3,
   "id": "698e71a6",
   "metadata": {},
   "outputs": [
    {
     "name": "stdout",
     "output_type": "stream",
     "text": [
      "aiden red 25\n"
     ]
    }
   ],
   "source": [
    "square = Quadrangle('aiden', 'red')\n",
    "square.set_area(5, 5)\n",
    "square.get_info()"
   ]
  },
  {
   "cell_type": "markdown",
   "id": "50ed8ecb",
   "metadata": {},
   "source": [
    "- 결론적으로, **Quadrangle** 의 **attr** 는 4 개, **method** 는 3 개를 가지게 된다."
   ]
  },
  {
   "cell_type": "markdown",
   "id": "b10dd3fb",
   "metadata": {},
   "source": [
    "#### **`issubclass(Child, Parent)`**"
   ]
  },
  {
   "cell_type": "markdown",
   "id": "f99dc4de",
   "metadata": {},
   "source": [
    "- issubclass(Child, Parent) 메서드를 활용해 상속 관계 클래스를 확인 가능하다."
   ]
  },
  {
   "cell_type": "code",
   "execution_count": 4,
   "id": "1ecb33c7",
   "metadata": {},
   "outputs": [
    {
     "data": {
      "text/plain": [
       "True"
      ]
     },
     "execution_count": 4,
     "metadata": {},
     "output_type": "execute_result"
    }
   ],
   "source": [
    "issubclass(Quadrangle, Figure)"
   ]
  },
  {
   "cell_type": "markdown",
   "id": "4b7df44b",
   "metadata": {},
   "source": [
    "#### **`isinstance(Object, Class)`**"
   ]
  },
  {
   "cell_type": "markdown",
   "id": "f5195081",
   "metadata": {},
   "source": [
    "- isinstance(Object, Class) 메서드를 활용해 클래스와 객체 간 관계를 확인 가능하다."
   ]
  },
  {
   "cell_type": "code",
   "execution_count": 5,
   "id": "c96f1fed",
   "metadata": {},
   "outputs": [
    {
     "data": {
      "text/plain": [
       "True"
      ]
     },
     "execution_count": 5,
     "metadata": {},
     "output_type": "execute_result"
    }
   ],
   "source": [
    "isinstance(square, Figure)"
   ]
  },
  {
   "cell_type": "code",
   "execution_count": 7,
   "id": "1adb8eac",
   "metadata": {},
   "outputs": [
    {
     "data": {
      "text/plain": [
       "True"
      ]
     },
     "execution_count": 7,
     "metadata": {},
     "output_type": "execute_result"
    }
   ],
   "source": [
    "isinstance(square, Quadrangle)"
   ]
  },
  {
   "cell_type": "markdown",
   "id": "ad7ec403",
   "metadata": {},
   "source": [
    "# 1.2. Method Override"
   ]
  },
  {
   "cell_type": "markdown",
   "id": "53aae788",
   "metadata": {},
   "source": [
    "- **Parent** 의 **method** 를 **Child** 에서 **Override** 할 수 있다.\n",
    "- **Child** 에서 **Parent** 의 **method** 를 **Override** 한다.\n",
    "- **Child** 에서는 **Override** 된 **method** 가 호출된다.\n",
    "- **Child** 에서 **Parent** 내의 **method** 이름과 동일하면 **Override** 가 가능하다."
   ]
  },
  {
   "cell_type": "code",
   "execution_count": 8,
   "id": "685b9e5d",
   "metadata": {},
   "outputs": [],
   "source": [
    "class Person:\n",
    "    def __init__(self, name):\n",
    "        self.name = name\n",
    "    \n",
    "    def work(self):\n",
    "        print(self.name + \" work hard\")"
   ]
  },
  {
   "cell_type": "code",
   "execution_count": 9,
   "id": "03775215",
   "metadata": {},
   "outputs": [],
   "source": [
    "class Student(Person):\n",
    "    def work(self):\n",
    "        print(self.name + \" studies hard\")"
   ]
  },
  {
   "cell_type": "code",
   "execution_count": 11,
   "id": "ed77b613",
   "metadata": {},
   "outputs": [
    {
     "name": "stdout",
     "output_type": "stream",
     "text": [
      "Aiden studies hard\n"
     ]
    }
   ],
   "source": [
    "student1 = Student('Aiden')\n",
    "student1.work()"
   ]
  },
  {
   "cell_type": "markdown",
   "id": "2b7891e3",
   "metadata": {},
   "source": [
    "- **Parent** 에는 존재하지 않는 새로운 **method** 혹은 **attribute** 를 **Child** 에서 추가할 수도 있다."
   ]
  },
  {
   "cell_type": "markdown",
   "id": "9c6ad780",
   "metadata": {},
   "source": [
    "# 1.3. super and self"
   ]
  },
  {
   "cell_type": "markdown",
   "id": "ffb6d749",
   "metadata": {},
   "source": [
    "### **`super()`**"
   ]
  },
  {
   "cell_type": "markdown",
   "id": "cfe10ada",
   "metadata": {},
   "source": [
    "- **Child** 에서 **Parent** 의 **method** 를 호출할 때 사용\n",
    "    - `super().{_Parent_method_name_}`\n",
    "<br>\n",
    "<br>\n",
    "- `super()` 는 **Parent** 를 가리킨다."
   ]
  },
  {
   "cell_type": "code",
   "execution_count": 12,
   "id": "e176900d",
   "metadata": {},
   "outputs": [],
   "source": [
    "class Person:\n",
    "    def work(self):\n",
    "        print('work hard')"
   ]
  },
  {
   "cell_type": "code",
   "execution_count": 13,
   "id": "bd075c7f",
   "metadata": {},
   "outputs": [],
   "source": [
    "class Student(Person):\n",
    "    def work(self):\n",
    "        print('study hard')\n",
    "        \n",
    "    def parttime(self):\n",
    "        super().work()"
   ]
  },
  {
   "cell_type": "code",
   "execution_count": 14,
   "id": "95318605",
   "metadata": {},
   "outputs": [
    {
     "name": "stdout",
     "output_type": "stream",
     "text": [
      "study hard\n",
      "work hard\n"
     ]
    }
   ],
   "source": [
    "student1 = Student()\n",
    "student1.work()\n",
    "student1.parttime()"
   ]
  },
  {
   "cell_type": "markdown",
   "id": "0f3eba44",
   "metadata": {},
   "source": [
    "### **`self`**"
   ]
  },
  {
   "cell_type": "markdown",
   "id": "f0b94de3",
   "metadata": {},
   "source": [
    "- **super()** 와 다르게 **self** 는 현재 객체를 나타낸다.\n",
    "    - `self.{_method_name_}` or `self.{_attr_name_}`"
   ]
  },
  {
   "cell_type": "code",
   "execution_count": 15,
   "id": "0ded3b51",
   "metadata": {},
   "outputs": [],
   "source": [
    "class Person:\n",
    "    def work(self):\n",
    "        print('work hard')"
   ]
  },
  {
   "cell_type": "code",
   "execution_count": 16,
   "id": "ce5ba896",
   "metadata": {},
   "outputs": [],
   "source": [
    "class Student(Person):\n",
    "    def work(self):\n",
    "        print('study hard')\n",
    "        \n",
    "    def parttime(self):\n",
    "        super().work()\n",
    "        \n",
    "    def general(self):\n",
    "        self.work()"
   ]
  },
  {
   "cell_type": "code",
   "execution_count": 17,
   "id": "1aa29ea5",
   "metadata": {},
   "outputs": [
    {
     "name": "stdout",
     "output_type": "stream",
     "text": [
      "study hard\n",
      "work hard\n",
      "study hard\n"
     ]
    }
   ],
   "source": [
    "student1 = Student()\n",
    "student1.work()\n",
    "student1.parttime()\n",
    "student1.general()"
   ]
  }
 ],
 "metadata": {
  "kernelspec": {
   "display_name": "Python 3 (ipykernel)",
   "language": "python",
   "name": "python3"
  },
  "language_info": {
   "codemirror_mode": {
    "name": "ipython",
    "version": 3
   },
   "file_extension": ".py",
   "mimetype": "text/x-python",
   "name": "python",
   "nbconvert_exporter": "python",
   "pygments_lexer": "ipython3",
   "version": "3.10.1"
  }
 },
 "nbformat": 4,
 "nbformat_minor": 5
}

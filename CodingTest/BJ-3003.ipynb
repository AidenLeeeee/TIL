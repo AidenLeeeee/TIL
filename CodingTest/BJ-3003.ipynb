{
 "cells": [
  {
   "cell_type": "markdown",
   "id": "f934a953",
   "metadata": {},
   "source": [
    "# #3033"
   ]
  },
  {
   "cell_type": "markdown",
   "id": "65b9a3c5",
   "metadata": {},
   "source": [
    "### Problem"
   ]
  },
  {
   "cell_type": "markdown",
   "id": "f722b39b",
   "metadata": {},
   "source": [
    "> 동혁이는 오래된 창고를 뒤지다가 낡은 체스판과 피스를 발견했다.\n",
    "<br>\n",
    "체스판의 먼지를 털어내고 걸레로 닦으니 그럭저럭 쓸만한 체스판이 되었다. 하지만, 검정색 피스는 모두 있었으나, 흰색 피스는 개수가 올바르지 않았다.\n",
    "<br>\n",
    "체스는 총 16개의 피스를 사용하며, 킹 1개, 퀸 1개, 룩 2개, 비숍 2개, 나이트 2개, 폰 8개로 구성되어 있다.\n",
    "<br>\n",
    "동혁이가 발견한 흰색 피스의 개수가 주어졌을 때, 몇 개를 더하거나 빼야 올바른 세트가 되는지 구하는 프로그램을 작성하시오."
   ]
  },
  {
   "cell_type": "markdown",
   "id": "3fda659e",
   "metadata": {},
   "source": [
    "### Input"
   ]
  },
  {
   "cell_type": "markdown",
   "id": "3228f09c",
   "metadata": {},
   "source": [
    "> 첫째 줄에 동혁이가 찾은 흰색 킹, 퀸, 룩, 비숍, 나이트, 폰의 개수가 주어진다. 이 값은 0보다 크거나 같고 10보다 작거나 같은 정수이다."
   ]
  },
  {
   "cell_type": "markdown",
   "id": "c2db17a8",
   "metadata": {},
   "source": [
    "> 0 1 2 2 2 7"
   ]
  },
  {
   "cell_type": "markdown",
   "id": "a39412cc",
   "metadata": {},
   "source": [
    "### Output"
   ]
  },
  {
   "cell_type": "markdown",
   "id": "21c6b6c3",
   "metadata": {},
   "source": [
    "> 첫째 줄에 입력에서 주어진 순서대로 몇 개의 피스를 더하거나 빼야 되는지를 출력한다. 만약 수가 양수라면 동혁이는 그 개수 만큼 피스를 더해야 하는 것이고, 음수라면 제거해야 하는 것이다."
   ]
  },
  {
   "cell_type": "markdown",
   "id": "ab693990",
   "metadata": {},
   "source": [
    "> 1 0 0 0 0 1"
   ]
  },
  {
   "cell_type": "markdown",
   "id": "b8c15f9d",
   "metadata": {},
   "source": [
    "### Code"
   ]
  },
  {
   "cell_type": "code",
   "execution_count": 6,
   "id": "794cf8b2",
   "metadata": {},
   "outputs": [
    {
     "name": "stdout",
     "output_type": "stream",
     "text": [
      "2 1 2 1 2 1\n",
      "-1 0 0 1 0 7\n"
     ]
    }
   ],
   "source": [
    "K, Q, R, B, Kn, P = 1, 1, 2, 2, 2, 8\n",
    "\n",
    "k, q, r, b, kn, p = map(int, input().split())\n",
    "print(K-k, Q-q, R-r, B-b, Kn-kn, P-p)"
   ]
  },
  {
   "cell_type": "code",
   "execution_count": 8,
   "id": "5307efc0",
   "metadata": {},
   "outputs": [
    {
     "name": "stdout",
     "output_type": "stream",
     "text": [
      "0 1 2 2 2 7\n",
      "1 0 0 0 0 1 "
     ]
    }
   ],
   "source": [
    "label = [1, 1, 2, 2, 2, 8]\n",
    "x = list(map(int, input().split()))\n",
    "for i in range(6):\n",
    "    print(label[i] - x[i], end=' ')"
   ]
  }
 ],
 "metadata": {
  "kernelspec": {
   "display_name": "Python 3 (ipykernel)",
   "language": "python",
   "name": "python3"
  },
  "language_info": {
   "codemirror_mode": {
    "name": "ipython",
    "version": 3
   },
   "file_extension": ".py",
   "mimetype": "text/x-python",
   "name": "python",
   "nbconvert_exporter": "python",
   "pygments_lexer": "ipython3",
   "version": "3.10.1"
  }
 },
 "nbformat": 4,
 "nbformat_minor": 5
}

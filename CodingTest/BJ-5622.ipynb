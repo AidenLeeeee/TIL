{
 "cells": [
  {
   "cell_type": "markdown",
   "id": "5a4cec96",
   "metadata": {},
   "source": [
    "# #5622"
   ]
  },
  {
   "cell_type": "markdown",
   "id": "a31d8996",
   "metadata": {},
   "source": [
    "### Problem"
   ]
  },
  {
   "cell_type": "markdown",
   "id": "0a40303b",
   "metadata": {},
   "source": [
    "> 상근이의 할머니는 아래 그림과 같이 오래된 다이얼 전화기를 사용한다."
   ]
  },
  {
   "cell_type": "markdown",
   "id": "4792c594",
   "metadata": {},
   "source": [
    "<img src='https://upload.acmicpc.net/9c88dd24-3a4c-4a09-bc50-e6496958214d/-/preview/' />"
   ]
  },
  {
   "cell_type": "markdown",
   "id": "41129141",
   "metadata": {},
   "source": [
    "> 전화를 걸고 싶은 번호가 있다면, 숫자를 하나를 누른 다음에 금속 핀이 있는 곳 까지 시계방향으로 돌려야 한다. 숫자를 하나 누르면 다이얼이 처음 위치로 돌아가고, 다음 숫자를 누르려면 다이얼을 처음 위치에서 다시 돌려야 한다.\n",
    "<br>\n",
    "숫자 1을 걸려면 총 2초가 필요하다. 1보다 큰 수를 거는데 걸리는 시간은 이보다 더 걸리며, 한 칸 옆에 있는 숫자를 걸기 위해선 1초씩 더 걸린다.\n",
    "<br>\n",
    "상근이의 할머니는 전화 번호를 각 숫자에 해당하는 문자로 외운다. 즉, 어떤 단어를 걸 때, 각 알파벳에 해당하는 숫자를 걸면 된다. 예를 들어, UNUCIC는 868242와 같다.\n",
    "<br>\n",
    "할머니가 외운 단어가 주어졌을 때, 이 전화를 걸기 위해서 필요한 최소 시간을 구하는 프로그램을 작성하시오."
   ]
  },
  {
   "cell_type": "markdown",
   "id": "eb04cc80",
   "metadata": {},
   "source": [
    "### Input"
   ]
  },
  {
   "cell_type": "markdown",
   "id": "f44445cb",
   "metadata": {},
   "source": [
    "> 첫째 줄에 알파벳 대문자로 이루어진 단어가 주어진다. 단어의 길이는 2보다 크거나 같고, 15보다 작거나 같다."
   ]
  },
  {
   "cell_type": "markdown",
   "id": "c98a3de5",
   "metadata": {},
   "source": [
    "> UNUCIC"
   ]
  },
  {
   "cell_type": "markdown",
   "id": "c7ef687e",
   "metadata": {},
   "source": [
    "### Output"
   ]
  },
  {
   "cell_type": "markdown",
   "id": "98412d22",
   "metadata": {},
   "source": [
    "> 첫째 줄에 다이얼을 걸기 위해서 필요한 최소 시간을 출력한다."
   ]
  },
  {
   "cell_type": "markdown",
   "id": "caf8fe97",
   "metadata": {},
   "source": [
    "> 36"
   ]
  },
  {
   "cell_type": "markdown",
   "id": "e38b775a",
   "metadata": {},
   "source": [
    "### Code"
   ]
  },
  {
   "cell_type": "code",
   "execution_count": 15,
   "id": "582a1095",
   "metadata": {},
   "outputs": [],
   "source": [
    "def get_time_for_dial():\n",
    "    dList = ['ABC', 'DEF', 'GHI', 'JKL', 'MNO', 'PQRS', 'TUV', 'WXYZ']\n",
    "    time = 0\n",
    "\n",
    "    dAlphabet = input()\n",
    "\n",
    "    for alphabet in dAlphabet:\n",
    "        for index, dial in enumerate(dList):\n",
    "            if alphabet in dial:\n",
    "                dialNum = index+2\n",
    "                time += dialNum+1\n",
    "    return time"
   ]
  },
  {
   "cell_type": "code",
   "execution_count": 16,
   "id": "eb28da03",
   "metadata": {},
   "outputs": [
    {
     "name": "stdout",
     "output_type": "stream",
     "text": [
      "UNUCIC\n"
     ]
    },
    {
     "data": {
      "text/plain": [
       "36"
      ]
     },
     "execution_count": 16,
     "metadata": {},
     "output_type": "execute_result"
    }
   ],
   "source": [
    "get_time_for_dial()"
   ]
  }
 ],
 "metadata": {
  "kernelspec": {
   "display_name": "Python 3 (ipykernel)",
   "language": "python",
   "name": "python3"
  },
  "language_info": {
   "codemirror_mode": {
    "name": "ipython",
    "version": 3
   },
   "file_extension": ".py",
   "mimetype": "text/x-python",
   "name": "python",
   "nbconvert_exporter": "python",
   "pygments_lexer": "ipython3",
   "version": "3.10.1"
  }
 },
 "nbformat": 4,
 "nbformat_minor": 5
}

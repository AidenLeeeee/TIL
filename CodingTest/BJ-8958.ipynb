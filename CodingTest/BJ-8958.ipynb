{
 "cells": [
  {
   "cell_type": "markdown",
   "id": "e47eaaca",
   "metadata": {},
   "source": [
    "# #8958"
   ]
  },
  {
   "cell_type": "markdown",
   "id": "c027bc9e",
   "metadata": {},
   "source": [
    "### Problem"
   ]
  },
  {
   "cell_type": "markdown",
   "id": "ee653cf0",
   "metadata": {},
   "source": [
    "> \"OOXXOXXOOO\"와 같은 OX퀴즈의 결과가 있다. O는 문제를 맞은 것이고, X는 문제를 틀린 것이다. 문제를 맞은 경우 그 문제의 점수는 그 문제까지 연속된 O의 개수가 된다. 예를 들어, 10번 문제의 점수는 3이 된다.<br>\n",
    "\"OOXXOXXOOO\"의 점수는 1+2+0+0+1+0+0+1+2+3 = 10점이다.\n",
    "<br>\n",
    "OX퀴즈의 결과가 주어졌을 때, 점수를 구하는 프로그램을 작성하시오."
   ]
  },
  {
   "cell_type": "markdown",
   "id": "994e60b0",
   "metadata": {},
   "source": [
    "### Input"
   ]
  },
  {
   "cell_type": "markdown",
   "id": "efaa1a38",
   "metadata": {},
   "source": [
    "> 첫째 줄에 테스트 케이스의 개수가 주어진다. 각 테스트 케이스는 한 줄로 이루어져 있고, 길이가 0보다 크고 80보다 작은 문자열이 주어진다. 문자열은 O와 X만으로 이루어져 있다.\n",
    "\n",
    "> 5<br>\n",
    "OOXXOXXOOO<br>\n",
    "OOXXOOXXOO<br>\n",
    "OXOXOXOXOXOXOX<br>\n",
    "OOOOOOOOOO<br>\n",
    "OOOOXOOOOXOOOOX<br>"
   ]
  },
  {
   "cell_type": "markdown",
   "id": "32e13636",
   "metadata": {},
   "source": [
    "### Output"
   ]
  },
  {
   "cell_type": "markdown",
   "id": "4bf01511",
   "metadata": {},
   "source": [
    "> 각 테스트 케이스마다 점수를 출력한다.\n",
    "\n",
    "> 10<br>\n",
    "9<br>\n",
    "7<br>\n",
    "55<br>\n",
    "30<br>"
   ]
  },
  {
   "cell_type": "markdown",
   "id": "9c9546d5",
   "metadata": {},
   "source": [
    "### Code"
   ]
  },
  {
   "cell_type": "code",
   "execution_count": 1,
   "id": "7348c69f",
   "metadata": {},
   "outputs": [
    {
     "name": "stdout",
     "output_type": "stream",
     "text": [
      "5\n",
      "OOXXOXXOOO\n",
      "10\n",
      "OOXXOOXXOO\n",
      "9\n",
      "OXOXOXOXOXOXOX\n",
      "7\n",
      "OOOOOOOOOO\n",
      "55\n",
      "OOOOXOOOOXOOOOX\n",
      "30\n"
     ]
    }
   ],
   "source": [
    "def calculate_score(inputs):\n",
    "    scores = []\n",
    "    count = 0\n",
    "    for ch in inputs:\n",
    "        if ch == 'O':\n",
    "            count += 1\n",
    "            scores.append(count)\n",
    "        else:\n",
    "            count = 0\n",
    "    return sum(scores)\n",
    "\n",
    "N = int(input())\n",
    "for _ in range(N):\n",
    "    inputs = input()\n",
    "    print(calculate_score(inputs))"
   ]
  }
 ],
 "metadata": {
  "kernelspec": {
   "display_name": "Python 3 (ipykernel)",
   "language": "python",
   "name": "python3"
  },
  "language_info": {
   "codemirror_mode": {
    "name": "ipython",
    "version": 3
   },
   "file_extension": ".py",
   "mimetype": "text/x-python",
   "name": "python",
   "nbconvert_exporter": "python",
   "pygments_lexer": "ipython3",
   "version": "3.10.1"
  }
 },
 "nbformat": 4,
 "nbformat_minor": 5
}

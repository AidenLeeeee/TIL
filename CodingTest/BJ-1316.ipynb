{
 "cells": [
  {
   "cell_type": "markdown",
   "id": "37f3370f",
   "metadata": {},
   "source": [
    "# #1316"
   ]
  },
  {
   "cell_type": "markdown",
   "id": "17b56efe",
   "metadata": {},
   "source": [
    "### Problem"
   ]
  },
  {
   "cell_type": "markdown",
   "id": "98a0224f",
   "metadata": {},
   "source": [
    "> 그룹 단어란 단어에 존재하는 모든 문자에 대해서, 각 문자가 연속해서 나타나는 경우만을 말한다. 예를 들면, ccazzzzbb는 c, a, z, b가 모두 연속해서 나타나고, kin도 k, i, n이 연속해서 나타나기 때문에 그룹 단어이지만, aabbbccb는 b가 떨어져서 나타나기 때문에 그룹 단어가 아니다.\n",
    "<br>\n",
    "<br>\n",
    "단어 N개를 입력으로 받아 그룹 단어의 개수를 출력하는 프로그램을 작성하시오."
   ]
  },
  {
   "cell_type": "markdown",
   "id": "aeca219f",
   "metadata": {},
   "source": [
    "### Input"
   ]
  },
  {
   "cell_type": "markdown",
   "id": "7762480e",
   "metadata": {},
   "source": [
    "> 첫째 줄에 단어의 개수 N이 들어온다. N은 100보다 작거나 같은 자연수이다. 둘째 줄부터 N개의 줄에 단어가 들어온다. 단어는 알파벳 소문자로만 되어있고 중복되지 않으며, 길이는 최대 100이다."
   ]
  },
  {
   "cell_type": "markdown",
   "id": "5053289d",
   "metadata": {},
   "source": [
    "> 3\n",
    "<br>\n",
    "happy\n",
    "<br>\n",
    "new\n",
    "<br>\n",
    "year"
   ]
  },
  {
   "cell_type": "markdown",
   "id": "8aa2b8b2",
   "metadata": {},
   "source": [
    "### Output"
   ]
  },
  {
   "cell_type": "markdown",
   "id": "9393c71b",
   "metadata": {},
   "source": [
    "> 첫째 줄에 그룹 단어의 개수를 출력한다."
   ]
  },
  {
   "cell_type": "markdown",
   "id": "83f1a9c3",
   "metadata": {},
   "source": [
    "> 3"
   ]
  },
  {
   "cell_type": "markdown",
   "id": "63c2fd3c",
   "metadata": {},
   "source": [
    "### Code"
   ]
  },
  {
   "cell_type": "code",
   "execution_count": 14,
   "id": "db8f960f",
   "metadata": {},
   "outputs": [],
   "source": [
    "def check_group_word():\n",
    "    word = input()\n",
    "    hist = []\n",
    "    last = word[0]\n",
    "\n",
    "    for cur in word[1:]:\n",
    "        if cur in hist:\n",
    "            return False\n",
    "\n",
    "        if last != cur:\n",
    "            hist.append(last)\n",
    "            last = cur\n",
    "        \n",
    "    return True"
   ]
  },
  {
   "cell_type": "code",
   "execution_count": 15,
   "id": "32e2caa9",
   "metadata": {},
   "outputs": [
    {
     "name": "stdout",
     "output_type": "stream",
     "text": [
      "3\n",
      "happy\n",
      "new\n",
      "year\n",
      "3\n"
     ]
    }
   ],
   "source": [
    "N = int(input())\n",
    "count = 0\n",
    "for _ in range(N):\n",
    "    if check_group_word():\n",
    "        count += 1\n",
    "\n",
    "print(count)"
   ]
  }
 ],
 "metadata": {
  "kernelspec": {
   "display_name": "Python 3 (ipykernel)",
   "language": "python",
   "name": "python3"
  },
  "language_info": {
   "codemirror_mode": {
    "name": "ipython",
    "version": 3
   },
   "file_extension": ".py",
   "mimetype": "text/x-python",
   "name": "python",
   "nbconvert_exporter": "python",
   "pygments_lexer": "ipython3",
   "version": "3.10.1"
  }
 },
 "nbformat": 4,
 "nbformat_minor": 5
}

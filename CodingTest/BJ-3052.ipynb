{
 "cells": [
  {
   "cell_type": "markdown",
   "id": "17b636b6",
   "metadata": {},
   "source": [
    "# #3052"
   ]
  },
  {
   "cell_type": "markdown",
   "id": "af43e1e0",
   "metadata": {},
   "source": [
    "### Problem"
   ]
  },
  {
   "cell_type": "markdown",
   "id": "505bbec6",
   "metadata": {},
   "source": [
    "> 두 자연수 A와 B가 있을 때, A%B는 A를 B로 나눈 나머지 이다. 예를 들어, 7, 14, 27, 38을 3으로 나눈 나머지는 1, 2, 0, 2이다.<br>\n",
    "수 10개를 입력받은 뒤, 이를 42로 나눈 나머지를 구한다. 그 다음 서로 다른 값이 몇 개 있는지 출력하는 프로그램을 작성하시오."
   ]
  },
  {
   "cell_type": "markdown",
   "id": "1c47af96",
   "metadata": {},
   "source": [
    "### Input"
   ]
  },
  {
   "cell_type": "markdown",
   "id": "22b71885",
   "metadata": {},
   "source": [
    "> 첫째 줄부터 열번째 줄 까지 숫자가 한 줄에 하나씩 주어진다. 이 숫자는 1,000보다 작거나 같고, 음이 아닌 정수이다.\n",
    "\n",
    "> 1<br>\n",
    "2<br>\n",
    "3<br>\n",
    "4<br>\n",
    "5<br>\n",
    "6<br>\n",
    "7<br>\n",
    "8<br>\n",
    "9<br>\n",
    "10<br>"
   ]
  },
  {
   "cell_type": "markdown",
   "id": "e6252b03",
   "metadata": {},
   "source": [
    "### Output"
   ]
  },
  {
   "cell_type": "markdown",
   "id": "0e8b6a70",
   "metadata": {},
   "source": [
    "> 첫째 줄에, 42로 나누었을 때, 서로 다른 나머지가 몇 개 있는지 출력한다.\n",
    "\n",
    "> 10"
   ]
  },
  {
   "cell_type": "markdown",
   "id": "d37dcf8f",
   "metadata": {},
   "source": [
    "### Code"
   ]
  },
  {
   "cell_type": "code",
   "execution_count": 1,
   "id": "41d2534f",
   "metadata": {},
   "outputs": [
    {
     "name": "stdout",
     "output_type": "stream",
     "text": [
      "1\n",
      "2\n",
      "3\n",
      "4\n",
      "5\n",
      "6\n",
      "7\n",
      "8\n",
      "9\n",
      "10\n",
      "10\n"
     ]
    }
   ],
   "source": [
    "rlist = []\n",
    "\n",
    "for _ in range(10):\n",
    "    num = int(input())\n",
    "    rest = num % 42\n",
    "    rlist.append(rest)\n",
    "    \n",
    "diffcount = len(set(rlist))\n",
    "print(diffcount)"
   ]
  }
 ],
 "metadata": {
  "kernelspec": {
   "display_name": "Python 3 (ipykernel)",
   "language": "python",
   "name": "python3"
  },
  "language_info": {
   "codemirror_mode": {
    "name": "ipython",
    "version": 3
   },
   "file_extension": ".py",
   "mimetype": "text/x-python",
   "name": "python",
   "nbconvert_exporter": "python",
   "pygments_lexer": "ipython3",
   "version": "3.10.1"
  }
 },
 "nbformat": 4,
 "nbformat_minor": 5
}

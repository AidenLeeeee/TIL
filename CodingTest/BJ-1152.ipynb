{
 "cells": [
  {
   "cell_type": "markdown",
   "id": "f7349423",
   "metadata": {},
   "source": [
    "# #1152"
   ]
  },
  {
   "cell_type": "markdown",
   "id": "e4df9976",
   "metadata": {},
   "source": [
    "### Problem"
   ]
  },
  {
   "cell_type": "markdown",
   "id": "7cf7b829",
   "metadata": {},
   "source": [
    "> 영어 대소문자와 공백으로 이루어진 문자열이 주어진다. 이 문자열에는 몇 개의 단어가 있을까? 이를 구하는 프로그램을 작성하시오. 단, 한 단어가 여러 번 등장하면 등장한 횟수만큼 모두 세어야 한다."
   ]
  },
  {
   "cell_type": "markdown",
   "id": "9d11cbba",
   "metadata": {},
   "source": [
    "### Input"
   ]
  },
  {
   "cell_type": "markdown",
   "id": "099460a1",
   "metadata": {},
   "source": [
    "> 첫 줄에 영어 대소문자와 공백으로 이루어진 문자열이 주어진다. 이 문자열의 길이는 1,000,000을 넘지 않는다. 단어는 공백 한 개로 구분되며, 공백이 연속해서 나오는 경우는 없다. 또한 문자열은 공백으로 시작하거나 끝날 수 있다."
   ]
  },
  {
   "cell_type": "markdown",
   "id": "f1d1e9cc",
   "metadata": {},
   "source": [
    "> The Curious Case of Benjamin Button"
   ]
  },
  {
   "cell_type": "markdown",
   "id": "c4239bb3",
   "metadata": {},
   "source": [
    "### Output"
   ]
  },
  {
   "cell_type": "markdown",
   "id": "a6478966",
   "metadata": {},
   "source": [
    "> 첫째 줄에 단어의 개수를 출력한다."
   ]
  },
  {
   "cell_type": "markdown",
   "id": "c8c95613",
   "metadata": {},
   "source": [
    "> 6"
   ]
  },
  {
   "cell_type": "markdown",
   "id": "3de9ecdf",
   "metadata": {},
   "source": [
    "### Code"
   ]
  },
  {
   "cell_type": "code",
   "execution_count": 1,
   "id": "f258d644",
   "metadata": {},
   "outputs": [
    {
     "name": "stdout",
     "output_type": "stream",
     "text": [
      "The Curious Case of Benjamin Button\n",
      "6\n"
     ]
    }
   ],
   "source": [
    "S = input().split()\n",
    "print(len(S))"
   ]
  }
 ],
 "metadata": {
  "kernelspec": {
   "display_name": "Python 3 (ipykernel)",
   "language": "python",
   "name": "python3"
  },
  "language_info": {
   "codemirror_mode": {
    "name": "ipython",
    "version": 3
   },
   "file_extension": ".py",
   "mimetype": "text/x-python",
   "name": "python",
   "nbconvert_exporter": "python",
   "pygments_lexer": "ipython3",
   "version": "3.10.1"
  }
 },
 "nbformat": 4,
 "nbformat_minor": 5
}

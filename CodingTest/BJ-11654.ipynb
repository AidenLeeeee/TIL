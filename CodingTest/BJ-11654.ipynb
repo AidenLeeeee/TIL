{
 "cells": [
  {
   "cell_type": "markdown",
   "id": "72530166",
   "metadata": {},
   "source": [
    "# #11654"
   ]
  },
  {
   "cell_type": "markdown",
   "id": "7942a447",
   "metadata": {},
   "source": [
    "### Problem"
   ]
  },
  {
   "cell_type": "markdown",
   "id": "7c1d25aa",
   "metadata": {},
   "source": [
    "> 알파벳 소문자, 대문자, 숫자 0-9중 하나가 주어졌을 때, 주어진 글자의 아스키 코드값을 출력하는 프로그램을 작성하시오."
   ]
  },
  {
   "cell_type": "markdown",
   "id": "770b728f",
   "metadata": {},
   "source": [
    "### Input"
   ]
  },
  {
   "cell_type": "markdown",
   "id": "c4cf5e4e",
   "metadata": {},
   "source": [
    "> 알파벳 소문자, 대문자, 숫자 0-9 중 하나가 첫째 줄에 주어진다."
   ]
  },
  {
   "cell_type": "markdown",
   "id": "6b0aafc6",
   "metadata": {},
   "source": [
    "> A"
   ]
  },
  {
   "cell_type": "markdown",
   "id": "2562b557",
   "metadata": {},
   "source": [
    "### Output"
   ]
  },
  {
   "cell_type": "markdown",
   "id": "7a64f175",
   "metadata": {},
   "source": [
    "> 입력으로 주어진 글자의 아스키 코드 값을 출력한다."
   ]
  },
  {
   "cell_type": "markdown",
   "id": "98a1c942",
   "metadata": {},
   "source": [
    "> 65"
   ]
  },
  {
   "cell_type": "markdown",
   "id": "e70b5a66",
   "metadata": {},
   "source": [
    "### Code"
   ]
  },
  {
   "cell_type": "code",
   "execution_count": 18,
   "id": "6026284f",
   "metadata": {},
   "outputs": [
    {
     "name": "stdout",
     "output_type": "stream",
     "text": [
      "9\n",
      "57\n"
     ]
    }
   ],
   "source": [
    "a = input()\n",
    "print(ord(a))"
   ]
  }
 ],
 "metadata": {
  "kernelspec": {
   "display_name": "Python 3 (ipykernel)",
   "language": "python",
   "name": "python3"
  },
  "language_info": {
   "codemirror_mode": {
    "name": "ipython",
    "version": 3
   },
   "file_extension": ".py",
   "mimetype": "text/x-python",
   "name": "python",
   "nbconvert_exporter": "python",
   "pygments_lexer": "ipython3",
   "version": "3.10.1"
  }
 },
 "nbformat": 4,
 "nbformat_minor": 5
}

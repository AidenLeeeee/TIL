{
 "cells": [
  {
   "cell_type": "markdown",
   "id": "037d5873",
   "metadata": {},
   "source": [
    "# #1157"
   ]
  },
  {
   "cell_type": "markdown",
   "id": "74a2dece",
   "metadata": {},
   "source": [
    "### Problem"
   ]
  },
  {
   "cell_type": "markdown",
   "id": "33a86451",
   "metadata": {},
   "source": [
    "> 알파벳 대소문자로 된 단어가 주어지면, 이 단어에서 가장 많이 사용된 알파벳이 무엇인지 알아내는 프로그램을 작성하시오. 단, 대문자와 소문자를 구분하지 않는다."
   ]
  },
  {
   "cell_type": "markdown",
   "id": "4495139b",
   "metadata": {},
   "source": [
    "### Input"
   ]
  },
  {
   "cell_type": "markdown",
   "id": "92a084cc",
   "metadata": {},
   "source": [
    "> 첫째 줄에 알파벳 대소문자로 이루어진 단어가 주어진다. 주어지는 단어의 길이는 1,000,000을 넘지 않는다."
   ]
  },
  {
   "cell_type": "markdown",
   "id": "37fbcb6e",
   "metadata": {},
   "source": [
    "> Mississipi"
   ]
  },
  {
   "cell_type": "markdown",
   "id": "ded41676",
   "metadata": {},
   "source": [
    "> zZa"
   ]
  },
  {
   "cell_type": "markdown",
   "id": "685b6cae",
   "metadata": {},
   "source": [
    "### Output"
   ]
  },
  {
   "cell_type": "markdown",
   "id": "1a79e1ef",
   "metadata": {},
   "source": [
    "> 첫째 줄에 이 단어에서 가장 많이 사용된 알파벳을 대문자로 출력한다. 단, 가장 많이 사용된 알파벳이 여러 개 존재하는 경우에는 ?를 출력한다."
   ]
  },
  {
   "cell_type": "markdown",
   "id": "97bb60a7",
   "metadata": {},
   "source": [
    "> ?"
   ]
  },
  {
   "cell_type": "markdown",
   "id": "cf548529",
   "metadata": {},
   "source": [
    "> Z"
   ]
  },
  {
   "cell_type": "markdown",
   "id": "96c8f4f8",
   "metadata": {},
   "source": [
    "### Code"
   ]
  },
  {
   "cell_type": "code",
   "execution_count": 27,
   "id": "e79422c2",
   "metadata": {},
   "outputs": [
    {
     "name": "stdout",
     "output_type": "stream",
     "text": [
      "zZa\n",
      "Z\n"
     ]
    }
   ],
   "source": [
    "from collections import Counter\n",
    "\n",
    "S = input()\n",
    "S = S.upper()\n",
    "counter = Counter(S).most_common()\n",
    "\n",
    "if len(counter) > 1 and counter[0][1] == counter[1][1]:\n",
    "    print(\"?\")\n",
    "else:\n",
    "    print(counter[0][0])"
   ]
  },
  {
   "cell_type": "code",
   "execution_count": 31,
   "id": "306e5c12",
   "metadata": {},
   "outputs": [
    {
     "name": "stdout",
     "output_type": "stream",
     "text": [
      "zZa\n",
      "Z\n"
     ]
    }
   ],
   "source": [
    "S = input().upper()\n",
    "spells = list(set(S))\n",
    "clist = [S.count(spell) for spell in spells]\n",
    "\n",
    "if clist.count(max(clist)) > 1:\n",
    "    print(\"?\")\n",
    "else:\n",
    "    print(spells[clist.index(max(clist))])"
   ]
  }
 ],
 "metadata": {
  "kernelspec": {
   "display_name": "Python 3 (ipykernel)",
   "language": "python",
   "name": "python3"
  },
  "language_info": {
   "codemirror_mode": {
    "name": "ipython",
    "version": 3
   },
   "file_extension": ".py",
   "mimetype": "text/x-python",
   "name": "python",
   "nbconvert_exporter": "python",
   "pygments_lexer": "ipython3",
   "version": "3.10.1"
  }
 },
 "nbformat": 4,
 "nbformat_minor": 5
}

{
 "cells": [
  {
   "cell_type": "markdown",
   "id": "34bb751d",
   "metadata": {},
   "source": [
    "# #15596"
   ]
  },
  {
   "cell_type": "markdown",
   "id": "c690732e",
   "metadata": {},
   "source": [
    "### Problem"
   ]
  },
  {
   "cell_type": "markdown",
   "id": "6e50f470",
   "metadata": {},
   "source": [
    "> 정수 n개가 주어졌을 때, n개의 합을 구하는 함수를 작성하시오.<br>\n",
    "작성해야 하는 함수는 다음과 같다.\n",
    "\n",
    "> - Python 2, Python 3, PyPy, PyPy3: def solve(a: list) -> int\n",
    "    - a: 합을 구해야 하는 정수 n개가 저장되어 있는 리스트 (0 ≤ a[i] ≤ 1,000,000, 1 ≤ n ≤ 3,000,000)\n",
    "    - 리턴값: a에 포함되어 있는 정수 n개의 합 (정수)"
   ]
  },
  {
   "cell_type": "markdown",
   "id": "00279bdd",
   "metadata": {},
   "source": [
    "### Code"
   ]
  },
  {
   "cell_type": "code",
   "execution_count": null,
   "id": "c2970419",
   "metadata": {},
   "outputs": [],
   "source": [
    "def solve(a):\n",
    "    ans = 0\n",
    "    for num in a:\n",
    "        ans += num\n",
    "    return ans"
   ]
  }
 ],
 "metadata": {
  "kernelspec": {
   "display_name": "Python 3 (ipykernel)",
   "language": "python",
   "name": "python3"
  },
  "language_info": {
   "codemirror_mode": {
    "name": "ipython",
    "version": 3
   },
   "file_extension": ".py",
   "mimetype": "text/x-python",
   "name": "python",
   "nbconvert_exporter": "python",
   "pygments_lexer": "ipython3",
   "version": "3.10.1"
  }
 },
 "nbformat": 4,
 "nbformat_minor": 5
}

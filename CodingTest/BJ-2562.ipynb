{
 "cells": [
  {
   "cell_type": "markdown",
   "id": "ca033c92",
   "metadata": {},
   "source": [
    "# #2562"
   ]
  },
  {
   "cell_type": "markdown",
   "id": "ec9cd641",
   "metadata": {},
   "source": [
    "### Problem"
   ]
  },
  {
   "cell_type": "markdown",
   "id": "bd1b47c4",
   "metadata": {},
   "source": [
    "> 9개의 서로 다른 자연수가 주어질 때, 이들 중 최댓값을 찾고 그 최댓값이 몇 번째 수인지를 구하는 프로그램을 작성하시오.<br>\n",
    "예를 들어, 서로 다른 9개의 자연수\n",
    "3, 29, 38, 12, 57, 74, 40, 85, 61\n",
    "이 주어지면, 이들 중 최댓값은 85이고, 이 값은 8번째 수이다."
   ]
  },
  {
   "cell_type": "markdown",
   "id": "77c70e12",
   "metadata": {},
   "source": [
    "### Input"
   ]
  },
  {
   "cell_type": "markdown",
   "id": "a294405c",
   "metadata": {},
   "source": [
    "> 첫째 줄부터 아홉 번째 줄까지 한 줄에 하나의 자연수가 주어진다. 주어지는 자연수는 100 보다 작다.\n",
    "\n",
    "> 3<br>\n",
    "29<br>\n",
    "38<br>\n",
    "12<br>\n",
    "57<br>\n",
    "74<br>\n",
    "40<br>\n",
    "85<br>\n",
    "61<br>"
   ]
  },
  {
   "cell_type": "markdown",
   "id": "f1956d75",
   "metadata": {},
   "source": [
    "### Output"
   ]
  },
  {
   "cell_type": "markdown",
   "id": "6aeeb005",
   "metadata": {},
   "source": [
    "> 85<br>\n",
    "8"
   ]
  },
  {
   "cell_type": "markdown",
   "id": "262d0c15",
   "metadata": {},
   "source": [
    "### Code"
   ]
  },
  {
   "cell_type": "code",
   "execution_count": 1,
   "id": "02ccd858",
   "metadata": {},
   "outputs": [
    {
     "name": "stdout",
     "output_type": "stream",
     "text": [
      "3\n",
      "29\n",
      "38\n",
      "12\n",
      "57\n",
      "74\n",
      "40\n",
      "85\n",
      "61\n",
      "85\n",
      "8\n"
     ]
    }
   ],
   "source": [
    "maxnum = 0\n",
    "\n",
    "for idx in range(1, 10):\n",
    "    num = int(input())\n",
    "    if num > maxnum:\n",
    "        maxnum = num\n",
    "        maxidx = idx\n",
    "\n",
    "print(maxnum)\n",
    "print(maxidx)"
   ]
  }
 ],
 "metadata": {
  "kernelspec": {
   "display_name": "Python 3 (ipykernel)",
   "language": "python",
   "name": "python3"
  },
  "language_info": {
   "codemirror_mode": {
    "name": "ipython",
    "version": 3
   },
   "file_extension": ".py",
   "mimetype": "text/x-python",
   "name": "python",
   "nbconvert_exporter": "python",
   "pygments_lexer": "ipython3",
   "version": "3.10.1"
  }
 },
 "nbformat": 4,
 "nbformat_minor": 5
}

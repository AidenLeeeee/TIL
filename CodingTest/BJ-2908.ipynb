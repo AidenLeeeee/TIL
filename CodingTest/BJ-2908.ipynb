{
 "cells": [
  {
   "cell_type": "markdown",
   "id": "5c7504a4",
   "metadata": {},
   "source": [
    "# #2908"
   ]
  },
  {
   "cell_type": "markdown",
   "id": "24126e56",
   "metadata": {},
   "source": [
    "### Problem"
   ]
  },
  {
   "cell_type": "markdown",
   "id": "5da1f526",
   "metadata": {},
   "source": [
    "> 상근이의 동생 상수는 수학을 정말 못한다. 상수는 숫자를 읽는데 문제가 있다. 이렇게 수학을 못하는 상수를 위해서 상근이는 수의 크기를 비교하는 문제를 내주었다. 상근이는 세 자리 수 두 개를 칠판에 써주었다. 그 다음에 크기가 큰 수를 말해보라고 했다.\n",
    "<br>\n",
    "상수는 수를 다른 사람과 다르게 거꾸로 읽는다. 예를 들어, 734와 893을 칠판에 적었다면, 상수는 이 수를 437과 398로 읽는다. 따라서, 상수는 두 수중 큰 수인 437을 큰 수라고 말할 것이다.\n",
    "<br>\n",
    "두 수가 주어졌을 때, 상수의 대답을 출력하는 프로그램을 작성하시오."
   ]
  },
  {
   "cell_type": "markdown",
   "id": "1f42903d",
   "metadata": {},
   "source": [
    "### Input"
   ]
  },
  {
   "cell_type": "markdown",
   "id": "67db02d6",
   "metadata": {},
   "source": [
    "> 첫째 줄에 상근이가 칠판에 적은 두 수 A와 B가 주어진다. 두 수는 같지 않은 세 자리 수이며, 0이 포함되어 있지 않다."
   ]
  },
  {
   "cell_type": "markdown",
   "id": "a1733159",
   "metadata": {},
   "source": [
    "> 734 893"
   ]
  },
  {
   "cell_type": "markdown",
   "id": "556b65e3",
   "metadata": {},
   "source": [
    "### Output"
   ]
  },
  {
   "cell_type": "markdown",
   "id": "38cece97",
   "metadata": {},
   "source": [
    "> 첫째 줄에 상수의 대답을 출력한다."
   ]
  },
  {
   "cell_type": "markdown",
   "id": "61f21e51",
   "metadata": {},
   "source": [
    "> 437"
   ]
  },
  {
   "cell_type": "markdown",
   "id": "56ff145f",
   "metadata": {},
   "source": [
    "### Code"
   ]
  },
  {
   "cell_type": "code",
   "execution_count": 4,
   "id": "d9c0fb51",
   "metadata": {},
   "outputs": [
    {
     "name": "stdout",
     "output_type": "stream",
     "text": [
      "734 893\n",
      "437\n"
     ]
    }
   ],
   "source": [
    "nlist = input().split()\n",
    "nlist = [int(num[::-1]) for num in nlist]\n",
    "print(max(nlist))"
   ]
  }
 ],
 "metadata": {
  "kernelspec": {
   "display_name": "Python 3 (ipykernel)",
   "language": "python",
   "name": "python3"
  },
  "language_info": {
   "codemirror_mode": {
    "name": "ipython",
    "version": 3
   },
   "file_extension": ".py",
   "mimetype": "text/x-python",
   "name": "python",
   "nbconvert_exporter": "python",
   "pygments_lexer": "ipython3",
   "version": "3.10.1"
  }
 },
 "nbformat": 4,
 "nbformat_minor": 5
}

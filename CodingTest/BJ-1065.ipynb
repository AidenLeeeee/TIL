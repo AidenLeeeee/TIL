{
 "cells": [
  {
   "cell_type": "markdown",
   "id": "e637a14e",
   "metadata": {},
   "source": [
    "# #1065"
   ]
  },
  {
   "cell_type": "markdown",
   "id": "eb3a9a15",
   "metadata": {},
   "source": [
    "### Problem"
   ]
  },
  {
   "cell_type": "markdown",
   "id": "2986c9f7",
   "metadata": {},
   "source": [
    "> 어떤 양의 정수 X의 각 자리가 등차수열을 이룬다면, 그 수를 한수라고 한다. 등차수열은 연속된 두 개의 수의 차이가 일정한 수열을 말한다. N이 주어졌을 때, 1보다 크거나 같고, N보다 작거나 같은 한수의 개수를 출력하는 프로그램을 작성하시오."
   ]
  },
  {
   "cell_type": "markdown",
   "id": "4ac2d974",
   "metadata": {},
   "source": [
    "### Input"
   ]
  },
  {
   "cell_type": "markdown",
   "id": "38f9568f",
   "metadata": {},
   "source": [
    "> 첫째 줄에 1,000보다 작거나 같은 자연수 N이 주어진다.\n",
    "\n",
    "> 110"
   ]
  },
  {
   "cell_type": "markdown",
   "id": "eb49ac10",
   "metadata": {},
   "source": [
    "### Output"
   ]
  },
  {
   "cell_type": "markdown",
   "id": "79ea8c91",
   "metadata": {},
   "source": [
    "> 첫째 줄에 1보다 크거나 같고, N보다 작거나 같은 한수의 개수를 출력한다.\n",
    "\n",
    "> 99"
   ]
  },
  {
   "cell_type": "markdown",
   "id": "bb4928c4",
   "metadata": {},
   "source": [
    "### Code"
   ]
  },
  {
   "cell_type": "code",
   "execution_count": 1,
   "id": "3b2cdb01",
   "metadata": {},
   "outputs": [
    {
     "name": "stdout",
     "output_type": "stream",
     "text": [
      "110\n",
      "99\n"
     ]
    }
   ],
   "source": [
    "def solution(N):\n",
    "    if N < 100:\n",
    "        return N\n",
    "    else:\n",
    "        cnt = 0\n",
    "        for num in range(100, N+1):\n",
    "            if (num // 100 - (num % 100 // 10)) == ((num % 100 // 10) - num % 10):\n",
    "                cnt += 1\n",
    "        cnt += 99\n",
    "        return cnt\n",
    "\n",
    "N = int(input())\n",
    "print(solution(N))"
   ]
  }
 ],
 "metadata": {
  "kernelspec": {
   "display_name": "Python 3 (ipykernel)",
   "language": "python",
   "name": "python3"
  },
  "language_info": {
   "codemirror_mode": {
    "name": "ipython",
    "version": 3
   },
   "file_extension": ".py",
   "mimetype": "text/x-python",
   "name": "python",
   "nbconvert_exporter": "python",
   "pygments_lexer": "ipython3",
   "version": "3.10.1"
  }
 },
 "nbformat": 4,
 "nbformat_minor": 5
}

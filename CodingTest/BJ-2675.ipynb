{
 "cells": [
  {
   "cell_type": "markdown",
   "id": "e90447ff",
   "metadata": {},
   "source": [
    "# #2675"
   ]
  },
  {
   "cell_type": "markdown",
   "id": "c81443f8",
   "metadata": {},
   "source": [
    "### Problem"
   ]
  },
  {
   "cell_type": "markdown",
   "id": "781b3b74",
   "metadata": {},
   "source": [
    "> 문자열 S를 입력받은 후에, 각 문자를 R번 반복해 새 문자열 P를 만든 후 출력하는 프로그램을 작성하시오. 즉, 첫 번째 문자를 R번 반복하고, 두 번째 문자를 R번 반복하는 식으로 P를 만들면 된다. S에는 QR Code \"alphanumeric\" 문자만 들어있다.\n",
    "<br>\n",
    "QR Code \"alphanumeric\" 문자는 0123456789ABCDEFGHIJKLMNOPQRSTUVWXYZ\\$%*+-./: 이다."
   ]
  },
  {
   "cell_type": "markdown",
   "id": "176126c2",
   "metadata": {},
   "source": [
    "### Input"
   ]
  },
  {
   "cell_type": "markdown",
   "id": "07e5cb26",
   "metadata": {},
   "source": [
    "> 첫째 줄에 테스트 케이스의 개수 T(1 ≤ T ≤ 1,000)가 주어진다. 각 테스트 케이스는 반복 횟수 R(1 ≤ R ≤ 8), 문자열 S가 공백으로 구분되어 주어진다. S의 길이는 적어도 1이며, 20글자를 넘지 않는다. "
   ]
  },
  {
   "cell_type": "markdown",
   "id": "9b687ec2",
   "metadata": {},
   "source": [
    "> 2\n",
    "<br>\n",
    "3 ABC\n",
    "<br>\n",
    "5 /HTP"
   ]
  },
  {
   "cell_type": "markdown",
   "id": "0addccf6",
   "metadata": {},
   "source": [
    "### Output"
   ]
  },
  {
   "cell_type": "markdown",
   "id": "e07ab45b",
   "metadata": {},
   "source": [
    "> 각 테스트 케이스에 대해 P를 출력한다."
   ]
  },
  {
   "cell_type": "markdown",
   "id": "e9a26a00",
   "metadata": {},
   "source": [
    "> AAABBBCCC\n",
    "<br>\n",
    "/////HHHHHTTTTTPPPPP"
   ]
  },
  {
   "cell_type": "markdown",
   "id": "5d9cdd25",
   "metadata": {},
   "source": [
    "### Code"
   ]
  },
  {
   "cell_type": "code",
   "execution_count": 1,
   "id": "878b59a9",
   "metadata": {},
   "outputs": [
    {
     "name": "stdout",
     "output_type": "stream",
     "text": [
      "2\n",
      "3 ABC\n",
      "AAABBBCCC\n",
      "5 /HTP\n",
      "/////HHHHHTTTTTPPPPP\n"
     ]
    }
   ],
   "source": [
    "T = int(input())\n",
    "for _ in range(T):\n",
    "    res = ''\n",
    "    R, S = input().split()\n",
    "    for s in S:\n",
    "        res += s*int(R)\n",
    "    print(res)"
   ]
  }
 ],
 "metadata": {
  "kernelspec": {
   "display_name": "Python 3 (ipykernel)",
   "language": "python",
   "name": "python3"
  },
  "language_info": {
   "codemirror_mode": {
    "name": "ipython",
    "version": 3
   },
   "file_extension": ".py",
   "mimetype": "text/x-python",
   "name": "python",
   "nbconvert_exporter": "python",
   "pygments_lexer": "ipython3",
   "version": "3.10.1"
  }
 },
 "nbformat": 4,
 "nbformat_minor": 5
}

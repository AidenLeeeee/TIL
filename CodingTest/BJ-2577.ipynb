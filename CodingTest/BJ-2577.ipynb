{
 "cells": [
  {
   "cell_type": "markdown",
   "id": "d8975520",
   "metadata": {},
   "source": [
    "# #2577"
   ]
  },
  {
   "cell_type": "markdown",
   "id": "0ef6d6d9",
   "metadata": {},
   "source": [
    "### Problem"
   ]
  },
  {
   "cell_type": "markdown",
   "id": "18d341e7",
   "metadata": {},
   "source": [
    "> 세 개의 자연수 A, B, C가 주어질 때 A × B × C를 계산한 결과에 0부터 9까지 각각의 숫자가 몇 번씩 쓰였는지를 구하는 프로그램을 작성하시오.<br>\n",
    "예를 들어 A = 150, B = 266, C = 427 이라면 A × B × C = 150 × 266 × 427 = 17037300 이 되고, 계산한 결과 17037300 에는 0이 3번, 1이 1번, 3이 2번, 7이 2번 쓰였다."
   ]
  },
  {
   "cell_type": "markdown",
   "id": "35bf21a8",
   "metadata": {},
   "source": [
    "### Input"
   ]
  },
  {
   "cell_type": "markdown",
   "id": "1d3653fe",
   "metadata": {},
   "source": [
    "> 첫째 줄에 A, 둘째 줄에 B, 셋째 줄에 C가 주어진다. A, B, C는 모두 100보다 크거나 같고, 1,000보다 작은 자연수이다.\n",
    "\n",
    "> 150<br>266<br>427"
   ]
  },
  {
   "cell_type": "markdown",
   "id": "d5f67706",
   "metadata": {},
   "source": [
    "### Output"
   ]
  },
  {
   "cell_type": "markdown",
   "id": "52b76f9d",
   "metadata": {},
   "source": [
    "> 첫째 줄에는 A × B × C의 결과에 0 이 몇 번 쓰였는지 출력한다. 마찬가지로 둘째 줄부터 열 번째 줄까지 A × B × C의 결과에 1부터 9까지의 숫자가 각각 몇 번 쓰였는지 차례로 한 줄에 하나씩 출력한다.\n",
    "\n",
    "> 3<br>\n",
    "1<br>\n",
    "0<br>\n",
    "2<br>\n",
    "0<br>\n",
    "0<br>\n",
    "0<br>\n",
    "2<br>\n",
    "0<br>\n",
    "0<br>"
   ]
  },
  {
   "cell_type": "markdown",
   "id": "00b2861d",
   "metadata": {},
   "source": [
    "### Code"
   ]
  },
  {
   "cell_type": "code",
   "execution_count": 1,
   "id": "eca35714",
   "metadata": {},
   "outputs": [
    {
     "name": "stdout",
     "output_type": "stream",
     "text": [
      "150\n",
      "266\n",
      "427\n",
      "3\n",
      "1\n",
      "0\n",
      "2\n",
      "0\n",
      "0\n",
      "0\n",
      "2\n",
      "0\n",
      "0\n"
     ]
    }
   ],
   "source": [
    "from collections import Counter\n",
    "\n",
    "res = 1\n",
    "for _ in range(3):\n",
    "    num = int(input())\n",
    "    res *= num\n",
    "\n",
    "counts = Counter(str(res))\n",
    "klist = '0123456789'\n",
    "\n",
    "for key in klist:\n",
    "    print(counts[key])"
   ]
  }
 ],
 "metadata": {
  "kernelspec": {
   "display_name": "Python 3 (ipykernel)",
   "language": "python",
   "name": "python3"
  },
  "language_info": {
   "codemirror_mode": {
    "name": "ipython",
    "version": 3
   },
   "file_extension": ".py",
   "mimetype": "text/x-python",
   "name": "python",
   "nbconvert_exporter": "python",
   "pygments_lexer": "ipython3",
   "version": "3.10.1"
  }
 },
 "nbformat": 4,
 "nbformat_minor": 5
}

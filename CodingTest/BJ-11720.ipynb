{
 "cells": [
  {
   "cell_type": "markdown",
   "id": "eff58260",
   "metadata": {},
   "source": [
    "# #11720"
   ]
  },
  {
   "cell_type": "markdown",
   "id": "b5a5b493",
   "metadata": {},
   "source": [
    "### Problem"
   ]
  },
  {
   "cell_type": "markdown",
   "id": "08dca44c",
   "metadata": {},
   "source": [
    "> N개의 숫자가 공백 없이 쓰여있다. 이 숫자를 모두 합해서 출력하는 프로그램을 작성하시오."
   ]
  },
  {
   "cell_type": "markdown",
   "id": "173ec171",
   "metadata": {},
   "source": [
    "### Input"
   ]
  },
  {
   "cell_type": "markdown",
   "id": "ba1b8236",
   "metadata": {},
   "source": [
    "> 첫째 줄에 숫자의 개수 N (1 ≤ N ≤ 100)이 주어진다. 둘째 줄에 숫자 N개가 공백없이 주어진다."
   ]
  },
  {
   "cell_type": "markdown",
   "id": "e7ad2f06",
   "metadata": {},
   "source": [
    "> 5\n",
    "<br>\n",
    "54321"
   ]
  },
  {
   "cell_type": "markdown",
   "id": "5f6e78ec",
   "metadata": {},
   "source": [
    "### Output"
   ]
  },
  {
   "cell_type": "markdown",
   "id": "4add82d6",
   "metadata": {},
   "source": [
    "> 입력으로 주어진 숫자 N개의 합을 출력한다."
   ]
  },
  {
   "cell_type": "markdown",
   "id": "98bc6800",
   "metadata": {},
   "source": [
    "> 15"
   ]
  },
  {
   "cell_type": "markdown",
   "id": "9f14a0b6",
   "metadata": {},
   "source": [
    "### Code"
   ]
  },
  {
   "cell_type": "code",
   "execution_count": 1,
   "id": "7f7000af",
   "metadata": {},
   "outputs": [
    {
     "name": "stdout",
     "output_type": "stream",
     "text": [
      "5\n",
      "54321\n",
      "15\n"
     ]
    }
   ],
   "source": [
    "N = int(input())\n",
    "num = input()\n",
    "res = 0\n",
    "\n",
    "for c in num:\n",
    "    res += int(c)\n",
    "\n",
    "print(res)"
   ]
  }
 ],
 "metadata": {
  "kernelspec": {
   "display_name": "Python 3 (ipykernel)",
   "language": "python",
   "name": "python3"
  },
  "language_info": {
   "codemirror_mode": {
    "name": "ipython",
    "version": 3
   },
   "file_extension": ".py",
   "mimetype": "text/x-python",
   "name": "python",
   "nbconvert_exporter": "python",
   "pygments_lexer": "ipython3",
   "version": "3.10.1"
  }
 },
 "nbformat": 4,
 "nbformat_minor": 5
}

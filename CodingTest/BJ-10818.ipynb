{
 "cells": [
  {
   "cell_type": "markdown",
   "id": "255128da",
   "metadata": {},
   "source": [
    "# #10818"
   ]
  },
  {
   "cell_type": "markdown",
   "id": "b5d44679",
   "metadata": {},
   "source": [
    "### Problem"
   ]
  },
  {
   "cell_type": "markdown",
   "id": "70fe9fbe",
   "metadata": {},
   "source": [
    "> N개의 정수가 주어진다. 이때, 최솟값과 최댓값을 구하는 프로그램을 작성하시오."
   ]
  },
  {
   "cell_type": "markdown",
   "id": "836912c5",
   "metadata": {},
   "source": [
    "### Input"
   ]
  },
  {
   "cell_type": "markdown",
   "id": "8b3b498e",
   "metadata": {},
   "source": [
    "> 첫째 줄에 정수의 개수 N (1 ≤ N ≤ 1,000,000)이 주어진다. 둘째 줄에는 N개의 정수를 공백으로 구분해서 주어진다. 모든 정수는 -1,000,000보다 크거나 같고, 1,000,000보다 작거나 같은 정수이다.\n",
    "\n",
    "> 5<br>20 10 35 30 7"
   ]
  },
  {
   "cell_type": "markdown",
   "id": "016ff64f",
   "metadata": {},
   "source": [
    "### Output"
   ]
  },
  {
   "cell_type": "markdown",
   "id": "47675536",
   "metadata": {},
   "source": [
    "> 첫째 줄에 주어진 정수 N개의 최솟값과 최댓값을 공백으로 구분해 출력한다.\n",
    "\n",
    "> 7 35"
   ]
  },
  {
   "cell_type": "markdown",
   "id": "574bb11f",
   "metadata": {},
   "source": [
    "### Code"
   ]
  },
  {
   "cell_type": "code",
   "execution_count": 1,
   "id": "c672096e",
   "metadata": {},
   "outputs": [
    {
     "name": "stdout",
     "output_type": "stream",
     "text": [
      "5\n",
      "20 10 35 30 7\n",
      "7 35\n"
     ]
    }
   ],
   "source": [
    "T = input()\n",
    "nums = input().split()\n",
    "nums = [int(num) for num in nums]\n",
    "\n",
    "print(min(nums), max(nums))"
   ]
  }
 ],
 "metadata": {
  "kernelspec": {
   "display_name": "Python 3 (ipykernel)",
   "language": "python",
   "name": "python3"
  },
  "language_info": {
   "codemirror_mode": {
    "name": "ipython",
    "version": 3
   },
   "file_extension": ".py",
   "mimetype": "text/x-python",
   "name": "python",
   "nbconvert_exporter": "python",
   "pygments_lexer": "ipython3",
   "version": "3.10.1"
  }
 },
 "nbformat": 4,
 "nbformat_minor": 5
}

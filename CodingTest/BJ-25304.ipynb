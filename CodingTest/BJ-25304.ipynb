{
 "cells": [
  {
   "cell_type": "markdown",
   "id": "479ef467",
   "metadata": {},
   "source": [
    "# #25304"
   ]
  },
  {
   "cell_type": "markdown",
   "id": "684b676e",
   "metadata": {},
   "source": [
    "### Problem"
   ]
  },
  {
   "cell_type": "markdown",
   "id": "d19d1155",
   "metadata": {},
   "source": [
    "> 준원이는 저번 주에 살면서 처음으로 코스트코를 가 봤다. 정말 멋졌다. 그런데, 몇 개 담지도 않았는데 수상하게 높은 금액이 나오는 것이다! 준원이는 영수증을 보면서 정확하게 계산된 것이 맞는지 확인해보려 한다.\n",
    "<br>\n",
    "영수증에 적힌,\n",
    "<br>\n",
    "구매한 각 물건의 가격과 개수<br>\n",
    "구매한 물건들의 총 금액\n",
    "<br>\n",
    "을 보고, 구매한 물건의 가격과 개수로 계산한 총 금액이 영수증에 적힌 총 금액과 일치하는지 검사해보자."
   ]
  },
  {
   "cell_type": "markdown",
   "id": "0121fcff",
   "metadata": {},
   "source": [
    "### Input"
   ]
  },
  {
   "cell_type": "markdown",
   "id": "eee53b5e",
   "metadata": {},
   "source": [
    "> 첫째 줄에는 영수증에 적힌 총 금액 $X$가 주어진다.\n",
    "<br>\n",
    "둘째 줄에는 영수증에 적힌 구매한 물건의 종류의 수 $N$이 주어진다.\n",
    "<br>\n",
    "이후 $N$개의 줄에는 각 물건의 가격 $a$와 개수 $b$가 공백을 사이에 두고 주어진다."
   ]
  },
  {
   "cell_type": "markdown",
   "id": "58f64103",
   "metadata": {},
   "source": [
    "> 260000\n",
    "<br>\n",
    "4\n",
    "<br>\n",
    "20000 5\n",
    "<br>\n",
    "30000 2\n",
    "<br>\n",
    "10000 6\n",
    "<br>\n",
    "5000 8"
   ]
  },
  {
   "cell_type": "markdown",
   "id": "2912f95a",
   "metadata": {},
   "source": [
    "### Output"
   ]
  },
  {
   "cell_type": "markdown",
   "id": "32723e70",
   "metadata": {},
   "source": [
    "> Yes"
   ]
  },
  {
   "cell_type": "code",
   "execution_count": 1,
   "id": "d5e2b6ad",
   "metadata": {},
   "outputs": [
    {
     "name": "stdout",
     "output_type": "stream",
     "text": [
      "260000\n",
      "4\n",
      "20000 5\n",
      "30000 2\n",
      "10000 6\n",
      "5000 8\n",
      "Yes\n"
     ]
    }
   ],
   "source": [
    "X = int(input())\n",
    "N = int(input())\n",
    "price = 0\n",
    "\n",
    "for _ in range(N):\n",
    "    a, b = map(int, input().split())\n",
    "    price += a*b\n",
    "\n",
    "if price == X:\n",
    "    print(\"Yes\")\n",
    "else:\n",
    "    print(\"No\")"
   ]
  }
 ],
 "metadata": {
  "kernelspec": {
   "display_name": "Python 3 (ipykernel)",
   "language": "python",
   "name": "python3"
  },
  "language_info": {
   "codemirror_mode": {
    "name": "ipython",
    "version": 3
   },
   "file_extension": ".py",
   "mimetype": "text/x-python",
   "name": "python",
   "nbconvert_exporter": "python",
   "pygments_lexer": "ipython3",
   "version": "3.10.1"
  }
 },
 "nbformat": 4,
 "nbformat_minor": 5
}

{
 "cells": [
  {
   "cell_type": "markdown",
   "id": "e9bbf154",
   "metadata": {},
   "source": [
    "# #2739"
   ]
  },
  {
   "cell_type": "markdown",
   "id": "3157e602",
   "metadata": {},
   "source": [
    "### Problem"
   ]
  },
  {
   "cell_type": "markdown",
   "id": "8f29ef64",
   "metadata": {},
   "source": [
    "> N을 입력받은 뒤, 구구단 N단을 출력하는 프로그램을 작성하시오. 출력 형식에 맞춰서 출력하면 된다."
   ]
  },
  {
   "cell_type": "markdown",
   "id": "816779e2",
   "metadata": {},
   "source": [
    "### Input"
   ]
  },
  {
   "cell_type": "markdown",
   "id": "cd3339e2",
   "metadata": {},
   "source": [
    "> 2"
   ]
  },
  {
   "cell_type": "markdown",
   "id": "54ed6447",
   "metadata": {},
   "source": [
    "### Output"
   ]
  },
  {
   "cell_type": "markdown",
   "id": "3949be2b",
   "metadata": {},
   "source": [
    "> 2 * 1 = 2\n",
    "<br>\n",
    "2 * 2 = 4\n",
    "<br>\n",
    "2 * 3 = 6\n",
    "<br>\n",
    ".\n",
    "<br>\n",
    ".\n",
    "<br>\n",
    ".\n",
    "<br>\n",
    "2 * 9 = 18"
   ]
  },
  {
   "cell_type": "code",
   "execution_count": 1,
   "id": "0e0ceff0",
   "metadata": {},
   "outputs": [
    {
     "name": "stdout",
     "output_type": "stream",
     "text": [
      "2\n",
      "2 * 1 = 2\n",
      "2 * 2 = 4\n",
      "2 * 3 = 6\n",
      "2 * 4 = 8\n",
      "2 * 5 = 10\n",
      "2 * 6 = 12\n",
      "2 * 7 = 14\n",
      "2 * 8 = 16\n",
      "2 * 9 = 18\n"
     ]
    }
   ],
   "source": [
    "N = int(input())\n",
    "\n",
    "for i in range(1, 10):\n",
    "    print(str(N) + \" * \" + str(i) + \" = \" + str(N*i))"
   ]
  }
 ],
 "metadata": {
  "kernelspec": {
   "display_name": "Python 3 (ipykernel)",
   "language": "python",
   "name": "python3"
  },
  "language_info": {
   "codemirror_mode": {
    "name": "ipython",
    "version": 3
   },
   "file_extension": ".py",
   "mimetype": "text/x-python",
   "name": "python",
   "nbconvert_exporter": "python",
   "pygments_lexer": "ipython3",
   "version": "3.10.1"
  }
 },
 "nbformat": 4,
 "nbformat_minor": 5
}
